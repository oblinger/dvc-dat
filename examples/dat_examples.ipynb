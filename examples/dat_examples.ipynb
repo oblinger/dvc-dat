{
 "cells": [
  {
   "cell_type": "code",
   "metadata": {
    "ExecuteTime": {
     "end_time": "2024-06-20T19:10:28.648950Z",
     "start_time": "2024-06-20T19:10:28.645940Z"
    }
   },
   "source": [
    "import os\n",
    "import sys\n",
    "sys.path.append(os.path.dirname(os.path.dirname(os.getcwd())))\n",
    "\n",
    "# setup stuff.  The cell just supports the workbook, you can ignore it\n",
    "\n",
    "EXAMPLE_DO_FOLDER = os.path.join(os.getcwd(), \"example_mounted_folder\")\n",
    "# INSERTION_FOLDER = os.path.join(EXAMPLE_DO_FOLDER, \"script\")\n",
    "\n",
    "def show(base):\n",
    "    with open(do.get_base_object(base).__file__) as file:\n",
    "        contents = file.read()\n",
    "    with_bar = \"\\n  | \".join(contents.split(\"\\n\"))\n",
    "    print(F\"\\n### SHOWING MODULE {'.../'+base+'.py'!r}\\n  | {with_bar}\\n\\n\")\n",
    "\n",
    "\n",
    "sys.path.append(os.path.dirname(os.path.dirname(EXAMPLE_DO_FOLDER)))\n"
   ],
   "outputs": [],
   "execution_count": 1
  },
  {
   "cell_type": "markdown",
   "source": [
    "### Imports"
   ],
   "metadata": {
    "collapsed": false
   }
  },
  {
   "cell_type": "code",
   "source": [
    "# This is the key class and key function for DVC-DAT\n",
    "from dvc_dat import Dat, do"
   ],
   "metadata": {
    "collapsed": false,
    "ExecuteTime": {
     "end_time": "2024-06-20T19:10:29.325977Z",
     "start_time": "2024-06-20T19:10:28.962324Z"
    }
   },
   "outputs": [],
   "execution_count": 2
  },
  {
   "cell_type": "markdown",
   "metadata": {
    "collapsed": false,
    "jupyter": {
     "outputs_hidden": false
    }
   },
   "source": [
    "# Creating Dats\n",
    "A dat is simply a configuration dict stored in its own folder.\n"
   ]
  },
  {
   "cell_type": "code",
   "source": [
    "# Here is a dat created with an implicitly defined path.\n",
    "spec = {\"foo\": \"bar\", \"dat\": {\"my_key1\": \"my_val1\", \"my_key2\": \"my_val2\"}}\n",
    "anon_dat1=Dat.create(spec=spec)\n",
    "anon_dat2=Dat.create(spec=spec)\n",
    "\n",
    "print(f\"dat folder = {anon_dat2.get_path()!r}\")\n",
    "os.system(f\"ls -1 {anon_dat2.get_path()}\")\n",
    "\n",
    "anon_dat2"
   ],
   "metadata": {
    "collapsed": false,
    "ExecuteTime": {
     "end_time": "2024-06-20T19:10:31.866705Z",
     "start_time": "2024-06-20T19:10:31.850877Z"
    }
   },
   "outputs": [
    {
     "name": "stdout",
     "output_type": "stream",
     "text": [
      "dat folder = '/Users/oblinger/ob/proj/dvc-dat/examples/example_sync_folder/anonymous/Dat_12'\n",
      "_spec_.json\n"
     ]
    },
    {
     "data": {
      "text/plain": [
       "<Dat: anonymous/Dat_12>"
      ]
     },
     "execution_count": 3,
     "metadata": {},
     "output_type": "execute_result"
    }
   ],
   "execution_count": 3
  },
  {
   "metadata": {},
   "cell_type": "markdown",
   "source": "#### Creating a dat using a templated path"
  },
  {
   "metadata": {
    "ExecuteTime": {
     "end_time": "2024-06-20T19:10:33.919294Z",
     "start_time": "2024-06-20T19:10:33.915502Z"
    }
   },
   "cell_type": "code",
   "source": [
    "\n",
    "dat0 = Dat.create(path=\"{YYYY}-{MM}-{DD}/my_dat\", spec=spec, overwrite=True)\n",
    "\n",
    "print(f\"dat folder = {dat0.get_path()!r}\")\n",
    "dat0"
   ],
   "outputs": [
    {
     "name": "stdout",
     "output_type": "stream",
     "text": [
      "dat folder = '/Users/oblinger/ob/proj/dvc-dat/examples/example_sync_folder/2024-06-20/my_dat'\n"
     ]
    },
    {
     "data": {
      "text/plain": [
       "<Dat: 2024-06-20/my_dat>"
      ]
     },
     "execution_count": 4,
     "metadata": {},
     "output_type": "execute_result"
    }
   ],
   "execution_count": 4
  },
  {
   "cell_type": "markdown",
   "source": [
    "## Accessing its expected attributes."
   ],
   "metadata": {
    "collapsed": false
   }
  },
  {
   "cell_type": "code",
   "source": [
    "print(f\"dat.my_key1 = {Dat.get(dat0, 'dat.my_key1')!r}\")\n",
    "dat0.get_spec()"
   ],
   "metadata": {
    "collapsed": false,
    "ExecuteTime": {
     "end_time": "2024-06-20T19:10:35.491501Z",
     "start_time": "2024-06-20T19:10:35.488371Z"
    }
   },
   "outputs": [
    {
     "name": "stdout",
     "output_type": "stream",
     "text": [
      "dat.my_key1 = 'my_val1'\n"
     ]
    },
    {
     "data": {
      "text/plain": [
       "{'foo': 'bar', 'dat': {'my_key1': 'my_val1', 'my_key2': 'my_val2'}}"
      ]
     },
     "execution_count": 5,
     "metadata": {},
     "output_type": "execute_result"
    }
   ],
   "execution_count": 5
  },
  {
   "cell_type": "markdown",
   "source": [
    "### The three path accessors\n",
    "- `dat.get_path()`  # this is the full path to the dat's folder\n",
    "- `dat.get_path_name()`  # this is the 'name' of the dat -- it is the suffix of the path relative to the dat_folder\n",
    "- `dat.get_path_tail()`  # this is the last segment of the path -- this tail is the shortname or informal name for this dat"
   ],
   "metadata": {
    "collapsed": false
   }
  },
  {
   "cell_type": "code",
   "source": [
    "print(f\"path = {dat0.get_path()!r}\")\n",
    "print(f\"name = {dat0.get_path_name()!r}\")\n",
    "print(f\"shortname = {dat0.get_path_tail()!r}\")"
   ],
   "metadata": {
    "collapsed": false,
    "ExecuteTime": {
     "end_time": "2024-06-20T19:10:37.464213Z",
     "start_time": "2024-06-20T19:10:37.461580Z"
    }
   },
   "outputs": [
    {
     "name": "stdout",
     "output_type": "stream",
     "text": [
      "path = '/Users/oblinger/ob/proj/dvc-dat/examples/example_sync_folder/2024-06-20/my_dat'\n",
      "name = '2024-06-20/my_dat'\n",
      "shortname = 'my_dat'\n"
     ]
    }
   ],
   "execution_count": 6
  },
  {
   "metadata": {
    "ExecuteTime": {
     "end_time": "2024-06-20T19:10:38.263574Z",
     "start_time": "2024-06-20T19:10:38.257198Z"
    }
   },
   "cell_type": "code",
   "source": [
    "dat2 = dat0.move(\"new_location/the_dat\")\n",
    "dat3 = dat2.copy(\"new_location/the_dat3\")\n",
    "print(f\"dat2 path = {dat2.get_path()!r}\")\n",
    "print(f\"dat3 path_name = {dat3.get_path_name()!r}\")\n",
    "print(f\"dat3 exists: {Dat.exists('new_location/the_dat3')!r}\")\n",
    "dat2.delete()\n",
    "dat3.delete()"
   ],
   "outputs": [
    {
     "name": "stdout",
     "output_type": "stream",
     "text": [
      "dat2 path = '/Users/oblinger/ob/proj/dvc-dat/examples/example_sync_folder/new_location/the_dat'\n",
      "dat3 path_name = 'new_location/the_dat3'\n",
      "dat3 exists: True\n"
     ]
    },
    {
     "data": {
      "text/plain": [
       "True"
      ]
     },
     "execution_count": 7,
     "metadata": {},
     "output_type": "execute_result"
    }
   ],
   "execution_count": 7
  },
  {
   "cell_type": "markdown",
   "source": [
    "# Loading and Saving to DVC\n",
    "\n",
    "    my_dat = dat.get_path_name()  # string that can be used later to get this Dat back\n",
    "    dat.flag()                     # flags this Dat to have a version saved to the DVC backing store.\n",
    "    % ./do flag DAT_NAME           # manually flags a dat to be saved by DVC\n",
    "    % edit flagged_dats.txt        # edit this file to remove dats you don't want to save\n",
    "    % ./do push                     # Processes all flagged dats (adds to DVC, to git, commits & pushes)\n",
    "    dat = Dat.load(my_dat)       # loads same data onto any other computer\n",
    "\n",
    "The \"do push\" command will:\n",
    " (1) add the indicated folder to DVC and push the folder's content to the backing store\n",
    " (2) add the resulting .dvc file to git\n",
    " (3) commit the change to git\n",
    " (4) push the change to the git repository\n",
    "\n",
    "Anytime before the do push, the flagged_dat.txt file can be edited to remove Dats that the user does not want saved to the backing store."
   ],
   "metadata": {
    "collapsed": false
   }
  },
  {
   "metadata": {},
   "cell_type": "markdown",
   "source": ""
  },
  {
   "metadata": {},
   "cell_type": "raw",
   "source": [
    "$ dat add my/folder/name\n",
    "$ dat push\n",
    "$ dat pull\n"
   ]
  },
  {
   "metadata": {},
   "cell_type": "code",
   "outputs": [],
   "execution_count": null,
   "source": ""
  }
 ],
 "metadata": {
  "kernelspec": {
   "display_name": "Python 3 (ipykernel)",
   "language": "python",
   "name": "python3"
  },
  "language_info": {
   "codemirror_mode": {
    "name": "ipython",
    "version": 3
   },
   "file_extension": ".py",
   "mimetype": "text/x-python",
   "name": "python",
   "nbconvert_exporter": "python",
   "pygments_lexer": "ipython3",
   "version": "3.12.0"
  }
 },
 "nbformat": 4,
 "nbformat_minor": 4
}
