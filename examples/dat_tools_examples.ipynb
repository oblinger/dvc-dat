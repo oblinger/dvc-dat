{
 "cells": [
  {
   "cell_type": "code",
   "metadata": {
    "ExecuteTime": {
     "end_time": "2024-12-11T07:35:54.705072Z",
     "start_time": "2024-12-11T07:35:54.676092Z"
    }
   },
   "source": [
    "import os\n",
    "import sys\n",
    "import json\n",
    "sys.path.append(os.path.dirname(os.path.dirname(os.getcwd())))\n",
    "\n",
    "# Setup stuff.  The cell just supports the workbook, you can ignore it\n",
    "EXAMPLE_DO_FOLDER = os.path.join(os.getcwd(), \"example_do_folder\")\n",
    "INSERTION_FOLDER = os.path.join(EXAMPLE_DO_FOLDER, \"hello/do_examples\")\n",
    "\n",
    "def show(base):\n",
    "    with open(do.get_base(base).__file__) as file:\n",
    "        contents = file.read()\n",
    "    with_bar = \"\\n  | \".join(contents.split(\"\\n\"))\n",
    "    print(F\"\\n### SHOWING MODULE {'.../'+base+'.py'!r}\\n  | {with_bar}\\n\\n\")\n",
    "\n",
    "def run_do(*args, **kwargs):\n",
    "    parts = [repr(x) for x in args] + [F\"{k}={v!r}\" for k, v in kwargs.items()]\n",
    "    print(F\"do({', '.join(parts)})\")\n",
    "    result = do(*args, **kwargs)\n",
    "    print(F\"--> {result!r}\")\n",
    "    print()\n",
    "\n",
    "\n",
    "print(F\"### INSERTION FOLDER        = {INSERTION_FOLDER!r}\")\n",
    "print(F\"### DO FOLDER (in Jupyter)  = {EXAMPLE_DO_FOLDER}\")\n",
    "sys.path.append(os.path.dirname(os.path.dirname(EXAMPLE_DO_FOLDER)))\n",
    "from dvc_dat import do   # Add all loadables BEFORE loading this module\n",
    "print(F\"## DO FOLDER (in do module) = {do.do_folder!r}\")\n",
    "if EXAMPLE_DO_FOLDER != do.do_folder:\n",
    "    print(f\"WARNING: EXAMPLE_DO_FOLDER used by jupyter = {EXAMPLE_DO_FOLDER} does not match {do.do_folder}\")\n",
    "if not os.path.exists(INSERTION_FOLDER):\n",
    "    input(f\"WARNING: INSERTION_FOLDER {INSERTION_FOLDER!r} not found.\")\n",
    "    os.makedirs(INSERTION_FOLDER)\n",
    "print(\"\\n\\n\\n\\n\")\n"
   ],
   "outputs": [
    {
     "name": "stdout",
     "output_type": "stream",
     "text": [
      "### INSERTION FOLDER        = '/Users/oblinger/ob/proj/dvc-dat/examples/example_do_folder/hello/do_examples'\n",
      "### DO FOLDER (in Jupyter)  = /Users/oblinger/ob/proj/dvc-dat/examples/example_do_folder\n"
     ]
    },
    {
     "ename": "AttributeError",
     "evalue": "'DoManager' object has no attribute 'do_folder'",
     "output_type": "error",
     "traceback": [
      "\u001B[0;31m---------------------------------------------------------------------------\u001B[0m",
      "\u001B[0;31mAttributeError\u001B[0m                            Traceback (most recent call last)",
      "Cell \u001B[0;32mIn[24], line 28\u001B[0m\n\u001B[1;32m     26\u001B[0m sys\u001B[38;5;241m.\u001B[39mpath\u001B[38;5;241m.\u001B[39mappend(os\u001B[38;5;241m.\u001B[39mpath\u001B[38;5;241m.\u001B[39mdirname(os\u001B[38;5;241m.\u001B[39mpath\u001B[38;5;241m.\u001B[39mdirname(EXAMPLE_DO_FOLDER)))\n\u001B[1;32m     27\u001B[0m \u001B[38;5;28;01mfrom\u001B[39;00m \u001B[38;5;21;01mdvc_dat\u001B[39;00m \u001B[38;5;28;01mimport\u001B[39;00m do   \u001B[38;5;66;03m# Add all loadables BEFORE loading this module\u001B[39;00m\n\u001B[0;32m---> 28\u001B[0m \u001B[38;5;28mprint\u001B[39m(\u001B[38;5;124mF\u001B[39m\u001B[38;5;124m\"\u001B[39m\u001B[38;5;124m## DO FOLDER (in do module) = \u001B[39m\u001B[38;5;132;01m{\u001B[39;00mdo\u001B[38;5;241m.\u001B[39mdo_folder\u001B[38;5;132;01m!r}\u001B[39;00m\u001B[38;5;124m\"\u001B[39m)\n\u001B[1;32m     29\u001B[0m \u001B[38;5;28;01mif\u001B[39;00m EXAMPLE_DO_FOLDER \u001B[38;5;241m!=\u001B[39m do\u001B[38;5;241m.\u001B[39mdo_folder:\n\u001B[1;32m     30\u001B[0m     \u001B[38;5;28mprint\u001B[39m(\u001B[38;5;124mf\u001B[39m\u001B[38;5;124m\"\u001B[39m\u001B[38;5;124mWARNING: EXAMPLE_DO_FOLDER used by jupyter = \u001B[39m\u001B[38;5;132;01m{\u001B[39;00mEXAMPLE_DO_FOLDER\u001B[38;5;132;01m}\u001B[39;00m\u001B[38;5;124m does not match \u001B[39m\u001B[38;5;132;01m{\u001B[39;00mdo\u001B[38;5;241m.\u001B[39mdo_folder\u001B[38;5;132;01m}\u001B[39;00m\u001B[38;5;124m\"\u001B[39m)\n",
      "\u001B[0;31mAttributeError\u001B[0m: 'DoManager' object has no attribute 'do_folder'"
     ]
    }
   ],
   "execution_count": 24
  },
  {
   "cell_type": "markdown",
   "source": [
    "# Example Data"
   ],
   "metadata": {
    "collapsed": false
   }
  },
  {
   "cell_type": "markdown",
   "source": [
    "### Imports"
   ],
   "metadata": {
    "collapsed": false
   }
  },
  {
   "cell_type": "code",
   "source": [
    "from dvc_dat import dat_tools as dt\n",
    "from dvc_dat import Dat, do"
   ],
   "metadata": {
    "collapsed": false,
    "ExecuteTime": {
     "end_time": "2024-12-11T07:35:57.681802Z",
     "start_time": "2024-12-11T07:35:57.678835Z"
    }
   },
   "outputs": [],
   "execution_count": 25
  },
  {
   "cell_type": "markdown",
   "metadata": {
    "collapsed": false,
    "jupyter": {
     "outputs_hidden": false
    }
   },
   "source": [
    "### Some Example Dats\n",
    "These Dat and point_fns are used to build and show DataFrames.\n"
   ]
  },
  {
   "cell_type": "code",
   "source": [
    "TMP_PATH1 = \"/tmp/job_test1\"\n",
    "spec1 = {\"dat\": {\"my_key1\": \"my_val1\", \"my_key2\": \"my_val2\"}}\n",
    "dat1 = Dat.create(spec=spec1, path=TMP_PATH1, overwrite=True)\n",
    "\n",
    "TMP_PATH2 = \"/tmp/job_test2\"\n",
    "spec2 = {\"dat\": {\"my_key1\": \"my_val1\", \"my_key2\": \"my_val2\"}, \"other\": \"key_value\"}\n",
    "dat2 = Dat.create(spec=spec2, path=TMP_PATH2, overwrite=True)\n"
   ],
   "metadata": {
    "collapsed": false,
    "ExecuteTime": {
     "end_time": "2024-12-11T07:35:58.827406Z",
     "start_time": "2024-12-11T07:35:58.822714Z"
    }
   },
   "outputs": [],
   "execution_count": 26
  },
  {
   "cell_type": "markdown",
   "source": [
    ".\n",
    "\n",
    ".\n",
    "\n",
    "## Creating DataFrames from Dats and point_fns"
   ],
   "metadata": {
    "collapsed": false
   }
  },
  {
   "cell_type": "markdown",
   "source": [
    "#### Zero point_fns applied to zero Dats yields an empty DataFrame"
   ],
   "metadata": {
    "collapsed": false
   }
  },
  {
   "cell_type": "code",
   "source": "dt.from_dat([], [])  # Cross-product of an empty list of dats and empty list of do functions is an empty DataFrames",
   "metadata": {
    "collapsed": false,
    "ExecuteTime": {
     "end_time": "2024-12-11T07:36:00.279888Z",
     "start_time": "2024-12-11T07:36:00.275082Z"
    }
   },
   "outputs": [
    {
     "data": {
      "text/plain": [
       "Empty DataFrame\n",
       "Columns: []\n",
       "Index: []"
      ],
      "text/html": [
       "<div>\n",
       "<style scoped>\n",
       "    .dataframe tbody tr th:only-of-type {\n",
       "        vertical-align: middle;\n",
       "    }\n",
       "\n",
       "    .dataframe tbody tr th {\n",
       "        vertical-align: top;\n",
       "    }\n",
       "\n",
       "    .dataframe thead th {\n",
       "        text-align: right;\n",
       "    }\n",
       "</style>\n",
       "<table border=\"1\" class=\"dataframe\">\n",
       "  <thead>\n",
       "    <tr style=\"text-align: right;\">\n",
       "      <th></th>\n",
       "    </tr>\n",
       "  </thead>\n",
       "  <tbody>\n",
       "  </tbody>\n",
       "</table>\n",
       "</div>"
      ]
     },
     "execution_count": 27,
     "metadata": {},
     "output_type": "execute_result"
    }
   ],
   "execution_count": 27
  },
  {
   "cell_type": "markdown",
   "source": "#### Two metrics applied to two dats yields a DataFrame w/ two rows & two cols",
   "metadata": {
    "collapsed": false
   }
  },
  {
   "cell_type": "code",
   "source": [
    "def always_17(_dat):\n",
    "    return 17\n",
    "\n",
    "\n",
    "def always_18(_dat):\n",
    "    return 18\n",
    "\n",
    "dt.from_dat([dat1, dat2], [always_17, always_18])"
   ],
   "metadata": {
    "collapsed": false,
    "ExecuteTime": {
     "end_time": "2024-12-11T07:36:01.250295Z",
     "start_time": "2024-12-11T07:36:01.244055Z"
    }
   },
   "outputs": [
    {
     "data": {
      "text/plain": [
       "   always_17  always_18       list\n",
       "0         17         18  job_test1\n",
       "1         17         18  job_test2"
      ],
      "text/html": [
       "<div>\n",
       "<style scoped>\n",
       "    .dataframe tbody tr th:only-of-type {\n",
       "        vertical-align: middle;\n",
       "    }\n",
       "\n",
       "    .dataframe tbody tr th {\n",
       "        vertical-align: top;\n",
       "    }\n",
       "\n",
       "    .dataframe thead th {\n",
       "        text-align: right;\n",
       "    }\n",
       "</style>\n",
       "<table border=\"1\" class=\"dataframe\">\n",
       "  <thead>\n",
       "    <tr style=\"text-align: right;\">\n",
       "      <th></th>\n",
       "      <th>always_17</th>\n",
       "      <th>always_18</th>\n",
       "      <th>list</th>\n",
       "    </tr>\n",
       "  </thead>\n",
       "  <tbody>\n",
       "    <tr>\n",
       "      <th>0</th>\n",
       "      <td>17</td>\n",
       "      <td>18</td>\n",
       "      <td>job_test1</td>\n",
       "    </tr>\n",
       "    <tr>\n",
       "      <th>1</th>\n",
       "      <td>17</td>\n",
       "      <td>18</td>\n",
       "      <td>job_test2</td>\n",
       "    </tr>\n",
       "  </tbody>\n",
       "</table>\n",
       "</div>"
      ]
     },
     "execution_count": 28,
     "metadata": {},
     "output_type": "execute_result"
    }
   ],
   "execution_count": 28
  },
  {
   "cell_type": "markdown",
   "source": [
    "#### Metric functions can also be expressed as string and loaded using 'do'"
   ],
   "metadata": {
    "collapsed": false
   }
  },
  {
   "cell_type": "code",
   "source": [
    "do.mount(at=\"registered_cube\", module=\"example_do_folder.dat_tools_examples.cube_hello\")\n",
    "dt.from_dat([dat1], [\"registered_cube.always_5\"])"
   ],
   "metadata": {
    "collapsed": false,
    "ExecuteTime": {
     "end_time": "2024-12-11T07:36:02.477126Z",
     "start_time": "2024-12-11T07:36:02.424639Z"
    }
   },
   "outputs": [
    {
     "ename": "Exception",
     "evalue": "DO.LOAD: Could not import module 'example_do_folder.dat_tools_examples.cube_hello'",
     "output_type": "error",
     "traceback": [
      "\u001B[0;31m---------------------------------------------------------------------------\u001B[0m",
      "\u001B[0;31mModuleNotFoundError\u001B[0m                       Traceback (most recent call last)",
      "File \u001B[0;32m~/ob/proj/dvc-dat/dvc_dat/do_fn.py:408\u001B[0m, in \u001B[0;36m_load_module\u001B[0;34m(base, module_spec)\u001B[0m\n\u001B[1;32m    407\u001B[0m \u001B[38;5;28;01mtry\u001B[39;00m:\n\u001B[0;32m--> 408\u001B[0m     \u001B[38;5;28;01mreturn\u001B[39;00m import_module(module_spec)\n\u001B[1;32m    409\u001B[0m \u001B[38;5;28;01mexcept\u001B[39;00m \u001B[38;5;167;01mModuleNotFoundError\u001B[39;00m:\n",
      "File \u001B[0;32m~/miniconda3/envs/latest/lib/python3.12/importlib/__init__.py:90\u001B[0m, in \u001B[0;36mimport_module\u001B[0;34m(name, package)\u001B[0m\n\u001B[1;32m     89\u001B[0m         level \u001B[38;5;241m+\u001B[39m\u001B[38;5;241m=\u001B[39m \u001B[38;5;241m1\u001B[39m\n\u001B[0;32m---> 90\u001B[0m \u001B[38;5;28;01mreturn\u001B[39;00m _bootstrap\u001B[38;5;241m.\u001B[39m_gcd_import(name[level:], package, level)\n",
      "File \u001B[0;32m<frozen importlib._bootstrap>:1381\u001B[0m, in \u001B[0;36m_gcd_import\u001B[0;34m(name, package, level)\u001B[0m\n",
      "File \u001B[0;32m<frozen importlib._bootstrap>:1354\u001B[0m, in \u001B[0;36m_find_and_load\u001B[0;34m(name, import_)\u001B[0m\n",
      "File \u001B[0;32m<frozen importlib._bootstrap>:1304\u001B[0m, in \u001B[0;36m_find_and_load_unlocked\u001B[0;34m(name, import_)\u001B[0m\n",
      "File \u001B[0;32m<frozen importlib._bootstrap>:488\u001B[0m, in \u001B[0;36m_call_with_frames_removed\u001B[0;34m(f, *args, **kwds)\u001B[0m\n",
      "File \u001B[0;32m<frozen importlib._bootstrap>:1381\u001B[0m, in \u001B[0;36m_gcd_import\u001B[0;34m(name, package, level)\u001B[0m\n",
      "File \u001B[0;32m<frozen importlib._bootstrap>:1354\u001B[0m, in \u001B[0;36m_find_and_load\u001B[0;34m(name, import_)\u001B[0m\n",
      "File \u001B[0;32m<frozen importlib._bootstrap>:1318\u001B[0m, in \u001B[0;36m_find_and_load_unlocked\u001B[0;34m(name, import_)\u001B[0m\n",
      "\u001B[0;31mModuleNotFoundError\u001B[0m: No module named 'example_do_folder.dat_tools_examples'",
      "\nDuring handling of the above exception, another exception occurred:\n",
      "\u001B[0;31mException\u001B[0m                                 Traceback (most recent call last)",
      "Cell \u001B[0;32mIn[29], line 2\u001B[0m\n\u001B[1;32m      1\u001B[0m do\u001B[38;5;241m.\u001B[39mmount(at\u001B[38;5;241m=\u001B[39m\u001B[38;5;124m\"\u001B[39m\u001B[38;5;124mregistered_cube\u001B[39m\u001B[38;5;124m\"\u001B[39m, module\u001B[38;5;241m=\u001B[39m\u001B[38;5;124m\"\u001B[39m\u001B[38;5;124mexample_do_folder.dat_tools_examples.cube_hello\u001B[39m\u001B[38;5;124m\"\u001B[39m)\n\u001B[0;32m----> 2\u001B[0m dt\u001B[38;5;241m.\u001B[39mfrom_dat([dat1], [\u001B[38;5;124m\"\u001B[39m\u001B[38;5;124mregistered_cube.always_5\u001B[39m\u001B[38;5;124m\"\u001B[39m])\n",
      "File \u001B[0;32m~/ob/proj/dvc-dat/dvc_dat/dat_tools.py:54\u001B[0m, in \u001B[0;36mfrom_dat\u001B[0;34m(source, point_fns)\u001B[0m\n\u001B[1;32m     51\u001B[0m \u001B[38;5;28;01mdef\u001B[39;00m \u001B[38;5;21mfrom_dat\u001B[39m(source: Union[Dat, \u001B[38;5;28mstr\u001B[39m, Iterable],\n\u001B[1;32m     52\u001B[0m         point_fns: Any) \u001B[38;5;241m-\u001B[39m\u001B[38;5;241m>\u001B[39m DataFrame:\n\u001B[1;32m     53\u001B[0m \u001B[38;5;250m    \u001B[39m\u001B[38;5;124;03m\"\"\"Creates a pandas DataFrame from one or more Dats and a list of do fns.\"\"\"\u001B[39;00m\n\u001B[0;32m---> 54\u001B[0m     cube \u001B[38;5;241m=\u001B[39m Cube(dats\u001B[38;5;241m=\u001B[39msource, point_fns\u001B[38;5;241m=\u001B[39mpoint_fns)\n\u001B[1;32m     55\u001B[0m     df \u001B[38;5;241m=\u001B[39m cube\u001B[38;5;241m.\u001B[39mget_df()\n\u001B[1;32m     56\u001B[0m     \u001B[38;5;28;01mreturn\u001B[39;00m df\n",
      "File \u001B[0;32m~/ob/proj/dvc-dat/dvc_dat/dat_tools.py:226\u001B[0m, in \u001B[0;36mCube.__init__\u001B[0;34m(self, points, dats, point_fns)\u001B[0m\n\u001B[1;32m    224\u001B[0m \u001B[38;5;28mself\u001B[39m\u001B[38;5;241m.\u001B[39mpoint_fns: List[Callable[[Dat], Any]] \u001B[38;5;241m=\u001B[39m []\n\u001B[1;32m    225\u001B[0m \u001B[38;5;28;01mfor\u001B[39;00m fn_spec \u001B[38;5;129;01min\u001B[39;00m point_fns \u001B[38;5;129;01mor\u001B[39;00m []:\n\u001B[0;32m--> 226\u001B[0m     fn \u001B[38;5;241m=\u001B[39m do\u001B[38;5;241m.\u001B[39mload(fn_spec) \u001B[38;5;28;01mif\u001B[39;00m \u001B[38;5;28misinstance\u001B[39m(fn_spec, \u001B[38;5;28mstr\u001B[39m) \u001B[38;5;28;01melse\u001B[39;00m fn_spec\n\u001B[1;32m    227\u001B[0m     \u001B[38;5;28mself\u001B[39m\u001B[38;5;241m.\u001B[39mpoint_fns\u001B[38;5;241m.\u001B[39mappend(fn)\n\u001B[1;32m    228\u001B[0m \u001B[38;5;28;01mif\u001B[39;00m dats:\n",
      "File \u001B[0;32m~/ob/proj/dvc-dat/dvc_dat/do_fn.py:143\u001B[0m, in \u001B[0;36mDoManager.load\u001B[0;34m(self, dotted_name, default, kind)\u001B[0m\n\u001B[1;32m    140\u001B[0m \u001B[38;5;28;01mif\u001B[39;00m \u001B[38;5;28mself\u001B[39m\u001B[38;5;241m.\u001B[39mregistered_values \u001B[38;5;129;01mand\u001B[39;00m _DO_NULL \u001B[38;5;241m!=\u001B[39m \\\n\u001B[1;32m    141\u001B[0m         (value \u001B[38;5;241m:=\u001B[39m \u001B[38;5;28mself\u001B[39m\u001B[38;5;241m.\u001B[39mregistered_values\u001B[38;5;241m.\u001B[39mget(dotted_name, _DO_NULL)):\n\u001B[1;32m    142\u001B[0m     \u001B[38;5;28;01mreturn\u001B[39;00m copy\u001B[38;5;241m.\u001B[39mdeepcopy(value) \u001B[38;5;28;01mif\u001B[39;00m \u001B[38;5;28misinstance\u001B[39m(value, \u001B[38;5;28mdict\u001B[39m) \u001B[38;5;28;01melse\u001B[39;00m value\n\u001B[0;32m--> 143\u001B[0m obj \u001B[38;5;241m=\u001B[39m \u001B[38;5;28mself\u001B[39m\u001B[38;5;241m.\u001B[39mget_base(file_base, default\u001B[38;5;241m=\u001B[39m\u001B[38;5;28;01mNone\u001B[39;00m)\n\u001B[1;32m    144\u001B[0m \u001B[38;5;28;01mif\u001B[39;00m obj \u001B[38;5;129;01mis\u001B[39;00m \u001B[38;5;28;01mNone\u001B[39;00m:\n\u001B[1;32m    145\u001B[0m     \u001B[38;5;28;01mif\u001B[39;00m default \u001B[38;5;129;01mis\u001B[39;00m _DO_NULL:\n",
      "File \u001B[0;32m~/ob/proj/dvc-dat/dvc_dat/do_fn.py:268\u001B[0m, in \u001B[0;36mDoManager.get_base\u001B[0;34m(self, base, default)\u001B[0m\n\u001B[1;32m    266\u001B[0m     result \u001B[38;5;241m=\u001B[39m \u001B[38;5;28mself\u001B[39m\u001B[38;5;241m.\u001B[39mbase_objects[base]\n\u001B[1;32m    267\u001B[0m \u001B[38;5;28;01melif\u001B[39;00m base \u001B[38;5;129;01min\u001B[39;00m \u001B[38;5;28mself\u001B[39m\u001B[38;5;241m.\u001B[39mbase_locations:\n\u001B[0;32m--> 268\u001B[0m     \u001B[38;5;28mself\u001B[39m\u001B[38;5;241m.\u001B[39mbase_objects[base] \u001B[38;5;241m=\u001B[39m _load_base_entity(base,\n\u001B[1;32m    269\u001B[0m                                                 \u001B[38;5;28mself\u001B[39m\u001B[38;5;241m.\u001B[39mbase_locations[\n\u001B[1;32m    270\u001B[0m                                                     base])\n\u001B[1;32m    271\u001B[0m     result \u001B[38;5;241m=\u001B[39m \u001B[38;5;28mself\u001B[39m\u001B[38;5;241m.\u001B[39mbase_objects[base]\n\u001B[1;32m    272\u001B[0m \u001B[38;5;28;01melif\u001B[39;00m default \u001B[38;5;129;01mis\u001B[39;00m _DO_NULL:\n",
      "File \u001B[0;32m~/ob/proj/dvc-dat/dvc_dat/do_fn.py:391\u001B[0m, in \u001B[0;36m_load_base_entity\u001B[0;34m(base, source_spec)\u001B[0m\n\u001B[1;32m    389\u001B[0m ext \u001B[38;5;241m=\u001B[39m os\u001B[38;5;241m.\u001B[39mpath\u001B[38;5;241m.\u001B[39msplitext(source_spec)[\u001B[38;5;241m1\u001B[39m]\n\u001B[1;32m    390\u001B[0m \u001B[38;5;28;01mif\u001B[39;00m ext \u001B[38;5;241m==\u001B[39m \u001B[38;5;124m\"\u001B[39m\u001B[38;5;124m.py\u001B[39m\u001B[38;5;124m\"\u001B[39m \u001B[38;5;129;01mor\u001B[39;00m \u001B[38;5;124m\"\u001B[39m\u001B[38;5;124m/\u001B[39m\u001B[38;5;124m\"\u001B[39m \u001B[38;5;129;01mnot\u001B[39;00m \u001B[38;5;129;01min\u001B[39;00m source_spec:\n\u001B[0;32m--> 391\u001B[0m     \u001B[38;5;28;01mreturn\u001B[39;00m _load_module(base, source_spec)\n\u001B[1;32m    392\u001B[0m \u001B[38;5;28;01melif\u001B[39;00m ext \u001B[38;5;241m==\u001B[39m \u001B[38;5;124m\"\u001B[39m\u001B[38;5;124m.json\u001B[39m\u001B[38;5;124m\"\u001B[39m:    \u001B[38;5;66;03m# os.path.exists(name := F\"{path_base}.json\"):\u001B[39;00m\n\u001B[1;32m    393\u001B[0m     \u001B[38;5;28;01mwith\u001B[39;00m \u001B[38;5;28mopen\u001B[39m(source_spec, \u001B[38;5;124m'\u001B[39m\u001B[38;5;124mr\u001B[39m\u001B[38;5;124m'\u001B[39m) \u001B[38;5;28;01mas\u001B[39;00m f:\n",
      "File \u001B[0;32m~/ob/proj/dvc-dat/dvc_dat/do_fn.py:410\u001B[0m, in \u001B[0;36m_load_module\u001B[0;34m(base, module_spec)\u001B[0m\n\u001B[1;32m    408\u001B[0m         \u001B[38;5;28;01mreturn\u001B[39;00m import_module(module_spec)\n\u001B[1;32m    409\u001B[0m     \u001B[38;5;28;01mexcept\u001B[39;00m \u001B[38;5;167;01mModuleNotFoundError\u001B[39;00m:\n\u001B[0;32m--> 410\u001B[0m         \u001B[38;5;28;01mraise\u001B[39;00m \u001B[38;5;167;01mException\u001B[39;00m(\u001B[38;5;124mF\u001B[39m\u001B[38;5;124m\"\u001B[39m\u001B[38;5;124mDO.LOAD: Could not import module \u001B[39m\u001B[38;5;132;01m{\u001B[39;00mmodule_spec\u001B[38;5;132;01m!r}\u001B[39;00m\u001B[38;5;124m\"\u001B[39m)\n\u001B[1;32m    411\u001B[0m \u001B[38;5;28;01massert\u001B[39;00m \u001B[38;5;28misinstance\u001B[39m(module_spec, \u001B[38;5;28mobject\u001B[39m)\n\u001B[1;32m    412\u001B[0m \u001B[38;5;28;01mif\u001B[39;00m \u001B[38;5;129;01mnot\u001B[39;00m os\u001B[38;5;241m.\u001B[39mpath\u001B[38;5;241m.\u001B[39mexists(module_spec):\n",
      "\u001B[0;31mException\u001B[0m: DO.LOAD: Could not import module 'example_do_folder.dat_tools_examples.cube_hello'"
     ]
    }
   ],
   "execution_count": 29
  },
  {
   "cell_type": "markdown",
   "source": [
    "#### Multi-valued Metric Functions\n",
    "Metric functions (also called point_fns) can return a dict of metric values instead of just returning a single value."
   ],
   "metadata": {
    "collapsed": false
   }
  },
  {
   "cell_type": "code",
   "source": [
    "fns = [always_17, lambda dat: {\"val1\": 111, \"val2\": 2222}]\n",
    "dt.from_dat([dat1, dat2], point_fns=fns)"
   ],
   "metadata": {
    "collapsed": false,
    "ExecuteTime": {
     "end_time": "2024-12-11T07:36:03.524146Z",
     "start_time": "2024-12-11T07:36:03.520480Z"
    }
   },
   "outputs": [
    {
     "data": {
      "text/plain": [
       "   always_17  val1  val2       list\n",
       "0         17   111  2222  job_test1\n",
       "1         17   111  2222  job_test2"
      ],
      "text/html": [
       "<div>\n",
       "<style scoped>\n",
       "    .dataframe tbody tr th:only-of-type {\n",
       "        vertical-align: middle;\n",
       "    }\n",
       "\n",
       "    .dataframe tbody tr th {\n",
       "        vertical-align: top;\n",
       "    }\n",
       "\n",
       "    .dataframe thead th {\n",
       "        text-align: right;\n",
       "    }\n",
       "</style>\n",
       "<table border=\"1\" class=\"dataframe\">\n",
       "  <thead>\n",
       "    <tr style=\"text-align: right;\">\n",
       "      <th></th>\n",
       "      <th>always_17</th>\n",
       "      <th>val1</th>\n",
       "      <th>val2</th>\n",
       "      <th>list</th>\n",
       "    </tr>\n",
       "  </thead>\n",
       "  <tbody>\n",
       "    <tr>\n",
       "      <th>0</th>\n",
       "      <td>17</td>\n",
       "      <td>111</td>\n",
       "      <td>2222</td>\n",
       "      <td>job_test1</td>\n",
       "    </tr>\n",
       "    <tr>\n",
       "      <th>1</th>\n",
       "      <td>17</td>\n",
       "      <td>111</td>\n",
       "      <td>2222</td>\n",
       "      <td>job_test2</td>\n",
       "    </tr>\n",
       "  </tbody>\n",
       "</table>\n",
       "</div>"
      ]
     },
     "execution_count": 30,
     "metadata": {},
     "output_type": "execute_result"
    }
   ],
   "execution_count": 30
  },
  {
   "cell_type": "markdown",
   "source": [
    "#### Multi-POINT Metric Functions\n",
    "Finally, a point_fn can return a LIST of dicts, each dict represents a row in the DataFrame.  In all cases, all point_fns are applied to all dats, and the return values are appended to the DataFrame.  These different kinds of point functions can be combined, so scalar values and dict values are all merged into a single row for each dat, and lists of dicts are expanded into multiple rows."
   ],
   "metadata": {
    "collapsed": false
   }
  },
  {
   "cell_type": "code",
   "source": [
    "point_fns = [always_17, always_18, lambda dat: [{\"val1\": 1, \"val2\": 2}, {\"val1\": 11}]]\n",
    "dt.from_dat([dat1], point_fns)"
   ],
   "metadata": {
    "collapsed": false,
    "ExecuteTime": {
     "end_time": "2024-12-11T07:36:04.143285Z",
     "start_time": "2024-12-11T07:36:04.135558Z"
    }
   },
   "outputs": [
    {
     "data": {
      "text/plain": [
       "   val1  val2       list  always_17  always_18\n",
       "0   1.0   2.0  job_test1        NaN        NaN\n",
       "1  11.0   NaN  job_test1        NaN        NaN\n",
       "2   NaN   NaN  job_test1       17.0       18.0"
      ],
      "text/html": [
       "<div>\n",
       "<style scoped>\n",
       "    .dataframe tbody tr th:only-of-type {\n",
       "        vertical-align: middle;\n",
       "    }\n",
       "\n",
       "    .dataframe tbody tr th {\n",
       "        vertical-align: top;\n",
       "    }\n",
       "\n",
       "    .dataframe thead th {\n",
       "        text-align: right;\n",
       "    }\n",
       "</style>\n",
       "<table border=\"1\" class=\"dataframe\">\n",
       "  <thead>\n",
       "    <tr style=\"text-align: right;\">\n",
       "      <th></th>\n",
       "      <th>val1</th>\n",
       "      <th>val2</th>\n",
       "      <th>list</th>\n",
       "      <th>always_17</th>\n",
       "      <th>always_18</th>\n",
       "    </tr>\n",
       "  </thead>\n",
       "  <tbody>\n",
       "    <tr>\n",
       "      <th>0</th>\n",
       "      <td>1.0</td>\n",
       "      <td>2.0</td>\n",
       "      <td>job_test1</td>\n",
       "      <td>NaN</td>\n",
       "      <td>NaN</td>\n",
       "    </tr>\n",
       "    <tr>\n",
       "      <th>1</th>\n",
       "      <td>11.0</td>\n",
       "      <td>NaN</td>\n",
       "      <td>job_test1</td>\n",
       "      <td>NaN</td>\n",
       "      <td>NaN</td>\n",
       "    </tr>\n",
       "    <tr>\n",
       "      <th>2</th>\n",
       "      <td>NaN</td>\n",
       "      <td>NaN</td>\n",
       "      <td>job_test1</td>\n",
       "      <td>17.0</td>\n",
       "      <td>18.0</td>\n",
       "    </tr>\n",
       "  </tbody>\n",
       "</table>\n",
       "</div>"
      ]
     },
     "execution_count": 31,
     "metadata": {},
     "output_type": "execute_result"
    }
   ],
   "execution_count": 31
  },
  {
   "cell_type": "markdown",
   "source": [
    "Above, you can see that the results of the always_17 and always_18 functions were merged into a single row as before, and the lambda returned to more data points expressed as two additional rows in the DataFrame."
   ],
   "metadata": {
    "collapsed": false
   }
  },
  {
   "cell_type": "markdown",
   "source": [
    "# OUTPUT TO EXCEL\n",
    "The 'to_excel' function writes the DataFrame to an Excel file.\n",
    "To test this, we use the points_fn below 'load_points_json' it reads a list of data points from each dat by looking in the dat folder for a file named 'points.json'.  This is used to construct a large DataFrame from three Dats in the \"Retail Data\" DatContainer."
   ],
   "metadata": {
    "collapsed": false
   }
  },
  {
   "cell_type": "code",
   "source": [
    "def load_points_json(dat: Dat):\n",
    "    with open(f\"{dat.get_path()}/points.json\") as f:\n",
    "        return json.load(f)\n"
   ],
   "metadata": {
    "collapsed": false,
    "ExecuteTime": {
     "end_time": "2024-12-11T07:36:05.215116Z",
     "start_time": "2024-12-11T07:36:05.213200Z"
    }
   },
   "outputs": [],
   "execution_count": 32
  },
  {
   "cell_type": "code",
   "source": [
    "df = dt.from_dat(\"Datasets/Retail Data\", [load_points_json])\n",
    "df"
   ],
   "metadata": {
    "collapsed": false,
    "ExecuteTime": {
     "end_time": "2024-12-11T07:36:05.647085Z",
     "start_time": "2024-12-11T07:36:05.635674Z"
    }
   },
   "outputs": [
    {
     "data": {
      "text/plain": [
       "      Store     Month    Product      Metric  Value           list\n",
       "0   Store A   January  Product 1  Units Sold      8       Berkeley\n",
       "1   Store A   January  Product 1     Revenue     23       Berkeley\n",
       "2   Store A   January  Product 2  Units Sold     80       Berkeley\n",
       "3   Store A   January  Product 2     Revenue     88       Berkeley\n",
       "4   Store A  February  Product 1  Units Sold     76       Berkeley\n",
       "5   Store A  February  Product 1     Revenue     18       Berkeley\n",
       "6   Store A  February  Product 2  Units Sold     54       Berkeley\n",
       "7   Store A  February  Product 2     Revenue     98       Berkeley\n",
       "8   Store B   January  Product 1  Units Sold     51       Berkeley\n",
       "9   Store B   January  Product 1     Revenue     25       Berkeley\n",
       "10  Store B   January  Product 2  Units Sold     85       Berkeley\n",
       "11  Store B   January  Product 2     Revenue     31       Berkeley\n",
       "12  Store B  February  Product 1  Units Sold     95       Berkeley\n",
       "13  Store B  February  Product 1     Revenue     82       Berkeley\n",
       "14  Store B  February  Product 2  Units Sold     55       Berkeley\n",
       "15  Store B  February  Product 2     Revenue      4       Berkeley\n",
       "16  Store A   January  Product 1  Units Sold      8  San Francisco\n",
       "17  Store A   January  Product 1     Revenue     23  San Francisco\n",
       "18  Store A   January  Product 2  Units Sold     80  San Francisco\n",
       "19  Store A   January  Product 2     Revenue     88  San Francisco\n",
       "20  Store A  February  Product 1  Units Sold     76  San Francisco\n",
       "21  Store A  February  Product 1     Revenue     18  San Francisco\n",
       "22  Store A  February  Product 2  Units Sold     54  San Francisco\n",
       "23  Store A  February  Product 2     Revenue     98  San Francisco\n",
       "24  Store B   January  Product 1  Units Sold     51  San Francisco\n",
       "25  Store B   January  Product 1     Revenue     25  San Francisco\n",
       "26  Store B   January  Product 2  Units Sold     85  San Francisco\n",
       "27  Store B   January  Product 2     Revenue     31  San Francisco\n",
       "28  Store B  February  Product 1  Units Sold     95  San Francisco\n",
       "29  Store B  February  Product 1     Revenue     82  San Francisco\n",
       "30  Store B  February  Product 2  Units Sold     55  San Francisco\n",
       "31  Store B  February  Product 2     Revenue      4  San Francisco\n",
       "32  Store A   January  Product 1  Units Sold      8       San Jose\n",
       "33  Store A   January  Product 1     Revenue     23       San Jose\n",
       "34  Store A   January  Product 2  Units Sold     80       San Jose\n",
       "35  Store A   January  Product 2     Revenue     88       San Jose\n",
       "36  Store A  February  Product 1  Units Sold     76       San Jose\n",
       "37  Store A  February  Product 1     Revenue     18       San Jose\n",
       "38  Store A  February  Product 2  Units Sold     54       San Jose\n",
       "39  Store A  February  Product 2     Revenue     98       San Jose\n",
       "40  Store B   January  Product 1  Units Sold     51       San Jose\n",
       "41  Store B   January  Product 1     Revenue     25       San Jose\n",
       "42  Store B   January  Product 2  Units Sold     85       San Jose\n",
       "43  Store B   January  Product 2     Revenue     31       San Jose\n",
       "44  Store B  February  Product 1  Units Sold     95       San Jose\n",
       "45  Store B  February  Product 1     Revenue     82       San Jose\n",
       "46  Store B  February  Product 2  Units Sold     55       San Jose\n",
       "47  Store B  February  Product 2     Revenue      4       San Jose"
      ],
      "text/html": [
       "<div>\n",
       "<style scoped>\n",
       "    .dataframe tbody tr th:only-of-type {\n",
       "        vertical-align: middle;\n",
       "    }\n",
       "\n",
       "    .dataframe tbody tr th {\n",
       "        vertical-align: top;\n",
       "    }\n",
       "\n",
       "    .dataframe thead th {\n",
       "        text-align: right;\n",
       "    }\n",
       "</style>\n",
       "<table border=\"1\" class=\"dataframe\">\n",
       "  <thead>\n",
       "    <tr style=\"text-align: right;\">\n",
       "      <th></th>\n",
       "      <th>Store</th>\n",
       "      <th>Month</th>\n",
       "      <th>Product</th>\n",
       "      <th>Metric</th>\n",
       "      <th>Value</th>\n",
       "      <th>list</th>\n",
       "    </tr>\n",
       "  </thead>\n",
       "  <tbody>\n",
       "    <tr>\n",
       "      <th>0</th>\n",
       "      <td>Store A</td>\n",
       "      <td>January</td>\n",
       "      <td>Product 1</td>\n",
       "      <td>Units Sold</td>\n",
       "      <td>8</td>\n",
       "      <td>Berkeley</td>\n",
       "    </tr>\n",
       "    <tr>\n",
       "      <th>1</th>\n",
       "      <td>Store A</td>\n",
       "      <td>January</td>\n",
       "      <td>Product 1</td>\n",
       "      <td>Revenue</td>\n",
       "      <td>23</td>\n",
       "      <td>Berkeley</td>\n",
       "    </tr>\n",
       "    <tr>\n",
       "      <th>2</th>\n",
       "      <td>Store A</td>\n",
       "      <td>January</td>\n",
       "      <td>Product 2</td>\n",
       "      <td>Units Sold</td>\n",
       "      <td>80</td>\n",
       "      <td>Berkeley</td>\n",
       "    </tr>\n",
       "    <tr>\n",
       "      <th>3</th>\n",
       "      <td>Store A</td>\n",
       "      <td>January</td>\n",
       "      <td>Product 2</td>\n",
       "      <td>Revenue</td>\n",
       "      <td>88</td>\n",
       "      <td>Berkeley</td>\n",
       "    </tr>\n",
       "    <tr>\n",
       "      <th>4</th>\n",
       "      <td>Store A</td>\n",
       "      <td>February</td>\n",
       "      <td>Product 1</td>\n",
       "      <td>Units Sold</td>\n",
       "      <td>76</td>\n",
       "      <td>Berkeley</td>\n",
       "    </tr>\n",
       "    <tr>\n",
       "      <th>5</th>\n",
       "      <td>Store A</td>\n",
       "      <td>February</td>\n",
       "      <td>Product 1</td>\n",
       "      <td>Revenue</td>\n",
       "      <td>18</td>\n",
       "      <td>Berkeley</td>\n",
       "    </tr>\n",
       "    <tr>\n",
       "      <th>6</th>\n",
       "      <td>Store A</td>\n",
       "      <td>February</td>\n",
       "      <td>Product 2</td>\n",
       "      <td>Units Sold</td>\n",
       "      <td>54</td>\n",
       "      <td>Berkeley</td>\n",
       "    </tr>\n",
       "    <tr>\n",
       "      <th>7</th>\n",
       "      <td>Store A</td>\n",
       "      <td>February</td>\n",
       "      <td>Product 2</td>\n",
       "      <td>Revenue</td>\n",
       "      <td>98</td>\n",
       "      <td>Berkeley</td>\n",
       "    </tr>\n",
       "    <tr>\n",
       "      <th>8</th>\n",
       "      <td>Store B</td>\n",
       "      <td>January</td>\n",
       "      <td>Product 1</td>\n",
       "      <td>Units Sold</td>\n",
       "      <td>51</td>\n",
       "      <td>Berkeley</td>\n",
       "    </tr>\n",
       "    <tr>\n",
       "      <th>9</th>\n",
       "      <td>Store B</td>\n",
       "      <td>January</td>\n",
       "      <td>Product 1</td>\n",
       "      <td>Revenue</td>\n",
       "      <td>25</td>\n",
       "      <td>Berkeley</td>\n",
       "    </tr>\n",
       "    <tr>\n",
       "      <th>10</th>\n",
       "      <td>Store B</td>\n",
       "      <td>January</td>\n",
       "      <td>Product 2</td>\n",
       "      <td>Units Sold</td>\n",
       "      <td>85</td>\n",
       "      <td>Berkeley</td>\n",
       "    </tr>\n",
       "    <tr>\n",
       "      <th>11</th>\n",
       "      <td>Store B</td>\n",
       "      <td>January</td>\n",
       "      <td>Product 2</td>\n",
       "      <td>Revenue</td>\n",
       "      <td>31</td>\n",
       "      <td>Berkeley</td>\n",
       "    </tr>\n",
       "    <tr>\n",
       "      <th>12</th>\n",
       "      <td>Store B</td>\n",
       "      <td>February</td>\n",
       "      <td>Product 1</td>\n",
       "      <td>Units Sold</td>\n",
       "      <td>95</td>\n",
       "      <td>Berkeley</td>\n",
       "    </tr>\n",
       "    <tr>\n",
       "      <th>13</th>\n",
       "      <td>Store B</td>\n",
       "      <td>February</td>\n",
       "      <td>Product 1</td>\n",
       "      <td>Revenue</td>\n",
       "      <td>82</td>\n",
       "      <td>Berkeley</td>\n",
       "    </tr>\n",
       "    <tr>\n",
       "      <th>14</th>\n",
       "      <td>Store B</td>\n",
       "      <td>February</td>\n",
       "      <td>Product 2</td>\n",
       "      <td>Units Sold</td>\n",
       "      <td>55</td>\n",
       "      <td>Berkeley</td>\n",
       "    </tr>\n",
       "    <tr>\n",
       "      <th>15</th>\n",
       "      <td>Store B</td>\n",
       "      <td>February</td>\n",
       "      <td>Product 2</td>\n",
       "      <td>Revenue</td>\n",
       "      <td>4</td>\n",
       "      <td>Berkeley</td>\n",
       "    </tr>\n",
       "    <tr>\n",
       "      <th>16</th>\n",
       "      <td>Store A</td>\n",
       "      <td>January</td>\n",
       "      <td>Product 1</td>\n",
       "      <td>Units Sold</td>\n",
       "      <td>8</td>\n",
       "      <td>San Francisco</td>\n",
       "    </tr>\n",
       "    <tr>\n",
       "      <th>17</th>\n",
       "      <td>Store A</td>\n",
       "      <td>January</td>\n",
       "      <td>Product 1</td>\n",
       "      <td>Revenue</td>\n",
       "      <td>23</td>\n",
       "      <td>San Francisco</td>\n",
       "    </tr>\n",
       "    <tr>\n",
       "      <th>18</th>\n",
       "      <td>Store A</td>\n",
       "      <td>January</td>\n",
       "      <td>Product 2</td>\n",
       "      <td>Units Sold</td>\n",
       "      <td>80</td>\n",
       "      <td>San Francisco</td>\n",
       "    </tr>\n",
       "    <tr>\n",
       "      <th>19</th>\n",
       "      <td>Store A</td>\n",
       "      <td>January</td>\n",
       "      <td>Product 2</td>\n",
       "      <td>Revenue</td>\n",
       "      <td>88</td>\n",
       "      <td>San Francisco</td>\n",
       "    </tr>\n",
       "    <tr>\n",
       "      <th>20</th>\n",
       "      <td>Store A</td>\n",
       "      <td>February</td>\n",
       "      <td>Product 1</td>\n",
       "      <td>Units Sold</td>\n",
       "      <td>76</td>\n",
       "      <td>San Francisco</td>\n",
       "    </tr>\n",
       "    <tr>\n",
       "      <th>21</th>\n",
       "      <td>Store A</td>\n",
       "      <td>February</td>\n",
       "      <td>Product 1</td>\n",
       "      <td>Revenue</td>\n",
       "      <td>18</td>\n",
       "      <td>San Francisco</td>\n",
       "    </tr>\n",
       "    <tr>\n",
       "      <th>22</th>\n",
       "      <td>Store A</td>\n",
       "      <td>February</td>\n",
       "      <td>Product 2</td>\n",
       "      <td>Units Sold</td>\n",
       "      <td>54</td>\n",
       "      <td>San Francisco</td>\n",
       "    </tr>\n",
       "    <tr>\n",
       "      <th>23</th>\n",
       "      <td>Store A</td>\n",
       "      <td>February</td>\n",
       "      <td>Product 2</td>\n",
       "      <td>Revenue</td>\n",
       "      <td>98</td>\n",
       "      <td>San Francisco</td>\n",
       "    </tr>\n",
       "    <tr>\n",
       "      <th>24</th>\n",
       "      <td>Store B</td>\n",
       "      <td>January</td>\n",
       "      <td>Product 1</td>\n",
       "      <td>Units Sold</td>\n",
       "      <td>51</td>\n",
       "      <td>San Francisco</td>\n",
       "    </tr>\n",
       "    <tr>\n",
       "      <th>25</th>\n",
       "      <td>Store B</td>\n",
       "      <td>January</td>\n",
       "      <td>Product 1</td>\n",
       "      <td>Revenue</td>\n",
       "      <td>25</td>\n",
       "      <td>San Francisco</td>\n",
       "    </tr>\n",
       "    <tr>\n",
       "      <th>26</th>\n",
       "      <td>Store B</td>\n",
       "      <td>January</td>\n",
       "      <td>Product 2</td>\n",
       "      <td>Units Sold</td>\n",
       "      <td>85</td>\n",
       "      <td>San Francisco</td>\n",
       "    </tr>\n",
       "    <tr>\n",
       "      <th>27</th>\n",
       "      <td>Store B</td>\n",
       "      <td>January</td>\n",
       "      <td>Product 2</td>\n",
       "      <td>Revenue</td>\n",
       "      <td>31</td>\n",
       "      <td>San Francisco</td>\n",
       "    </tr>\n",
       "    <tr>\n",
       "      <th>28</th>\n",
       "      <td>Store B</td>\n",
       "      <td>February</td>\n",
       "      <td>Product 1</td>\n",
       "      <td>Units Sold</td>\n",
       "      <td>95</td>\n",
       "      <td>San Francisco</td>\n",
       "    </tr>\n",
       "    <tr>\n",
       "      <th>29</th>\n",
       "      <td>Store B</td>\n",
       "      <td>February</td>\n",
       "      <td>Product 1</td>\n",
       "      <td>Revenue</td>\n",
       "      <td>82</td>\n",
       "      <td>San Francisco</td>\n",
       "    </tr>\n",
       "    <tr>\n",
       "      <th>30</th>\n",
       "      <td>Store B</td>\n",
       "      <td>February</td>\n",
       "      <td>Product 2</td>\n",
       "      <td>Units Sold</td>\n",
       "      <td>55</td>\n",
       "      <td>San Francisco</td>\n",
       "    </tr>\n",
       "    <tr>\n",
       "      <th>31</th>\n",
       "      <td>Store B</td>\n",
       "      <td>February</td>\n",
       "      <td>Product 2</td>\n",
       "      <td>Revenue</td>\n",
       "      <td>4</td>\n",
       "      <td>San Francisco</td>\n",
       "    </tr>\n",
       "    <tr>\n",
       "      <th>32</th>\n",
       "      <td>Store A</td>\n",
       "      <td>January</td>\n",
       "      <td>Product 1</td>\n",
       "      <td>Units Sold</td>\n",
       "      <td>8</td>\n",
       "      <td>San Jose</td>\n",
       "    </tr>\n",
       "    <tr>\n",
       "      <th>33</th>\n",
       "      <td>Store A</td>\n",
       "      <td>January</td>\n",
       "      <td>Product 1</td>\n",
       "      <td>Revenue</td>\n",
       "      <td>23</td>\n",
       "      <td>San Jose</td>\n",
       "    </tr>\n",
       "    <tr>\n",
       "      <th>34</th>\n",
       "      <td>Store A</td>\n",
       "      <td>January</td>\n",
       "      <td>Product 2</td>\n",
       "      <td>Units Sold</td>\n",
       "      <td>80</td>\n",
       "      <td>San Jose</td>\n",
       "    </tr>\n",
       "    <tr>\n",
       "      <th>35</th>\n",
       "      <td>Store A</td>\n",
       "      <td>January</td>\n",
       "      <td>Product 2</td>\n",
       "      <td>Revenue</td>\n",
       "      <td>88</td>\n",
       "      <td>San Jose</td>\n",
       "    </tr>\n",
       "    <tr>\n",
       "      <th>36</th>\n",
       "      <td>Store A</td>\n",
       "      <td>February</td>\n",
       "      <td>Product 1</td>\n",
       "      <td>Units Sold</td>\n",
       "      <td>76</td>\n",
       "      <td>San Jose</td>\n",
       "    </tr>\n",
       "    <tr>\n",
       "      <th>37</th>\n",
       "      <td>Store A</td>\n",
       "      <td>February</td>\n",
       "      <td>Product 1</td>\n",
       "      <td>Revenue</td>\n",
       "      <td>18</td>\n",
       "      <td>San Jose</td>\n",
       "    </tr>\n",
       "    <tr>\n",
       "      <th>38</th>\n",
       "      <td>Store A</td>\n",
       "      <td>February</td>\n",
       "      <td>Product 2</td>\n",
       "      <td>Units Sold</td>\n",
       "      <td>54</td>\n",
       "      <td>San Jose</td>\n",
       "    </tr>\n",
       "    <tr>\n",
       "      <th>39</th>\n",
       "      <td>Store A</td>\n",
       "      <td>February</td>\n",
       "      <td>Product 2</td>\n",
       "      <td>Revenue</td>\n",
       "      <td>98</td>\n",
       "      <td>San Jose</td>\n",
       "    </tr>\n",
       "    <tr>\n",
       "      <th>40</th>\n",
       "      <td>Store B</td>\n",
       "      <td>January</td>\n",
       "      <td>Product 1</td>\n",
       "      <td>Units Sold</td>\n",
       "      <td>51</td>\n",
       "      <td>San Jose</td>\n",
       "    </tr>\n",
       "    <tr>\n",
       "      <th>41</th>\n",
       "      <td>Store B</td>\n",
       "      <td>January</td>\n",
       "      <td>Product 1</td>\n",
       "      <td>Revenue</td>\n",
       "      <td>25</td>\n",
       "      <td>San Jose</td>\n",
       "    </tr>\n",
       "    <tr>\n",
       "      <th>42</th>\n",
       "      <td>Store B</td>\n",
       "      <td>January</td>\n",
       "      <td>Product 2</td>\n",
       "      <td>Units Sold</td>\n",
       "      <td>85</td>\n",
       "      <td>San Jose</td>\n",
       "    </tr>\n",
       "    <tr>\n",
       "      <th>43</th>\n",
       "      <td>Store B</td>\n",
       "      <td>January</td>\n",
       "      <td>Product 2</td>\n",
       "      <td>Revenue</td>\n",
       "      <td>31</td>\n",
       "      <td>San Jose</td>\n",
       "    </tr>\n",
       "    <tr>\n",
       "      <th>44</th>\n",
       "      <td>Store B</td>\n",
       "      <td>February</td>\n",
       "      <td>Product 1</td>\n",
       "      <td>Units Sold</td>\n",
       "      <td>95</td>\n",
       "      <td>San Jose</td>\n",
       "    </tr>\n",
       "    <tr>\n",
       "      <th>45</th>\n",
       "      <td>Store B</td>\n",
       "      <td>February</td>\n",
       "      <td>Product 1</td>\n",
       "      <td>Revenue</td>\n",
       "      <td>82</td>\n",
       "      <td>San Jose</td>\n",
       "    </tr>\n",
       "    <tr>\n",
       "      <th>46</th>\n",
       "      <td>Store B</td>\n",
       "      <td>February</td>\n",
       "      <td>Product 2</td>\n",
       "      <td>Units Sold</td>\n",
       "      <td>55</td>\n",
       "      <td>San Jose</td>\n",
       "    </tr>\n",
       "    <tr>\n",
       "      <th>47</th>\n",
       "      <td>Store B</td>\n",
       "      <td>February</td>\n",
       "      <td>Product 2</td>\n",
       "      <td>Revenue</td>\n",
       "      <td>4</td>\n",
       "      <td>San Jose</td>\n",
       "    </tr>\n",
       "  </tbody>\n",
       "</table>\n",
       "</div>"
      ]
     },
     "execution_count": 33,
     "metadata": {},
     "output_type": "execute_result"
    }
   ],
   "execution_count": 33
  },
  {
   "cell_type": "code",
   "source": [
    "dt.to_excel(df, show=True)"
   ],
   "metadata": {
    "collapsed": false,
    "ExecuteTime": {
     "end_time": "2024-12-11T07:36:06.159778Z",
     "start_time": "2024-12-11T07:36:06.144551Z"
    }
   },
   "outputs": [
    {
     "name": "stdout",
     "output_type": "stream",
     "text": [
      "# Dataframe written to /Users/oblinger/ob/proj/dvc-dat/examples/output.xlsx\n"
     ]
    },
    {
     "data": {
      "text/plain": [
       "'/Users/oblinger/ob/proj/dvc-dat/examples/output.xlsx'"
      ]
     },
     "execution_count": 34,
     "metadata": {},
     "output_type": "execute_result"
    }
   ],
   "execution_count": 34
  },
  {
   "cell_type": "markdown",
   "source": [
    "#### The 'sheets' parameter\n",
    "The 'sheets' to_excel parameter can be used to split a data frame into separate Excel sheets according to the value of the indicated column.  Here we split the DataFrame so each city is on its own sheet."
   ],
   "metadata": {
    "collapsed": false
   }
  },
  {
   "cell_type": "code",
   "source": [
    "dt.to_excel(df, sheets=[\"list\"], show=True)"
   ],
   "metadata": {
    "collapsed": false,
    "ExecuteTime": {
     "end_time": "2024-12-11T07:36:09.352744Z",
     "start_time": "2024-12-11T07:36:09.336076Z"
    }
   },
   "outputs": [
    {
     "name": "stdout",
     "output_type": "stream",
     "text": [
      "# Dataframe written to /Users/oblinger/ob/proj/dvc-dat/examples/output.xlsx\n"
     ]
    },
    {
     "data": {
      "text/plain": [
       "'/Users/oblinger/ob/proj/dvc-dat/examples/output.xlsx'"
      ]
     },
     "execution_count": 35,
     "metadata": {},
     "output_type": "execute_result"
    }
   ],
   "execution_count": 35
  },
  {
   "cell_type": "markdown",
   "source": [
    "Providing multiple columns in the 'sheets' parameter will create a sheets for the cross-product of column values as shown here:"
   ],
   "metadata": {
    "collapsed": false
   }
  },
  {
   "cell_type": "code",
   "source": [
    "dt.to_excel(df, sheets=[\"list\", \"Store\"], show=True)"
   ],
   "metadata": {
    "collapsed": false,
    "ExecuteTime": {
     "end_time": "2024-12-11T07:36:11.408163Z",
     "start_time": "2024-12-11T07:36:11.389369Z"
    }
   },
   "outputs": [
    {
     "name": "stdout",
     "output_type": "stream",
     "text": [
      "# Dataframe written to /Users/oblinger/ob/proj/dvc-dat/examples/output.xlsx\n"
     ]
    },
    {
     "data": {
      "text/plain": [
       "'/Users/oblinger/ob/proj/dvc-dat/examples/output.xlsx'"
      ]
     },
     "execution_count": 36,
     "metadata": {},
     "output_type": "execute_result"
    }
   ],
   "execution_count": 36
  },
  {
   "cell_type": "markdown",
   "source": [
    "#### The 'docs' parameter\n",
    "Another way to slice a DataFrame is into separate Excel documents.  Here we split the DataFrame by month:"
   ],
   "metadata": {
    "collapsed": false
   }
  },
  {
   "cell_type": "code",
   "source": [
    "dt.to_excel(df, docs=[\"Month\"], show=True)"
   ],
   "metadata": {
    "collapsed": false,
    "ExecuteTime": {
     "end_time": "2024-12-11T07:36:13.290948Z",
     "start_time": "2024-12-11T07:36:13.266654Z"
    }
   },
   "outputs": [
    {
     "name": "stdout",
     "output_type": "stream",
     "text": [
      "# Dataframe written to /Users/oblinger/ob/proj/dvc-dat/examples/February.xlsx\n",
      "# Dataframe written to /Users/oblinger/ob/proj/dvc-dat/examples/January.xlsx\n"
     ]
    },
    {
     "data": {
      "text/plain": [
       "'/Users/oblinger/ob/proj/dvc-dat/examples'"
      ]
     },
     "execution_count": 37,
     "metadata": {},
     "output_type": "execute_result"
    }
   ],
   "execution_count": 37
  },
  {
   "cell_type": "markdown",
   "source": [
    "#### The 'add_formatted_column' parameter\n",
    "Often a report can be tidied up by combining related columns into single semantically\n",
    "unified ones.   The 'add_formatted_columns' defines a simple formatting syntax based\n",
    "on Python's format fn. Here we combine the 'Metric' and 'Value' columns into the new\n",
    "'Result' column."
   ],
   "metadata": {
    "collapsed": false
   }
  },
  {
   "cell_type": "code",
   "source": [
    "dt.to_excel(df, sheets=[\"Store\", \"Month\"], show=True,\n",
    "            formatted_columns=[\"Result <== {0} {1} <==  Value, Metric\"])"
   ],
   "metadata": {
    "collapsed": false,
    "ExecuteTime": {
     "end_time": "2024-12-11T07:36:14.914046Z",
     "start_time": "2024-12-11T07:36:14.892224Z"
    }
   },
   "outputs": [
    {
     "name": "stdout",
     "output_type": "stream",
     "text": [
      "# Dataframe written to /Users/oblinger/ob/proj/dvc-dat/examples/output.xlsx\n"
     ]
    },
    {
     "data": {
      "text/plain": [
       "'/Users/oblinger/ob/proj/dvc-dat/examples/output.xlsx'"
      ]
     },
     "execution_count": 38,
     "metadata": {},
     "output_type": "execute_result"
    }
   ],
   "execution_count": 38
  },
  {
   "cell_type": "markdown",
   "source": [
    "#### The 'columns' parameter\n",
    "The 'columns' parameter also can be used to trim the Excel sheet(s) to only include the listed\n",
    "columns.  This can also be used to \"tidy up\" the output."
   ],
   "metadata": {
    "collapsed": false
   }
  },
  {
   "cell_type": "code",
   "source": [
    "dt.to_excel(df, sheets=[\"Store\", \"Month\"], show=True,\n",
    "            columns=[\"list\", \"Product\", \"Result\"],\n",
    "            formatted_columns=[\"Result <== {0} {1} <==  Value, Metric\"])"
   ],
   "metadata": {
    "collapsed": false,
    "ExecuteTime": {
     "end_time": "2024-12-11T07:36:17.609827Z",
     "start_time": "2024-12-11T07:36:17.580798Z"
    }
   },
   "outputs": [
    {
     "name": "stdout",
     "output_type": "stream",
     "text": [
      "# Dataframe written to /Users/oblinger/ob/proj/dvc-dat/examples/output.xlsx\n"
     ]
    },
    {
     "data": {
      "text/plain": [
       "'/Users/oblinger/ob/proj/dvc-dat/examples/output.xlsx'"
      ]
     },
     "execution_count": 39,
     "metadata": {},
     "output_type": "execute_result"
    }
   ],
   "execution_count": 39
  },
  {
   "cell_type": "markdown",
   "source": [
    "#### The 'transform' parameter\n",
    "The formatted_columns parameter was included as combining columns is a common\n",
    "special case.  More generally, one can use the 'transform' parameter to perform\n",
    "arbitrary transformation of the dataframe before writing it to Excel.  It accepts a\n",
    "transform function that returns a new transformed DataFrame based on its input DF.\n",
    "\n",
    "Here we have a transform fn that computes average revenue and average units sold then\n",
    "conditionally adds respective percentage calculations after dollars or units sold as\n",
    "appropriate."
   ],
   "metadata": {
    "collapsed": false
   }
  },
  {
   "cell_type": "code",
   "source": [
    "def my_transform(df_):\n",
    "    \"\"\"Adds a 'Result' column to the DataFrame.\n",
    "    \n",
    "    Computes two sums, one for 'Revenue' and one for 'Units Sold' then \n",
    "    computes percentage relative to the average for each metric.\"\"\"\n",
    "    def my_result(row):\n",
    "        if row['Metric'] == 'Revenue':\n",
    "            percentage = (row['Value'] / average_revenue) * 100\n",
    "            return f\"${row['Value']} ({int(percentage)}%)\"\n",
    "        elif row['Metric'] == 'Units Sold':\n",
    "            percentage = (row['Value'] / average_units) * 100\n",
    "            return f\"{row['Value']} Units ({int(percentage)}%)\"\n",
    "        else:\n",
    "            return \"???\"\n",
    "    average_revenue = df_[df_['Metric'] == 'Revenue']['Value'].mean()\n",
    "    average_units = df_[df_['Metric'] == 'Units Sold']['Value'].mean()\n",
    "    df_['Result'] = df_.apply(my_result, axis=1)\n",
    "    return df_\n",
    "\n",
    "dt.to_excel(df, sheets=[\"Store\", \"Month\"], show=True,\n",
    "            columns=[\"list\", \"Product\", \"Result\"],\n",
    "            transform=my_transform)"
   ],
   "metadata": {
    "collapsed": false,
    "ExecuteTime": {
     "end_time": "2024-12-11T07:36:20.059600Z",
     "start_time": "2024-12-11T07:36:20.040148Z"
    }
   },
   "outputs": [
    {
     "name": "stdout",
     "output_type": "stream",
     "text": [
      "# Dataframe written to /Users/oblinger/ob/proj/dvc-dat/examples/output.xlsx\n"
     ]
    },
    {
     "data": {
      "text/plain": [
       "'/Users/oblinger/ob/proj/dvc-dat/examples/output.xlsx'"
      ]
     },
     "execution_count": 40,
     "metadata": {},
     "output_type": "execute_result"
    }
   ],
   "execution_count": 40
  },
  {
   "cell_type": "markdown",
   "source": [
    "#### Combining many parameters\n",
    "Here we split into docs and sheets, applies transform, and selects specific columns"
   ],
   "metadata": {
    "collapsed": false
   }
  },
  {
   "cell_type": "markdown",
   "source": [
    "And we can combine these methods to slice the data simultaneously by document and sheet:"
   ],
   "metadata": {
    "collapsed": false
   }
  },
  {
   "cell_type": "code",
   "source": [
    "dt.to_excel(df, show=True,\n",
    "            title=\"Tidy Retail Report\",\n",
    "            folder=\"/tmp\",\n",
    "            docs=[\"Month\"],\n",
    "            sheets=[\"list\", \"Store\"],\n",
    "            columns=[\"Product\", \"Result\"],\n",
    "            transform=my_transform)"
   ],
   "metadata": {
    "collapsed": false,
    "ExecuteTime": {
     "end_time": "2024-12-11T07:36:22.286027Z",
     "start_time": "2024-12-11T07:36:22.248772Z"
    }
   },
   "outputs": [
    {
     "name": "stdout",
     "output_type": "stream",
     "text": [
      "# Dataframe written to /tmp/Tidy Retail Report February.xlsx\n",
      "# Dataframe written to /tmp/Tidy Retail Report January.xlsx\n"
     ]
    },
    {
     "data": {
      "text/plain": [
       "'/tmp'"
      ]
     },
     "execution_count": 41,
     "metadata": {},
     "output_type": "execute_result"
    }
   ],
   "execution_count": 41
  },
  {
   "cell_type": "markdown",
   "source": [
    "# METRICS_MATRIX\n",
    "The 'dat_report' function is used to create a matrix of metrics from a list of\n",
    "Dats and a list of metric functions.  The matrix is a 2D array where each row\n",
    "represents a Dat, and each column represents a metric function.  The 'dat_report'\n",
    "function is useful for creating a matrix of metrics for a set of Dats that can be used\n",
    "for further analysis or visualization.\n",
    "\n",
    "The 'dat_report' is designed to be used as a do-method.\n"
   ],
   "metadata": {
    "collapsed": false
   }
  },
  {
   "cell_type": "code",
   "source": [
    "show(\"mr_sprint23\")"
   ],
   "metadata": {
    "collapsed": false,
    "ExecuteTime": {
     "end_time": "2024-12-11T07:36:24.701751Z",
     "start_time": "2024-12-11T07:36:24.698701Z"
    }
   },
   "outputs": [
    {
     "name": "stdout",
     "output_type": "stream",
     "text": [
      "\n",
      "### SHOWING MODULE '.../mr_sprint23.py'\n",
      "  | __main__ = {\n",
      "  |     \"dat\": {\"do\": \"dt.dat_report\"},\n",
      "  |     \"dat_report\": {\n",
      "  |         \"title\": \"S23\",\n",
      "  |         \"source\": [\"runs/example/hello10\", \"runs/example/hello5\"],\n",
      "  |         \"metrics\": [\"cube_hello.is_prime\", \"cube_hello.data\", \"cube_hello.color_p\"],\n",
      "  |         \"show\": True}\n",
      "  | }\n",
      "  | \n",
      "  | add_col = {\n",
      "  |     \"dat\": {\"base\": \"mr_sprint23\"},\n",
      "  |     \"dat_report\": {\n",
      "  |         \"title\": \"S23b\", \"show\": False, \"verbose\": False,\n",
      "  |         \"formatted_columns\":\n",
      "  |             [\" new_col <== {0}-{1} <== is_prime, color_p \"]}\n",
      "  | }\n",
      "  | \n",
      "\n",
      "\n"
     ]
    }
   ],
   "execution_count": 42
  },
  {
   "cell_type": "code",
   "source": [
    "do(\"mr_sprint23\")"
   ],
   "metadata": {
    "collapsed": false,
    "ExecuteTime": {
     "end_time": "2024-12-11T07:36:24.935818Z",
     "start_time": "2024-12-11T07:36:24.905696Z"
    }
   },
   "outputs": [
    {
     "name": "stdout",
     "output_type": "stream",
     "text": [
      "# Dataframe written to /Users/oblinger/ob/proj/dvc-dat/examples/S23.xlsx\n"
     ]
    },
    {
     "data": {
      "text/plain": [
       "    is_prime                           data  color_p list\n",
       "0      False          6-11-4-7-5-8-2-11-3-2      0.4    0\n",
       "1      False            6-8-2-3-3-3-3-5-3-2      0.4    1\n",
       "2       True            0-1-2-1-2-3-0-2-3-3      0.4    2\n",
       "3       True          8-7-9-11-7-8-8-9-10-7      0.4    3\n",
       "4      False  11-11-11-11-11-11-10-10-10-11      0.4    4\n",
       "5       True        9-8-11-14-13-8-7-8-13-6      0.4    5\n",
       "6      False            3-4-4-6-3-6-2-8-6-8      0.4    6\n",
       "7       True  10-10-10-10-11-10-11-10-10-10      0.4    7\n",
       "8      False      9-16-9-6-7-11-11-11-16-11      0.4    8\n",
       "9      False           7-10-4-8-8-5-5-8-4-9      0.4    9\n",
       "10     False   12-10-12-11-13-14-14-10-14-9      0.4    0\n",
       "11     False            1-4-6-4-4-2-6-6-4-8      0.4    1\n",
       "12      True  10-10-10-10-10-10-10-10-10-10      0.4    2\n",
       "13      True      11-11-13-12-10-9-9-9-13-5      0.4    3\n",
       "14     False            5-5-5-5-5-5-4-5-5-5      0.4    4\n",
       "15      True  10-10-10-11-11-10-11-11-11-11      0.4    5\n",
       "16     False        8-5-12-9-7-4-11-12-14-6      0.4    6\n",
       "17      True            4-1-4-4-4-2-4-4-1-0      0.4    7\n",
       "18     False      8-11-10-10-10-8-9-11-8-10      0.4    8\n",
       "19     False            5-6-6-5-5-5-5-6-6-5      0.4    9"
      ],
      "text/html": [
       "<div>\n",
       "<style scoped>\n",
       "    .dataframe tbody tr th:only-of-type {\n",
       "        vertical-align: middle;\n",
       "    }\n",
       "\n",
       "    .dataframe tbody tr th {\n",
       "        vertical-align: top;\n",
       "    }\n",
       "\n",
       "    .dataframe thead th {\n",
       "        text-align: right;\n",
       "    }\n",
       "</style>\n",
       "<table border=\"1\" class=\"dataframe\">\n",
       "  <thead>\n",
       "    <tr style=\"text-align: right;\">\n",
       "      <th></th>\n",
       "      <th>is_prime</th>\n",
       "      <th>data</th>\n",
       "      <th>color_p</th>\n",
       "      <th>list</th>\n",
       "    </tr>\n",
       "  </thead>\n",
       "  <tbody>\n",
       "    <tr>\n",
       "      <th>0</th>\n",
       "      <td>False</td>\n",
       "      <td>6-11-4-7-5-8-2-11-3-2</td>\n",
       "      <td>0.4</td>\n",
       "      <td>0</td>\n",
       "    </tr>\n",
       "    <tr>\n",
       "      <th>1</th>\n",
       "      <td>False</td>\n",
       "      <td>6-8-2-3-3-3-3-5-3-2</td>\n",
       "      <td>0.4</td>\n",
       "      <td>1</td>\n",
       "    </tr>\n",
       "    <tr>\n",
       "      <th>2</th>\n",
       "      <td>True</td>\n",
       "      <td>0-1-2-1-2-3-0-2-3-3</td>\n",
       "      <td>0.4</td>\n",
       "      <td>2</td>\n",
       "    </tr>\n",
       "    <tr>\n",
       "      <th>3</th>\n",
       "      <td>True</td>\n",
       "      <td>8-7-9-11-7-8-8-9-10-7</td>\n",
       "      <td>0.4</td>\n",
       "      <td>3</td>\n",
       "    </tr>\n",
       "    <tr>\n",
       "      <th>4</th>\n",
       "      <td>False</td>\n",
       "      <td>11-11-11-11-11-11-10-10-10-11</td>\n",
       "      <td>0.4</td>\n",
       "      <td>4</td>\n",
       "    </tr>\n",
       "    <tr>\n",
       "      <th>5</th>\n",
       "      <td>True</td>\n",
       "      <td>9-8-11-14-13-8-7-8-13-6</td>\n",
       "      <td>0.4</td>\n",
       "      <td>5</td>\n",
       "    </tr>\n",
       "    <tr>\n",
       "      <th>6</th>\n",
       "      <td>False</td>\n",
       "      <td>3-4-4-6-3-6-2-8-6-8</td>\n",
       "      <td>0.4</td>\n",
       "      <td>6</td>\n",
       "    </tr>\n",
       "    <tr>\n",
       "      <th>7</th>\n",
       "      <td>True</td>\n",
       "      <td>10-10-10-10-11-10-11-10-10-10</td>\n",
       "      <td>0.4</td>\n",
       "      <td>7</td>\n",
       "    </tr>\n",
       "    <tr>\n",
       "      <th>8</th>\n",
       "      <td>False</td>\n",
       "      <td>9-16-9-6-7-11-11-11-16-11</td>\n",
       "      <td>0.4</td>\n",
       "      <td>8</td>\n",
       "    </tr>\n",
       "    <tr>\n",
       "      <th>9</th>\n",
       "      <td>False</td>\n",
       "      <td>7-10-4-8-8-5-5-8-4-9</td>\n",
       "      <td>0.4</td>\n",
       "      <td>9</td>\n",
       "    </tr>\n",
       "    <tr>\n",
       "      <th>10</th>\n",
       "      <td>False</td>\n",
       "      <td>12-10-12-11-13-14-14-10-14-9</td>\n",
       "      <td>0.4</td>\n",
       "      <td>0</td>\n",
       "    </tr>\n",
       "    <tr>\n",
       "      <th>11</th>\n",
       "      <td>False</td>\n",
       "      <td>1-4-6-4-4-2-6-6-4-8</td>\n",
       "      <td>0.4</td>\n",
       "      <td>1</td>\n",
       "    </tr>\n",
       "    <tr>\n",
       "      <th>12</th>\n",
       "      <td>True</td>\n",
       "      <td>10-10-10-10-10-10-10-10-10-10</td>\n",
       "      <td>0.4</td>\n",
       "      <td>2</td>\n",
       "    </tr>\n",
       "    <tr>\n",
       "      <th>13</th>\n",
       "      <td>True</td>\n",
       "      <td>11-11-13-12-10-9-9-9-13-5</td>\n",
       "      <td>0.4</td>\n",
       "      <td>3</td>\n",
       "    </tr>\n",
       "    <tr>\n",
       "      <th>14</th>\n",
       "      <td>False</td>\n",
       "      <td>5-5-5-5-5-5-4-5-5-5</td>\n",
       "      <td>0.4</td>\n",
       "      <td>4</td>\n",
       "    </tr>\n",
       "    <tr>\n",
       "      <th>15</th>\n",
       "      <td>True</td>\n",
       "      <td>10-10-10-11-11-10-11-11-11-11</td>\n",
       "      <td>0.4</td>\n",
       "      <td>5</td>\n",
       "    </tr>\n",
       "    <tr>\n",
       "      <th>16</th>\n",
       "      <td>False</td>\n",
       "      <td>8-5-12-9-7-4-11-12-14-6</td>\n",
       "      <td>0.4</td>\n",
       "      <td>6</td>\n",
       "    </tr>\n",
       "    <tr>\n",
       "      <th>17</th>\n",
       "      <td>True</td>\n",
       "      <td>4-1-4-4-4-2-4-4-1-0</td>\n",
       "      <td>0.4</td>\n",
       "      <td>7</td>\n",
       "    </tr>\n",
       "    <tr>\n",
       "      <th>18</th>\n",
       "      <td>False</td>\n",
       "      <td>8-11-10-10-10-8-9-11-8-10</td>\n",
       "      <td>0.4</td>\n",
       "      <td>8</td>\n",
       "    </tr>\n",
       "    <tr>\n",
       "      <th>19</th>\n",
       "      <td>False</td>\n",
       "      <td>5-6-6-5-5-5-5-6-6-5</td>\n",
       "      <td>0.4</td>\n",
       "      <td>9</td>\n",
       "    </tr>\n",
       "  </tbody>\n",
       "</table>\n",
       "</div>"
      ]
     },
     "execution_count": 43,
     "metadata": {},
     "output_type": "execute_result"
    }
   ],
   "execution_count": 43
  },
  {
   "cell_type": "markdown",
   "source": [
    "#### Do commands all exported to command line\n",
    "All do commands can also be run from the command line.  The 'do' launcher script:"
   ],
   "metadata": {
    "collapsed": false
   }
  },
  {
   "cell_type": "code",
   "source": [
    "!./do mr_sprint23"
   ],
   "metadata": {
    "collapsed": false,
    "ExecuteTime": {
     "end_time": "2024-12-11T07:36:27.545418Z",
     "start_time": "2024-12-11T07:36:27.050102Z"
    }
   },
   "outputs": [
    {
     "name": "stdout",
     "output_type": "stream",
     "text": [
      "# Dataframe written to /Users/oblinger/ob/proj/dvc-dat/examples/S23.xlsx\r\n",
      "    is_prime                           data  color_p list\r\n",
      "0      False          6-11-4-7-5-8-2-11-3-2      0.4    0\r\n",
      "1      False            6-8-2-3-3-3-3-5-3-2      0.4    1\r\n",
      "2       True            0-1-2-1-2-3-0-2-3-3      0.4    2\r\n",
      "3       True          8-7-9-11-7-8-8-9-10-7      0.4    3\r\n",
      "4      False  11-11-11-11-11-11-10-10-10-11      0.4    4\r\n",
      "5       True        9-8-11-14-13-8-7-8-13-6      0.4    5\r\n",
      "6      False            3-4-4-6-3-6-2-8-6-8      0.4    6\r\n",
      "7       True  10-10-10-10-11-10-11-10-10-10      0.4    7\r\n",
      "8      False      9-16-9-6-7-11-11-11-16-11      0.4    8\r\n",
      "9      False           7-10-4-8-8-5-5-8-4-9      0.4    9\r\n",
      "10     False   12-10-12-11-13-14-14-10-14-9      0.4    0\r\n",
      "11     False            1-4-6-4-4-2-6-6-4-8      0.4    1\r\n",
      "12      True  10-10-10-10-10-10-10-10-10-10      0.4    2\r\n",
      "13      True      11-11-13-12-10-9-9-9-13-5      0.4    3\r\n",
      "14     False            5-5-5-5-5-5-4-5-5-5      0.4    4\r\n",
      "15      True  10-10-10-11-11-10-11-11-11-11      0.4    5\r\n",
      "16     False        8-5-12-9-7-4-11-12-14-6      0.4    6\r\n",
      "17      True            4-1-4-4-4-2-4-4-1-0      0.4    7\r\n",
      "18     False      8-11-10-10-10-8-9-11-8-10      0.4    8\r\n",
      "19     False            5-6-6-5-5-5-5-6-6-5      0.4    9\r\n"
     ]
    }
   ],
   "execution_count": 44
  },
  {
   "cell_type": "markdown",
   "source": [
    "#### Configuration inheritance\n",
    "Configuration shadowing inheritance eases testing of special cases.  Here we add a column to the 'mr_sprint23' configuration."
   ],
   "metadata": {
    "collapsed": false
   }
  },
  {
   "cell_type": "code",
   "source": [
    "!./do mr_sprint23.add_col"
   ],
   "metadata": {
    "collapsed": false,
    "ExecuteTime": {
     "end_time": "2024-12-11T07:36:28.010025Z",
     "start_time": "2024-12-11T07:36:27.546604Z"
    }
   },
   "outputs": [
    {
     "name": "stdout",
     "output_type": "stream",
     "text": [
      "# Dataframe written to /Users/oblinger/ob/proj/dvc-dat/examples/S23b.xlsx\r\n",
      "    is_prime                           data  color_p list    new_col\r\n",
      "0      False          6-11-4-7-5-8-2-11-3-2      0.4    0  False-0.4\r\n",
      "1      False            6-8-2-3-3-3-3-5-3-2      0.4    1  False-0.4\r\n",
      "2       True            0-1-2-1-2-3-0-2-3-3      0.4    2   True-0.4\r\n",
      "3       True          8-7-9-11-7-8-8-9-10-7      0.4    3   True-0.4\r\n",
      "4      False  11-11-11-11-11-11-10-10-10-11      0.4    4  False-0.4\r\n",
      "5       True        9-8-11-14-13-8-7-8-13-6      0.4    5   True-0.4\r\n",
      "6      False            3-4-4-6-3-6-2-8-6-8      0.4    6  False-0.4\r\n",
      "7       True  10-10-10-10-11-10-11-10-10-10      0.4    7   True-0.4\r\n",
      "8      False      9-16-9-6-7-11-11-11-16-11      0.4    8  False-0.4\r\n",
      "9      False           7-10-4-8-8-5-5-8-4-9      0.4    9  False-0.4\r\n",
      "10     False   12-10-12-11-13-14-14-10-14-9      0.4    0  False-0.4\r\n",
      "11     False            1-4-6-4-4-2-6-6-4-8      0.4    1  False-0.4\r\n",
      "12      True  10-10-10-10-10-10-10-10-10-10      0.4    2   True-0.4\r\n",
      "13      True      11-11-13-12-10-9-9-9-13-5      0.4    3   True-0.4\r\n",
      "14     False            5-5-5-5-5-5-4-5-5-5      0.4    4  False-0.4\r\n",
      "15      True  10-10-10-11-11-10-11-11-11-11      0.4    5   True-0.4\r\n",
      "16     False        8-5-12-9-7-4-11-12-14-6      0.4    6  False-0.4\r\n",
      "17      True            4-1-4-4-4-2-4-4-1-0      0.4    7   True-0.4\r\n",
      "18     False      8-11-10-10-10-8-9-11-8-10      0.4    8  False-0.4\r\n",
      "19     False            5-6-6-5-5-5-5-6-6-5      0.4    9  False-0.4\r\n"
     ]
    }
   ],
   "execution_count": 45
  },
  {
   "cell_type": "markdown",
   "source": [
    "#### Combining configuration and code\n",
    "Allowing configuration structures to be defined directly in python allows configuration\n",
    "to be combined with code in the same file.  Combining code and configuration in this\n",
    "way is powerful, natural, and simple."
   ],
   "metadata": {
    "collapsed": false
   }
  },
  {
   "cell_type": "code",
   "source": [
    "#### Cleanup\n",
    "!echo CWD = $PWD\n",
    "!ls *.xlsx\n",
    "!rm *.xlsx\n",
    "!rm -r example_dat_data_folder/runs/doubler example_dat_data_folder/runs/mspipe"
   ],
   "metadata": {
    "collapsed": false,
    "ExecuteTime": {
     "end_time": "2024-12-11T07:36:29.902468Z",
     "start_time": "2024-12-11T07:36:29.411388Z"
    }
   },
   "outputs": [
    {
     "name": "stdout",
     "output_type": "stream",
     "text": [
      "CWD = /Users/oblinger/ob/proj/dvc-dat/examples\r\n",
      "February.xlsx January.xlsx  S23.xlsx      S23b.xlsx     output.xlsx\r\n",
      "rm: example_dat_data_folder/runs/doubler: No such file or directory\r\n",
      "rm: example_dat_data_folder/runs/mspipe: No such file or directory\r\n"
     ]
    }
   ],
   "execution_count": 46
  },
  {
   "metadata": {
    "ExecuteTime": {
     "end_time": "2024-12-11T07:36:29.905787Z",
     "start_time": "2024-12-11T07:36:29.903920Z"
    }
   },
   "cell_type": "code",
   "source": "",
   "outputs": [],
   "execution_count": 46
  },
  {
   "metadata": {},
   "cell_type": "code",
   "outputs": [],
   "execution_count": null,
   "source": ""
  }
 ],
 "metadata": {
  "kernelspec": {
   "display_name": "Python 3 (ipykernel)",
   "language": "python",
   "name": "python3"
  },
  "language_info": {
   "codemirror_mode": {
    "name": "ipython",
    "version": 3
   },
   "file_extension": ".py",
   "mimetype": "text/x-python",
   "name": "python",
   "nbconvert_exporter": "python",
   "pygments_lexer": "ipython3",
   "version": "3.12.0"
  }
 },
 "nbformat": 4,
 "nbformat_minor": 4
}
