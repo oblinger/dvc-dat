{
 "cells": [
  {
   "cell_type": "code",
   "metadata": {
    "ExecuteTime": {
     "end_time": "2024-10-09T22:42:48.913442Z",
     "start_time": "2024-10-09T22:42:48.908547Z"
    }
   },
   "source": [
    "import os\n",
    "import sys\n",
    "import json\n",
    "sys.path.append(os.path.dirname(os.path.dirname(os.getcwd())))\n",
    "\n",
    "# Setup stuff.  The cell just supports the workbook, you can ignore it\n",
    "EXAMPLE_DO_FOLDER = os.path.join(os.getcwd(), \"example_do_folder\")\n",
    "INSERTION_FOLDER = os.path.join(EXAMPLE_DO_FOLDER, \"hello/do_examples\")\n",
    "\n",
    "def show(base):\n",
    "    with open(do.get_base(base).__file__) as file:\n",
    "        contents = file.read()\n",
    "    with_bar = \"\\n  | \".join(contents.split(\"\\n\"))\n",
    "    print(F\"\\n### SHOWING MODULE {'.../'+base+'.py'!r}\\n  | {with_bar}\\n\\n\")\n",
    "\n",
    "def run_do(*args, **kwargs):\n",
    "    parts = [repr(x) for x in args] + [F\"{k}={v!r}\" for k, v in kwargs.items()]\n",
    "    print(F\"do({', '.join(parts)})\")\n",
    "    result = do(*args, **kwargs)\n",
    "    print(F\"--> {result!r}\")\n",
    "    print()\n",
    "\n",
    "\n",
    "print(F\"### .INSERTION FOLDER        = {INSERTION_FOLDER!r}\")\n",
    "print(F\"### DO FOLDER (in Jupyter)  = {EXAMPLE_DO_FOLDER}\")\n",
    "sys.path.append(os.path.dirname(os.path.dirname(EXAMPLE_DO_FOLDER)))\n",
    "from dvc_dat import do   # Add all loadables BEFORE loading this module\n",
    "# print(F\"## DO FOLDER (in do module) = {do.do_folder!r}\")\n",
    "# if EXAMPLE_DO_FOLDER != do.do_folder:\n",
    "#    print(f\"WARNING: EXAMPLE_DO_FOLDER used by jupyter = {EXAMPLE_DO_FOLDER} does not match {do.do_folder}\")\n",
    "if not os.path.exists(INSERTION_FOLDER):\n",
    "    input(f\"WARNING: INSERTION_FOLDER {INSERTION_FOLDER!r} not found.\")\n",
    "    os.makedirs(INSERTION_FOLDER)\n",
    "print(\"\\n\\n\\n\\n\")\n"
   ],
   "outputs": [
    {
     "name": "stdout",
     "output_type": "stream",
     "text": [
      "### .INSERTION FOLDER        = '/Users/oblinger/ob/proj/dvc-dat/examples/example_do_folder/hello/do_examples'\n",
      "### DO FOLDER (in Jupyter)  = /Users/oblinger/ob/proj/dvc-dat/examples/example_do_folder\n",
      "\n",
      "\n",
      "\n",
      "\n",
      "\n"
     ]
    }
   ],
   "execution_count": 4
  },
  {
   "cell_type": "markdown",
   "source": [
    "# Example Data"
   ],
   "metadata": {
    "collapsed": false
   }
  },
  {
   "cell_type": "markdown",
   "source": [
    "### Imports"
   ],
   "metadata": {
    "collapsed": false
   }
  },
  {
   "cell_type": "code",
   "source": [
    "from dvc_dat import dat_tools as dt\n",
    "from dvc_dat import Dat, do"
   ],
   "metadata": {
    "collapsed": false,
    "ExecuteTime": {
     "end_time": "2024-10-09T22:42:51.380652Z",
     "start_time": "2024-10-09T22:42:51.377916Z"
    }
   },
   "outputs": [],
   "execution_count": 5
  },
  {
   "cell_type": "markdown",
   "metadata": {
    "collapsed": false,
    "jupyter": {
     "outputs_hidden": false
    }
   },
   "source": [
    "### Some Example Dats\n",
    "These Dat and point_fns are used to build and show DataFrames.\n"
   ]
  },
  {
   "cell_type": "code",
   "source": [
    "TMP_PATH1 = \"/tmp/job_test1\"\n",
    "spec1 = {\"dat\": {\"my_key1\": \"my_val1\", \"my_key2\": \"my_val2\"}}\n",
    "dat1 = Dat.create(spec=spec1, path=TMP_PATH1, overwrite=True)\n",
    "\n",
    "TMP_PATH2 = \"/tmp/job_test2\"\n",
    "spec2 = {\"dat\": {\"my_key1\": \"my_val1\", \"my_key2\": \"my_val2\"}, \"other\": \"key_value\"}\n",
    "dat2 = Dat.create(spec=spec2, path=TMP_PATH2, overwrite=True)\n"
   ],
   "metadata": {
    "collapsed": false,
    "ExecuteTime": {
     "end_time": "2024-10-09T22:42:54.051184Z",
     "start_time": "2024-10-09T22:42:54.046467Z"
    }
   },
   "outputs": [],
   "execution_count": 6
  },
  {
   "cell_type": "markdown",
   "source": [
    ".\n",
    "\n",
    ".\n",
    "\n",
    "## Creating DataFrames from Dats and point_fns"
   ],
   "metadata": {
    "collapsed": false
   }
  },
  {
   "cell_type": "markdown",
   "source": [
    "#### Zero point_fns applied to zero Dats yields an empty DataFrame"
   ],
   "metadata": {
    "collapsed": false
   }
  },
  {
   "cell_type": "code",
   "source": "dt.from_dat([], [])  # Cross-product of an empty list of dats and empty list of do functions is an empty DataFrames",
   "metadata": {
    "collapsed": false,
    "ExecuteTime": {
     "end_time": "2024-10-09T22:43:06.307984Z",
     "start_time": "2024-10-09T22:43:06.300612Z"
    }
   },
   "outputs": [
    {
     "data": {
      "text/plain": [
       "Empty DataFrame\n",
       "Columns: []\n",
       "Index: []"
      ],
      "text/html": [
       "<div>\n",
       "<style scoped>\n",
       "    .dataframe tbody tr th:only-of-type {\n",
       "        vertical-align: middle;\n",
       "    }\n",
       "\n",
       "    .dataframe tbody tr th {\n",
       "        vertical-align: top;\n",
       "    }\n",
       "\n",
       "    .dataframe thead th {\n",
       "        text-align: right;\n",
       "    }\n",
       "</style>\n",
       "<table border=\"1\" class=\"dataframe\">\n",
       "  <thead>\n",
       "    <tr style=\"text-align: right;\">\n",
       "      <th></th>\n",
       "    </tr>\n",
       "  </thead>\n",
       "  <tbody>\n",
       "  </tbody>\n",
       "</table>\n",
       "</div>"
      ]
     },
     "execution_count": 7,
     "metadata": {},
     "output_type": "execute_result"
    }
   ],
   "execution_count": 7
  },
  {
   "cell_type": "markdown",
   "source": "#### Two metrics applied to two dats yields a DataFrame w/ two rows & two cols",
   "metadata": {
    "collapsed": false
   }
  },
  {
   "cell_type": "code",
   "source": [
    "def always_17(_dat):\n",
    "    return 17\n",
    "\n",
    "\n",
    "def always_18(_dat):\n",
    "    return 18\n",
    "\n",
    "dt.from_dat([dat1, dat2], [always_17, always_18])"
   ],
   "metadata": {
    "collapsed": false,
    "ExecuteTime": {
     "end_time": "2024-10-09T22:43:11.451731Z",
     "start_time": "2024-10-09T22:43:11.446475Z"
    }
   },
   "outputs": [
    {
     "data": {
      "text/plain": [
       "   always_17  always_18       list\n",
       "0         17         18  job_test1\n",
       "1         17         18  job_test2"
      ],
      "text/html": [
       "<div>\n",
       "<style scoped>\n",
       "    .dataframe tbody tr th:only-of-type {\n",
       "        vertical-align: middle;\n",
       "    }\n",
       "\n",
       "    .dataframe tbody tr th {\n",
       "        vertical-align: top;\n",
       "    }\n",
       "\n",
       "    .dataframe thead th {\n",
       "        text-align: right;\n",
       "    }\n",
       "</style>\n",
       "<table border=\"1\" class=\"dataframe\">\n",
       "  <thead>\n",
       "    <tr style=\"text-align: right;\">\n",
       "      <th></th>\n",
       "      <th>always_17</th>\n",
       "      <th>always_18</th>\n",
       "      <th>list</th>\n",
       "    </tr>\n",
       "  </thead>\n",
       "  <tbody>\n",
       "    <tr>\n",
       "      <th>0</th>\n",
       "      <td>17</td>\n",
       "      <td>18</td>\n",
       "      <td>job_test1</td>\n",
       "    </tr>\n",
       "    <tr>\n",
       "      <th>1</th>\n",
       "      <td>17</td>\n",
       "      <td>18</td>\n",
       "      <td>job_test2</td>\n",
       "    </tr>\n",
       "  </tbody>\n",
       "</table>\n",
       "</div>"
      ]
     },
     "execution_count": 8,
     "metadata": {},
     "output_type": "execute_result"
    }
   ],
   "execution_count": 8
  },
  {
   "cell_type": "markdown",
   "source": [
    "#### Metric functions can also be expressed as string and loaded using 'do'"
   ],
   "metadata": {
    "collapsed": false
   }
  },
  {
   "cell_type": "code",
   "source": [
    "\n",
    "do.mount(at=\"registered_cube\", module=\"example_mounted_folder.dat_tools_examples.cube_hello\")\n",
    "dt.from_dat([dat1], [\"registered_cube.always_5\"])"
   ],
   "metadata": {
    "collapsed": false,
    "ExecuteTime": {
     "end_time": "2024-10-09T22:43:43.045811Z",
     "start_time": "2024-10-09T22:43:43.040477Z"
    }
   },
   "outputs": [
    {
     "data": {
      "text/plain": [
       "   always_5       list\n",
       "0         5  job_test1"
      ],
      "text/html": [
       "<div>\n",
       "<style scoped>\n",
       "    .dataframe tbody tr th:only-of-type {\n",
       "        vertical-align: middle;\n",
       "    }\n",
       "\n",
       "    .dataframe tbody tr th {\n",
       "        vertical-align: top;\n",
       "    }\n",
       "\n",
       "    .dataframe thead th {\n",
       "        text-align: right;\n",
       "    }\n",
       "</style>\n",
       "<table border=\"1\" class=\"dataframe\">\n",
       "  <thead>\n",
       "    <tr style=\"text-align: right;\">\n",
       "      <th></th>\n",
       "      <th>always_5</th>\n",
       "      <th>list</th>\n",
       "    </tr>\n",
       "  </thead>\n",
       "  <tbody>\n",
       "    <tr>\n",
       "      <th>0</th>\n",
       "      <td>5</td>\n",
       "      <td>job_test1</td>\n",
       "    </tr>\n",
       "  </tbody>\n",
       "</table>\n",
       "</div>"
      ]
     },
     "execution_count": 9,
     "metadata": {},
     "output_type": "execute_result"
    }
   ],
   "execution_count": 9
  },
  {
   "cell_type": "markdown",
   "source": [
    "#### Multi-valued Metric Functions\n",
    "Metric functions (also called point_fns) can return a dict of metric values instead of just returning a single value."
   ],
   "metadata": {
    "collapsed": false
   }
  },
  {
   "cell_type": "code",
   "source": [
    "fns = [always_17, lambda dat: {\"val1\": 111, \"val2\": 2222}]\n",
    "dt.from_dat([dat1, dat2], point_fns=fns)"
   ],
   "metadata": {
    "collapsed": false,
    "ExecuteTime": {
     "end_time": "2024-10-09T22:43:50.908595Z",
     "start_time": "2024-10-09T22:43:50.904307Z"
    }
   },
   "outputs": [
    {
     "data": {
      "text/plain": [
       "   always_17  val1  val2       list\n",
       "0         17   111  2222  job_test1\n",
       "1         17   111  2222  job_test2"
      ],
      "text/html": [
       "<div>\n",
       "<style scoped>\n",
       "    .dataframe tbody tr th:only-of-type {\n",
       "        vertical-align: middle;\n",
       "    }\n",
       "\n",
       "    .dataframe tbody tr th {\n",
       "        vertical-align: top;\n",
       "    }\n",
       "\n",
       "    .dataframe thead th {\n",
       "        text-align: right;\n",
       "    }\n",
       "</style>\n",
       "<table border=\"1\" class=\"dataframe\">\n",
       "  <thead>\n",
       "    <tr style=\"text-align: right;\">\n",
       "      <th></th>\n",
       "      <th>always_17</th>\n",
       "      <th>val1</th>\n",
       "      <th>val2</th>\n",
       "      <th>list</th>\n",
       "    </tr>\n",
       "  </thead>\n",
       "  <tbody>\n",
       "    <tr>\n",
       "      <th>0</th>\n",
       "      <td>17</td>\n",
       "      <td>111</td>\n",
       "      <td>2222</td>\n",
       "      <td>job_test1</td>\n",
       "    </tr>\n",
       "    <tr>\n",
       "      <th>1</th>\n",
       "      <td>17</td>\n",
       "      <td>111</td>\n",
       "      <td>2222</td>\n",
       "      <td>job_test2</td>\n",
       "    </tr>\n",
       "  </tbody>\n",
       "</table>\n",
       "</div>"
      ]
     },
     "execution_count": 10,
     "metadata": {},
     "output_type": "execute_result"
    }
   ],
   "execution_count": 10
  },
  {
   "cell_type": "markdown",
   "source": [
    "#### Multi-POINT Metric Functions\n",
    "Finally, a point_fn can return a LIST of dicts, each dict represents a row in the DataFrame.  In all cases, all point_fns are applied to all dats, and the return values are appended to the DataFrame.  These different kinds of point functions can be combined, so scalar values and dict values are all merged into a single row for each dat, and lists of dicts are expanded into multiple rows."
   ],
   "metadata": {
    "collapsed": false
   }
  },
  {
   "cell_type": "code",
   "source": [
    "point_fns = [always_17, always_18, lambda dat: [{\"val1\": 1, \"val2\": 2}, {\"val1\": 11}]]\n",
    "dt.from_dat([dat1], point_fns)"
   ],
   "metadata": {
    "collapsed": false,
    "ExecuteTime": {
     "end_time": "2024-10-09T22:44:50.729371Z",
     "start_time": "2024-10-09T22:44:50.723469Z"
    }
   },
   "outputs": [
    {
     "data": {
      "text/plain": [
       "   val1  val2       list  always_17  always_18\n",
       "0   1.0   2.0  job_test1        NaN        NaN\n",
       "1  11.0   NaN  job_test1        NaN        NaN\n",
       "2   NaN   NaN  job_test1       17.0       18.0"
      ],
      "text/html": [
       "<div>\n",
       "<style scoped>\n",
       "    .dataframe tbody tr th:only-of-type {\n",
       "        vertical-align: middle;\n",
       "    }\n",
       "\n",
       "    .dataframe tbody tr th {\n",
       "        vertical-align: top;\n",
       "    }\n",
       "\n",
       "    .dataframe thead th {\n",
       "        text-align: right;\n",
       "    }\n",
       "</style>\n",
       "<table border=\"1\" class=\"dataframe\">\n",
       "  <thead>\n",
       "    <tr style=\"text-align: right;\">\n",
       "      <th></th>\n",
       "      <th>val1</th>\n",
       "      <th>val2</th>\n",
       "      <th>list</th>\n",
       "      <th>always_17</th>\n",
       "      <th>always_18</th>\n",
       "    </tr>\n",
       "  </thead>\n",
       "  <tbody>\n",
       "    <tr>\n",
       "      <th>0</th>\n",
       "      <td>1.0</td>\n",
       "      <td>2.0</td>\n",
       "      <td>job_test1</td>\n",
       "      <td>NaN</td>\n",
       "      <td>NaN</td>\n",
       "    </tr>\n",
       "    <tr>\n",
       "      <th>1</th>\n",
       "      <td>11.0</td>\n",
       "      <td>NaN</td>\n",
       "      <td>job_test1</td>\n",
       "      <td>NaN</td>\n",
       "      <td>NaN</td>\n",
       "    </tr>\n",
       "    <tr>\n",
       "      <th>2</th>\n",
       "      <td>NaN</td>\n",
       "      <td>NaN</td>\n",
       "      <td>job_test1</td>\n",
       "      <td>17.0</td>\n",
       "      <td>18.0</td>\n",
       "    </tr>\n",
       "  </tbody>\n",
       "</table>\n",
       "</div>"
      ]
     },
     "execution_count": 11,
     "metadata": {},
     "output_type": "execute_result"
    }
   ],
   "execution_count": 11
  },
  {
   "cell_type": "markdown",
   "source": [
    "Above, you can see that the results of the always_17 and always_18 functions were merged into a single row as before, and the lambda returned to more data points expressed as two additional rows in the DataFrame."
   ],
   "metadata": {
    "collapsed": false
   }
  },
  {
   "cell_type": "markdown",
   "source": [
    "# OUTPUT TO EXCEL\n",
    "The 'to_excel' function writes the DataFrame to an Excel file.\n",
    "To test this, we use the points_fn below 'load_points_json' it reads a list of data points from each dat by looking in the dat folder for a file named 'points.json'.  This is used to construct a large DataFrame from three Dats in the \"Retail Data\" DatContainer."
   ],
   "metadata": {
    "collapsed": false
   }
  },
  {
   "cell_type": "code",
   "source": [
    "def load_points_json(dat: Dat):\n",
    "    with open(f\"{dat.get_path()}/points.json\") as f:\n",
    "        return json.load(f)\n"
   ],
   "metadata": {
    "collapsed": false,
    "ExecuteTime": {
     "end_time": "2024-10-09T22:46:05.123672Z",
     "start_time": "2024-10-09T22:46:05.121010Z"
    }
   },
   "outputs": [],
   "execution_count": 12
  },
  {
   "cell_type": "code",
   "source": [
    "df = dt.from_dat(\"Datasets/Retail Data\", [load_points_json])\n",
    "df"
   ],
   "metadata": {
    "collapsed": false,
    "ExecuteTime": {
     "end_time": "2024-10-09T22:46:05.834433Z",
     "start_time": "2024-10-09T22:46:05.823996Z"
    }
   },
   "outputs": [
    {
     "data": {
      "text/plain": [
       "      Store     Month    Product      Metric  Value           list\n",
       "0   Store A   January  Product 1  Units Sold      8       Berkeley\n",
       "1   Store A   January  Product 1     Revenue     23       Berkeley\n",
       "2   Store A   January  Product 2  Units Sold     80       Berkeley\n",
       "3   Store A   January  Product 2     Revenue     88       Berkeley\n",
       "4   Store A  February  Product 1  Units Sold     76       Berkeley\n",
       "5   Store A  February  Product 1     Revenue     18       Berkeley\n",
       "6   Store A  February  Product 2  Units Sold     54       Berkeley\n",
       "7   Store A  February  Product 2     Revenue     98       Berkeley\n",
       "8   Store B   January  Product 1  Units Sold     51       Berkeley\n",
       "9   Store B   January  Product 1     Revenue     25       Berkeley\n",
       "10  Store B   January  Product 2  Units Sold     85       Berkeley\n",
       "11  Store B   January  Product 2     Revenue     31       Berkeley\n",
       "12  Store B  February  Product 1  Units Sold     95       Berkeley\n",
       "13  Store B  February  Product 1     Revenue     82       Berkeley\n",
       "14  Store B  February  Product 2  Units Sold     55       Berkeley\n",
       "15  Store B  February  Product 2     Revenue      4       Berkeley\n",
       "16  Store A   January  Product 1  Units Sold      8  San Francisco\n",
       "17  Store A   January  Product 1     Revenue     23  San Francisco\n",
       "18  Store A   January  Product 2  Units Sold     80  San Francisco\n",
       "19  Store A   January  Product 2     Revenue     88  San Francisco\n",
       "20  Store A  February  Product 1  Units Sold     76  San Francisco\n",
       "21  Store A  February  Product 1     Revenue     18  San Francisco\n",
       "22  Store A  February  Product 2  Units Sold     54  San Francisco\n",
       "23  Store A  February  Product 2     Revenue     98  San Francisco\n",
       "24  Store B   January  Product 1  Units Sold     51  San Francisco\n",
       "25  Store B   January  Product 1     Revenue     25  San Francisco\n",
       "26  Store B   January  Product 2  Units Sold     85  San Francisco\n",
       "27  Store B   January  Product 2     Revenue     31  San Francisco\n",
       "28  Store B  February  Product 1  Units Sold     95  San Francisco\n",
       "29  Store B  February  Product 1     Revenue     82  San Francisco\n",
       "30  Store B  February  Product 2  Units Sold     55  San Francisco\n",
       "31  Store B  February  Product 2     Revenue      4  San Francisco\n",
       "32  Store A   January  Product 1  Units Sold      8       San Jose\n",
       "33  Store A   January  Product 1     Revenue     23       San Jose\n",
       "34  Store A   January  Product 2  Units Sold     80       San Jose\n",
       "35  Store A   January  Product 2     Revenue     88       San Jose\n",
       "36  Store A  February  Product 1  Units Sold     76       San Jose\n",
       "37  Store A  February  Product 1     Revenue     18       San Jose\n",
       "38  Store A  February  Product 2  Units Sold     54       San Jose\n",
       "39  Store A  February  Product 2     Revenue     98       San Jose\n",
       "40  Store B   January  Product 1  Units Sold     51       San Jose\n",
       "41  Store B   January  Product 1     Revenue     25       San Jose\n",
       "42  Store B   January  Product 2  Units Sold     85       San Jose\n",
       "43  Store B   January  Product 2     Revenue     31       San Jose\n",
       "44  Store B  February  Product 1  Units Sold     95       San Jose\n",
       "45  Store B  February  Product 1     Revenue     82       San Jose\n",
       "46  Store B  February  Product 2  Units Sold     55       San Jose\n",
       "47  Store B  February  Product 2     Revenue      4       San Jose"
      ],
      "text/html": [
       "<div>\n",
       "<style scoped>\n",
       "    .dataframe tbody tr th:only-of-type {\n",
       "        vertical-align: middle;\n",
       "    }\n",
       "\n",
       "    .dataframe tbody tr th {\n",
       "        vertical-align: top;\n",
       "    }\n",
       "\n",
       "    .dataframe thead th {\n",
       "        text-align: right;\n",
       "    }\n",
       "</style>\n",
       "<table border=\"1\" class=\"dataframe\">\n",
       "  <thead>\n",
       "    <tr style=\"text-align: right;\">\n",
       "      <th></th>\n",
       "      <th>Store</th>\n",
       "      <th>Month</th>\n",
       "      <th>Product</th>\n",
       "      <th>Metric</th>\n",
       "      <th>Value</th>\n",
       "      <th>list</th>\n",
       "    </tr>\n",
       "  </thead>\n",
       "  <tbody>\n",
       "    <tr>\n",
       "      <th>0</th>\n",
       "      <td>Store A</td>\n",
       "      <td>January</td>\n",
       "      <td>Product 1</td>\n",
       "      <td>Units Sold</td>\n",
       "      <td>8</td>\n",
       "      <td>Berkeley</td>\n",
       "    </tr>\n",
       "    <tr>\n",
       "      <th>1</th>\n",
       "      <td>Store A</td>\n",
       "      <td>January</td>\n",
       "      <td>Product 1</td>\n",
       "      <td>Revenue</td>\n",
       "      <td>23</td>\n",
       "      <td>Berkeley</td>\n",
       "    </tr>\n",
       "    <tr>\n",
       "      <th>2</th>\n",
       "      <td>Store A</td>\n",
       "      <td>January</td>\n",
       "      <td>Product 2</td>\n",
       "      <td>Units Sold</td>\n",
       "      <td>80</td>\n",
       "      <td>Berkeley</td>\n",
       "    </tr>\n",
       "    <tr>\n",
       "      <th>3</th>\n",
       "      <td>Store A</td>\n",
       "      <td>January</td>\n",
       "      <td>Product 2</td>\n",
       "      <td>Revenue</td>\n",
       "      <td>88</td>\n",
       "      <td>Berkeley</td>\n",
       "    </tr>\n",
       "    <tr>\n",
       "      <th>4</th>\n",
       "      <td>Store A</td>\n",
       "      <td>February</td>\n",
       "      <td>Product 1</td>\n",
       "      <td>Units Sold</td>\n",
       "      <td>76</td>\n",
       "      <td>Berkeley</td>\n",
       "    </tr>\n",
       "    <tr>\n",
       "      <th>5</th>\n",
       "      <td>Store A</td>\n",
       "      <td>February</td>\n",
       "      <td>Product 1</td>\n",
       "      <td>Revenue</td>\n",
       "      <td>18</td>\n",
       "      <td>Berkeley</td>\n",
       "    </tr>\n",
       "    <tr>\n",
       "      <th>6</th>\n",
       "      <td>Store A</td>\n",
       "      <td>February</td>\n",
       "      <td>Product 2</td>\n",
       "      <td>Units Sold</td>\n",
       "      <td>54</td>\n",
       "      <td>Berkeley</td>\n",
       "    </tr>\n",
       "    <tr>\n",
       "      <th>7</th>\n",
       "      <td>Store A</td>\n",
       "      <td>February</td>\n",
       "      <td>Product 2</td>\n",
       "      <td>Revenue</td>\n",
       "      <td>98</td>\n",
       "      <td>Berkeley</td>\n",
       "    </tr>\n",
       "    <tr>\n",
       "      <th>8</th>\n",
       "      <td>Store B</td>\n",
       "      <td>January</td>\n",
       "      <td>Product 1</td>\n",
       "      <td>Units Sold</td>\n",
       "      <td>51</td>\n",
       "      <td>Berkeley</td>\n",
       "    </tr>\n",
       "    <tr>\n",
       "      <th>9</th>\n",
       "      <td>Store B</td>\n",
       "      <td>January</td>\n",
       "      <td>Product 1</td>\n",
       "      <td>Revenue</td>\n",
       "      <td>25</td>\n",
       "      <td>Berkeley</td>\n",
       "    </tr>\n",
       "    <tr>\n",
       "      <th>10</th>\n",
       "      <td>Store B</td>\n",
       "      <td>January</td>\n",
       "      <td>Product 2</td>\n",
       "      <td>Units Sold</td>\n",
       "      <td>85</td>\n",
       "      <td>Berkeley</td>\n",
       "    </tr>\n",
       "    <tr>\n",
       "      <th>11</th>\n",
       "      <td>Store B</td>\n",
       "      <td>January</td>\n",
       "      <td>Product 2</td>\n",
       "      <td>Revenue</td>\n",
       "      <td>31</td>\n",
       "      <td>Berkeley</td>\n",
       "    </tr>\n",
       "    <tr>\n",
       "      <th>12</th>\n",
       "      <td>Store B</td>\n",
       "      <td>February</td>\n",
       "      <td>Product 1</td>\n",
       "      <td>Units Sold</td>\n",
       "      <td>95</td>\n",
       "      <td>Berkeley</td>\n",
       "    </tr>\n",
       "    <tr>\n",
       "      <th>13</th>\n",
       "      <td>Store B</td>\n",
       "      <td>February</td>\n",
       "      <td>Product 1</td>\n",
       "      <td>Revenue</td>\n",
       "      <td>82</td>\n",
       "      <td>Berkeley</td>\n",
       "    </tr>\n",
       "    <tr>\n",
       "      <th>14</th>\n",
       "      <td>Store B</td>\n",
       "      <td>February</td>\n",
       "      <td>Product 2</td>\n",
       "      <td>Units Sold</td>\n",
       "      <td>55</td>\n",
       "      <td>Berkeley</td>\n",
       "    </tr>\n",
       "    <tr>\n",
       "      <th>15</th>\n",
       "      <td>Store B</td>\n",
       "      <td>February</td>\n",
       "      <td>Product 2</td>\n",
       "      <td>Revenue</td>\n",
       "      <td>4</td>\n",
       "      <td>Berkeley</td>\n",
       "    </tr>\n",
       "    <tr>\n",
       "      <th>16</th>\n",
       "      <td>Store A</td>\n",
       "      <td>January</td>\n",
       "      <td>Product 1</td>\n",
       "      <td>Units Sold</td>\n",
       "      <td>8</td>\n",
       "      <td>San Francisco</td>\n",
       "    </tr>\n",
       "    <tr>\n",
       "      <th>17</th>\n",
       "      <td>Store A</td>\n",
       "      <td>January</td>\n",
       "      <td>Product 1</td>\n",
       "      <td>Revenue</td>\n",
       "      <td>23</td>\n",
       "      <td>San Francisco</td>\n",
       "    </tr>\n",
       "    <tr>\n",
       "      <th>18</th>\n",
       "      <td>Store A</td>\n",
       "      <td>January</td>\n",
       "      <td>Product 2</td>\n",
       "      <td>Units Sold</td>\n",
       "      <td>80</td>\n",
       "      <td>San Francisco</td>\n",
       "    </tr>\n",
       "    <tr>\n",
       "      <th>19</th>\n",
       "      <td>Store A</td>\n",
       "      <td>January</td>\n",
       "      <td>Product 2</td>\n",
       "      <td>Revenue</td>\n",
       "      <td>88</td>\n",
       "      <td>San Francisco</td>\n",
       "    </tr>\n",
       "    <tr>\n",
       "      <th>20</th>\n",
       "      <td>Store A</td>\n",
       "      <td>February</td>\n",
       "      <td>Product 1</td>\n",
       "      <td>Units Sold</td>\n",
       "      <td>76</td>\n",
       "      <td>San Francisco</td>\n",
       "    </tr>\n",
       "    <tr>\n",
       "      <th>21</th>\n",
       "      <td>Store A</td>\n",
       "      <td>February</td>\n",
       "      <td>Product 1</td>\n",
       "      <td>Revenue</td>\n",
       "      <td>18</td>\n",
       "      <td>San Francisco</td>\n",
       "    </tr>\n",
       "    <tr>\n",
       "      <th>22</th>\n",
       "      <td>Store A</td>\n",
       "      <td>February</td>\n",
       "      <td>Product 2</td>\n",
       "      <td>Units Sold</td>\n",
       "      <td>54</td>\n",
       "      <td>San Francisco</td>\n",
       "    </tr>\n",
       "    <tr>\n",
       "      <th>23</th>\n",
       "      <td>Store A</td>\n",
       "      <td>February</td>\n",
       "      <td>Product 2</td>\n",
       "      <td>Revenue</td>\n",
       "      <td>98</td>\n",
       "      <td>San Francisco</td>\n",
       "    </tr>\n",
       "    <tr>\n",
       "      <th>24</th>\n",
       "      <td>Store B</td>\n",
       "      <td>January</td>\n",
       "      <td>Product 1</td>\n",
       "      <td>Units Sold</td>\n",
       "      <td>51</td>\n",
       "      <td>San Francisco</td>\n",
       "    </tr>\n",
       "    <tr>\n",
       "      <th>25</th>\n",
       "      <td>Store B</td>\n",
       "      <td>January</td>\n",
       "      <td>Product 1</td>\n",
       "      <td>Revenue</td>\n",
       "      <td>25</td>\n",
       "      <td>San Francisco</td>\n",
       "    </tr>\n",
       "    <tr>\n",
       "      <th>26</th>\n",
       "      <td>Store B</td>\n",
       "      <td>January</td>\n",
       "      <td>Product 2</td>\n",
       "      <td>Units Sold</td>\n",
       "      <td>85</td>\n",
       "      <td>San Francisco</td>\n",
       "    </tr>\n",
       "    <tr>\n",
       "      <th>27</th>\n",
       "      <td>Store B</td>\n",
       "      <td>January</td>\n",
       "      <td>Product 2</td>\n",
       "      <td>Revenue</td>\n",
       "      <td>31</td>\n",
       "      <td>San Francisco</td>\n",
       "    </tr>\n",
       "    <tr>\n",
       "      <th>28</th>\n",
       "      <td>Store B</td>\n",
       "      <td>February</td>\n",
       "      <td>Product 1</td>\n",
       "      <td>Units Sold</td>\n",
       "      <td>95</td>\n",
       "      <td>San Francisco</td>\n",
       "    </tr>\n",
       "    <tr>\n",
       "      <th>29</th>\n",
       "      <td>Store B</td>\n",
       "      <td>February</td>\n",
       "      <td>Product 1</td>\n",
       "      <td>Revenue</td>\n",
       "      <td>82</td>\n",
       "      <td>San Francisco</td>\n",
       "    </tr>\n",
       "    <tr>\n",
       "      <th>30</th>\n",
       "      <td>Store B</td>\n",
       "      <td>February</td>\n",
       "      <td>Product 2</td>\n",
       "      <td>Units Sold</td>\n",
       "      <td>55</td>\n",
       "      <td>San Francisco</td>\n",
       "    </tr>\n",
       "    <tr>\n",
       "      <th>31</th>\n",
       "      <td>Store B</td>\n",
       "      <td>February</td>\n",
       "      <td>Product 2</td>\n",
       "      <td>Revenue</td>\n",
       "      <td>4</td>\n",
       "      <td>San Francisco</td>\n",
       "    </tr>\n",
       "    <tr>\n",
       "      <th>32</th>\n",
       "      <td>Store A</td>\n",
       "      <td>January</td>\n",
       "      <td>Product 1</td>\n",
       "      <td>Units Sold</td>\n",
       "      <td>8</td>\n",
       "      <td>San Jose</td>\n",
       "    </tr>\n",
       "    <tr>\n",
       "      <th>33</th>\n",
       "      <td>Store A</td>\n",
       "      <td>January</td>\n",
       "      <td>Product 1</td>\n",
       "      <td>Revenue</td>\n",
       "      <td>23</td>\n",
       "      <td>San Jose</td>\n",
       "    </tr>\n",
       "    <tr>\n",
       "      <th>34</th>\n",
       "      <td>Store A</td>\n",
       "      <td>January</td>\n",
       "      <td>Product 2</td>\n",
       "      <td>Units Sold</td>\n",
       "      <td>80</td>\n",
       "      <td>San Jose</td>\n",
       "    </tr>\n",
       "    <tr>\n",
       "      <th>35</th>\n",
       "      <td>Store A</td>\n",
       "      <td>January</td>\n",
       "      <td>Product 2</td>\n",
       "      <td>Revenue</td>\n",
       "      <td>88</td>\n",
       "      <td>San Jose</td>\n",
       "    </tr>\n",
       "    <tr>\n",
       "      <th>36</th>\n",
       "      <td>Store A</td>\n",
       "      <td>February</td>\n",
       "      <td>Product 1</td>\n",
       "      <td>Units Sold</td>\n",
       "      <td>76</td>\n",
       "      <td>San Jose</td>\n",
       "    </tr>\n",
       "    <tr>\n",
       "      <th>37</th>\n",
       "      <td>Store A</td>\n",
       "      <td>February</td>\n",
       "      <td>Product 1</td>\n",
       "      <td>Revenue</td>\n",
       "      <td>18</td>\n",
       "      <td>San Jose</td>\n",
       "    </tr>\n",
       "    <tr>\n",
       "      <th>38</th>\n",
       "      <td>Store A</td>\n",
       "      <td>February</td>\n",
       "      <td>Product 2</td>\n",
       "      <td>Units Sold</td>\n",
       "      <td>54</td>\n",
       "      <td>San Jose</td>\n",
       "    </tr>\n",
       "    <tr>\n",
       "      <th>39</th>\n",
       "      <td>Store A</td>\n",
       "      <td>February</td>\n",
       "      <td>Product 2</td>\n",
       "      <td>Revenue</td>\n",
       "      <td>98</td>\n",
       "      <td>San Jose</td>\n",
       "    </tr>\n",
       "    <tr>\n",
       "      <th>40</th>\n",
       "      <td>Store B</td>\n",
       "      <td>January</td>\n",
       "      <td>Product 1</td>\n",
       "      <td>Units Sold</td>\n",
       "      <td>51</td>\n",
       "      <td>San Jose</td>\n",
       "    </tr>\n",
       "    <tr>\n",
       "      <th>41</th>\n",
       "      <td>Store B</td>\n",
       "      <td>January</td>\n",
       "      <td>Product 1</td>\n",
       "      <td>Revenue</td>\n",
       "      <td>25</td>\n",
       "      <td>San Jose</td>\n",
       "    </tr>\n",
       "    <tr>\n",
       "      <th>42</th>\n",
       "      <td>Store B</td>\n",
       "      <td>January</td>\n",
       "      <td>Product 2</td>\n",
       "      <td>Units Sold</td>\n",
       "      <td>85</td>\n",
       "      <td>San Jose</td>\n",
       "    </tr>\n",
       "    <tr>\n",
       "      <th>43</th>\n",
       "      <td>Store B</td>\n",
       "      <td>January</td>\n",
       "      <td>Product 2</td>\n",
       "      <td>Revenue</td>\n",
       "      <td>31</td>\n",
       "      <td>San Jose</td>\n",
       "    </tr>\n",
       "    <tr>\n",
       "      <th>44</th>\n",
       "      <td>Store B</td>\n",
       "      <td>February</td>\n",
       "      <td>Product 1</td>\n",
       "      <td>Units Sold</td>\n",
       "      <td>95</td>\n",
       "      <td>San Jose</td>\n",
       "    </tr>\n",
       "    <tr>\n",
       "      <th>45</th>\n",
       "      <td>Store B</td>\n",
       "      <td>February</td>\n",
       "      <td>Product 1</td>\n",
       "      <td>Revenue</td>\n",
       "      <td>82</td>\n",
       "      <td>San Jose</td>\n",
       "    </tr>\n",
       "    <tr>\n",
       "      <th>46</th>\n",
       "      <td>Store B</td>\n",
       "      <td>February</td>\n",
       "      <td>Product 2</td>\n",
       "      <td>Units Sold</td>\n",
       "      <td>55</td>\n",
       "      <td>San Jose</td>\n",
       "    </tr>\n",
       "    <tr>\n",
       "      <th>47</th>\n",
       "      <td>Store B</td>\n",
       "      <td>February</td>\n",
       "      <td>Product 2</td>\n",
       "      <td>Revenue</td>\n",
       "      <td>4</td>\n",
       "      <td>San Jose</td>\n",
       "    </tr>\n",
       "  </tbody>\n",
       "</table>\n",
       "</div>"
      ]
     },
     "execution_count": 13,
     "metadata": {},
     "output_type": "execute_result"
    }
   ],
   "execution_count": 13
  },
  {
   "cell_type": "code",
   "source": [
    "dt.to_excel(df, show=True)"
   ],
   "metadata": {
    "collapsed": false,
    "ExecuteTime": {
     "end_time": "2024-10-09T22:46:18.347619Z",
     "start_time": "2024-10-09T22:46:18.300746Z"
    }
   },
   "outputs": [
    {
     "name": "stdout",
     "output_type": "stream",
     "text": [
      "# Dataframe written to /Users/oblinger/ob/proj/dvc-dat/examples/output.xlsx\n"
     ]
    },
    {
     "data": {
      "text/plain": [
       "'/Users/oblinger/ob/proj/dvc-dat/examples/output.xlsx'"
      ]
     },
     "execution_count": 14,
     "metadata": {},
     "output_type": "execute_result"
    }
   ],
   "execution_count": 14
  },
  {
   "cell_type": "markdown",
   "source": [
    "#### The 'sheets' parameter\n",
    "The 'sheets' to_excel parameter can be used to split a data frame into separate Excel sheets according to the value of the indicated column.  Here we split the DataFrame so each city is on its own sheet."
   ],
   "metadata": {
    "collapsed": false
   }
  },
  {
   "cell_type": "code",
   "source": [
    "dt.to_excel(df, sheets=[\"list\"], show=True)"
   ],
   "metadata": {
    "collapsed": false,
    "ExecuteTime": {
     "end_time": "2024-10-09T22:46:37.603465Z",
     "start_time": "2024-10-09T22:46:37.584771Z"
    }
   },
   "outputs": [
    {
     "name": "stdout",
     "output_type": "stream",
     "text": [
      "# Dataframe written to /Users/oblinger/ob/proj/dvc-dat/examples/output.xlsx\n"
     ]
    },
    {
     "data": {
      "text/plain": [
       "'/Users/oblinger/ob/proj/dvc-dat/examples/output.xlsx'"
      ]
     },
     "execution_count": 15,
     "metadata": {},
     "output_type": "execute_result"
    }
   ],
   "execution_count": 15
  },
  {
   "cell_type": "markdown",
   "source": [
    "Providing multiple columns in the 'sheets' parameter will create a sheets for the cross-product of column values as shown here:"
   ],
   "metadata": {
    "collapsed": false
   }
  },
  {
   "cell_type": "code",
   "source": [
    "dt.to_excel(df, sheets=[\"list\", \"Store\"], show=True)"
   ],
   "metadata": {
    "collapsed": false,
    "ExecuteTime": {
     "end_time": "2024-10-09T22:47:00.684081Z",
     "start_time": "2024-10-09T22:47:00.664646Z"
    }
   },
   "outputs": [
    {
     "name": "stdout",
     "output_type": "stream",
     "text": [
      "# Dataframe written to /Users/oblinger/ob/proj/dvc-dat/examples/output.xlsx\n"
     ]
    },
    {
     "data": {
      "text/plain": [
       "'/Users/oblinger/ob/proj/dvc-dat/examples/output.xlsx'"
      ]
     },
     "execution_count": 16,
     "metadata": {},
     "output_type": "execute_result"
    }
   ],
   "execution_count": 16
  },
  {
   "cell_type": "markdown",
   "source": [
    "#### The 'docs' parameter\n",
    "Another way to slice a DataFrame is into separate Excel documents.  Here we split the DataFrame by month:"
   ],
   "metadata": {
    "collapsed": false
   }
  },
  {
   "cell_type": "code",
   "source": [
    "dt.to_excel(df, docs=[\"Month\"], show=True)"
   ],
   "metadata": {
    "collapsed": false,
    "ExecuteTime": {
     "end_time": "2024-10-09T22:47:09.546688Z",
     "start_time": "2024-10-09T22:47:09.521314Z"
    }
   },
   "outputs": [
    {
     "name": "stdout",
     "output_type": "stream",
     "text": [
      "# Dataframe written to /Users/oblinger/ob/proj/dvc-dat/examples/February.xlsx\n",
      "# Dataframe written to /Users/oblinger/ob/proj/dvc-dat/examples/January.xlsx\n"
     ]
    },
    {
     "data": {
      "text/plain": [
       "'/Users/oblinger/ob/proj/dvc-dat/examples'"
      ]
     },
     "execution_count": 17,
     "metadata": {},
     "output_type": "execute_result"
    }
   ],
   "execution_count": 17
  },
  {
   "cell_type": "markdown",
   "source": [
    "#### The 'add_formatted_column' parameter\n",
    "Often a report can be tidied up by combining related columns into single semantically\n",
    "unified ones.   The 'add_formatted_columns' defines a simple formatting syntax based\n",
    "on Python's format fn. Here we combine the 'Metric' and 'Value' columns into the new\n",
    "'Result' column."
   ],
   "metadata": {
    "collapsed": false
   }
  },
  {
   "cell_type": "code",
   "source": [
    "dt.to_excel(df, sheets=[\"Store\", \"Month\"], show=True,\n",
    "            formatted_columns=[\"Result <== {0} {1} <==  Value, Metric\"])"
   ],
   "metadata": {
    "collapsed": false,
    "ExecuteTime": {
     "end_time": "2024-10-09T22:47:39.143268Z",
     "start_time": "2024-10-09T22:47:39.123466Z"
    }
   },
   "outputs": [
    {
     "name": "stdout",
     "output_type": "stream",
     "text": [
      "# Dataframe written to /Users/oblinger/ob/proj/dvc-dat/examples/output.xlsx\n"
     ]
    },
    {
     "data": {
      "text/plain": [
       "'/Users/oblinger/ob/proj/dvc-dat/examples/output.xlsx'"
      ]
     },
     "execution_count": 18,
     "metadata": {},
     "output_type": "execute_result"
    }
   ],
   "execution_count": 18
  },
  {
   "cell_type": "markdown",
   "source": [
    "#### The 'columns' parameter\n",
    "The 'columns' parameter also can be used to trim the Excel sheet(s) to only include the listed\n",
    "columns.  This can also be used to \"tidy up\" the output."
   ],
   "metadata": {
    "collapsed": false
   }
  },
  {
   "cell_type": "code",
   "source": [
    "dt.to_excel(df, sheets=[\"Store\", \"Month\"], show=True,\n",
    "            columns=[\"list\", \"Product\", \"Result\"],\n",
    "            formatted_columns=[\"Result <== {0} {1} <==  Value, Metric\"])"
   ],
   "metadata": {
    "collapsed": false,
    "ExecuteTime": {
     "end_time": "2024-10-09T22:47:51.695090Z",
     "start_time": "2024-10-09T22:47:51.673572Z"
    }
   },
   "outputs": [
    {
     "name": "stdout",
     "output_type": "stream",
     "text": [
      "# Dataframe written to /Users/oblinger/ob/proj/dvc-dat/examples/output.xlsx\n"
     ]
    },
    {
     "data": {
      "text/plain": [
       "'/Users/oblinger/ob/proj/dvc-dat/examples/output.xlsx'"
      ]
     },
     "execution_count": 19,
     "metadata": {},
     "output_type": "execute_result"
    }
   ],
   "execution_count": 19
  },
  {
   "cell_type": "markdown",
   "source": [
    "#### The 'transform' parameter\n",
    "The formatted_columns parameter was included as combining columns is a common\n",
    "special case.  More generally, one can use the 'transform' parameter to perform\n",
    "arbitrary transformation of the dataframe before writing it to Excel.  It accepts a\n",
    "transform function that returns a new transformed DataFrame based on its input DF.\n",
    "\n",
    "Here we have a transform fn that computes average revenue and average units sold then\n",
    "conditionally adds respective percentage calculations after dollars or units sold as\n",
    "appropriate."
   ],
   "metadata": {
    "collapsed": false
   }
  },
  {
   "cell_type": "code",
   "source": [
    "def my_transform(df_):\n",
    "    \"\"\"Adds a 'Result' column to the DataFrame.\n",
    "    \n",
    "    Computes two sums, one for 'Revenue' and one for 'Units Sold' then \n",
    "    computes percentage relative to the average for each metric.\"\"\"\n",
    "    def my_result(row):\n",
    "        if row['Metric'] == 'Revenue':\n",
    "            percentage = (row['Value'] / average_revenue) * 100\n",
    "            return f\"${row['Value']} ({int(percentage)}%)\"\n",
    "        elif row['Metric'] == 'Units Sold':\n",
    "            percentage = (row['Value'] / average_units) * 100\n",
    "            return f\"{row['Value']} Units ({int(percentage)}%)\"\n",
    "        else:\n",
    "            return \"???\"\n",
    "    average_revenue = df_[df_['Metric'] == 'Revenue']['Value'].mean()\n",
    "    average_units = df_[df_['Metric'] == 'Units Sold']['Value'].mean()\n",
    "    df_['Result'] = df_.apply(my_result, axis=1)\n",
    "    return df_\n",
    "\n",
    "dt.to_excel(df, sheets=[\"Store\", \"Month\"], show=True,\n",
    "            columns=[\"list\", \"Product\", \"Result\"],\n",
    "            transform=my_transform)"
   ],
   "metadata": {
    "collapsed": false,
    "ExecuteTime": {
     "end_time": "2024-10-09T22:48:20.519810Z",
     "start_time": "2024-10-09T22:48:20.498344Z"
    }
   },
   "outputs": [
    {
     "name": "stdout",
     "output_type": "stream",
     "text": [
      "# Dataframe written to /Users/oblinger/ob/proj/dvc-dat/examples/output.xlsx\n"
     ]
    },
    {
     "data": {
      "text/plain": [
       "'/Users/oblinger/ob/proj/dvc-dat/examples/output.xlsx'"
      ]
     },
     "execution_count": 20,
     "metadata": {},
     "output_type": "execute_result"
    }
   ],
   "execution_count": 20
  },
  {
   "cell_type": "markdown",
   "source": [
    "#### Combining many parameters\n",
    "Here we split into docs and sheets, applies transform, and selects specific columns"
   ],
   "metadata": {
    "collapsed": false
   }
  },
  {
   "cell_type": "markdown",
   "source": [
    "And we can combine these methods to slice the data simultaneously by document and sheet:"
   ],
   "metadata": {
    "collapsed": false
   }
  },
  {
   "cell_type": "code",
   "source": [
    "dt.to_excel(df, show=True,\n",
    "            title=\"Tidy Retail Report\",\n",
    "            folder=\"/tmp\",\n",
    "            docs=[\"Month\"],\n",
    "            sheets=[\"list\", \"Store\"],\n",
    "            columns=[\"Product\", \"Result\"],\n",
    "            transform=my_transform)"
   ],
   "metadata": {
    "collapsed": false,
    "ExecuteTime": {
     "end_time": "2024-10-09T22:49:45.001809Z",
     "start_time": "2024-10-09T22:49:44.963910Z"
    }
   },
   "outputs": [
    {
     "name": "stdout",
     "output_type": "stream",
     "text": [
      "# Dataframe written to /tmp/Tidy Retail Report February.xlsx\n",
      "# Dataframe written to /tmp/Tidy Retail Report January.xlsx\n"
     ]
    },
    {
     "data": {
      "text/plain": [
       "'/tmp'"
      ]
     },
     "execution_count": 22,
     "metadata": {},
     "output_type": "execute_result"
    }
   ],
   "execution_count": 22
  },
  {
   "cell_type": "markdown",
   "source": [
    "# METRICS_MATRIX\n",
    "The 'dat_report' function is used to create a matrix of metrics from a list of\n",
    "Dats and a list of metric functions.  The matrix is a 2D array where each row\n",
    "represents a Dat, and each column represents a metric function.  The 'dat_report'\n",
    "function is useful for creating a matrix of metrics for a set of Dats that can be used\n",
    "for further analysis or visualization.\n",
    "\n",
    "The 'dat_report' is designed to be used as a do-method.\n"
   ],
   "metadata": {
    "collapsed": false
   }
  },
  {
   "cell_type": "code",
   "source": "show(\"dat_tools_examples/mr_sprint23\")",
   "metadata": {
    "collapsed": false,
    "ExecuteTime": {
     "end_time": "2024-10-09T22:50:58.711349Z",
     "start_time": "2024-10-09T22:50:58.706476Z"
    }
   },
   "outputs": [
    {
     "name": "stdout",
     "output_type": "stream",
     "text": [
      "\n",
      "### SHOWING MODULE '.../dat_tools_examples/mr_sprint23.py'\n",
      "  | __main__ = {\n",
      "  |     \"dat\": {\"do\": \"dt.dat_report\"},\n",
      "  |     \"dat_report\": {\n",
      "  |         \"title\": \"S23\",\n",
      "  |         \"source\": [\"runs/example/hello10\", \"runs/example/hello5\"],\n",
      "  |         \"metrics\": [\"cube_hello.is_prime\", \"cube_hello.data\", \"cube_hello.color_p\"],\n",
      "  |         \"show\": True}\n",
      "  | }\n",
      "  | \n",
      "  | add_col = {\n",
      "  |     \"dat\": {\"base\": \"mr_sprint23\"},\n",
      "  |     \"dat_report\": {\n",
      "  |         \"title\": \"S23b\", \"show\": False, \"verbose\": False,\n",
      "  |         \"formatted_columns\":\n",
      "  |             [\" new_col <== {0}-{1} <== is_prime, color_p \"]}\n",
      "  | }\n",
      "  | \n",
      "\n",
      "\n"
     ]
    }
   ],
   "execution_count": 23
  },
  {
   "cell_type": "code",
   "source": [
    "# Example not working\n",
    "# do(\"dat_tools_examples/mr_sprint23\")"
   ],
   "metadata": {
    "collapsed": false,
    "ExecuteTime": {
     "end_time": "2024-10-09T22:51:03.467748Z",
     "start_time": "2024-10-09T22:51:03.465431Z"
    }
   },
   "outputs": [],
   "execution_count": 24
  },
  {
   "cell_type": "markdown",
   "source": [
    "#### Do commands all exported to command line\n",
    "All do commands can also be run from the command line.  The 'do' launcher script:"
   ],
   "metadata": {
    "collapsed": false
   }
  },
  {
   "cell_type": "code",
   "source": [
    "# not working\n",
    "# !./do mr_sprint23"
   ],
   "metadata": {
    "collapsed": false,
    "ExecuteTime": {
     "end_time": "2024-10-09T22:51:09.070174Z",
     "start_time": "2024-10-09T22:51:09.068138Z"
    }
   },
   "outputs": [],
   "execution_count": 25
  },
  {
   "cell_type": "markdown",
   "source": [
    "#### Configuration inheritance\n",
    "Configuration shadowing inheritance eases testing of special cases.  Here we add a column to the 'mr_sprint23' configuration."
   ],
   "metadata": {
    "collapsed": false
   }
  },
  {
   "cell_type": "code",
   "source": "# !./do mr_sprint23.add_col",
   "metadata": {
    "collapsed": false,
    "ExecuteTime": {
     "end_time": "2024-10-09T22:51:14.914286Z",
     "start_time": "2024-10-09T22:51:14.912075Z"
    }
   },
   "outputs": [],
   "execution_count": 26
  },
  {
   "cell_type": "markdown",
   "source": [
    "#### Combining configuration and code\n",
    "Allowing configuration structures to be defined directly in python allows configuration\n",
    "to be combined with code in the same file.  Combining code and configuration in this\n",
    "way is powerful, natural, and simple."
   ],
   "metadata": {
    "collapsed": false
   }
  },
  {
   "cell_type": "code",
   "source": [
    "#### Cleanup\n",
    "!echo CWD = $PWD\n",
    "!ls *.xlsx\n",
    "!rm *.xlsx\n",
    "!rm -r example_dat_data_folder/runs/doubler example_dat_data_folder/runs/mspipe"
   ],
   "metadata": {
    "collapsed": false,
    "ExecuteTime": {
     "end_time": "2024-10-09T22:51:24.209478Z",
     "start_time": "2024-10-09T22:51:23.717181Z"
    }
   },
   "outputs": [
    {
     "name": "stdout",
     "output_type": "stream",
     "text": [
      "CWD = /Users/oblinger/ob/proj/dvc-dat/examples\r\n",
      "February.xlsx January.xlsx  output.xlsx\r\n",
      "rm: example_dat_data_folder/runs/doubler: No such file or directory\r\n",
      "rm: example_dat_data_folder/runs/mspipe: No such file or directory\r\n"
     ]
    }
   ],
   "execution_count": 27
  },
  {
   "metadata": {},
   "cell_type": "code",
   "source": "",
   "outputs": [],
   "execution_count": null
  }
 ],
 "metadata": {
  "kernelspec": {
   "display_name": "Python 3 (ipykernel)",
   "language": "python",
   "name": "python3"
  },
  "language_info": {
   "codemirror_mode": {
    "name": "ipython",
    "version": 3
   },
   "file_extension": ".py",
   "mimetype": "text/x-python",
   "name": "python",
   "nbconvert_exporter": "python",
   "pygments_lexer": "ipython3",
   "version": "3.12.0"
  }
 },
 "nbformat": 4,
 "nbformat_minor": 4
}
