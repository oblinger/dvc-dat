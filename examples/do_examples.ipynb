{
 "cells": [
  {
   "cell_type": "code",
   "metadata": {
    "ExecuteTime": {
     "end_time": "2024-06-20T23:15:34.787580Z",
     "start_time": "2024-06-20T23:15:34.528288Z"
    }
   },
   "source": [
    "import os\n",
    "import sys\n",
    "sys.path.append(os.path.dirname(os.path.dirname(os.getcwd())))\n",
    "\n",
    "# Setup stuff.  The cell just supports the workbook, you can ignore it\n",
    "EXAMPLE_DO_FOLDER = os.path.join(os.getcwd(), \"example_mounted_folder\")\n",
    "INSERTION_FOLDER = EXAMPLE_DO_FOLDER\n",
    "\n",
    "def show_loadable(at):\n",
    "    with open(os.path.join(INSERTION_FOLDER, at)) as file:\n",
    "        contents = file.read()\n",
    "    with_bar = \"\\n  | \".join(contents.split(\"\\n\"))\n",
    "    print(F\"\\n### SHOWING MODULE {'.../'+at!r}\\n  | {with_bar}\\n\\n\")\n",
    "\n",
    "def run_do(*args, **kwargs):\n",
    "    parts = [repr(x) for x in args] + [F\"{k}={v!r}\" for k, v in kwargs.items()]\n",
    "    print(F\"do({', '.join(parts)})\")\n",
    "    result = do(*args, **kwargs)\n",
    "    print(F\"--> {result!r}\")\n",
    "    print()\n",
    "\n",
    "\n",
    "print(F\"### INSERTION FOLDER        = {INSERTION_FOLDER!r}\")\n",
    "print(F\"### DO FOLDER (in Jupyter)  = {EXAMPLE_DO_FOLDER}\")\n",
    "sys.path.append(os.path.dirname(os.path.dirname(EXAMPLE_DO_FOLDER)))\n",
    "from dvc_dat import do   # Add all loadables BEFORE loading this module\n",
    "if not os.path.exists(INSERTION_FOLDER):\n",
    "    input(f\"WARNING: INSERTION_FOLDER {INSERTION_FOLDER!r} not found.\")\n",
    "    os.makedirs(INSERTION_FOLDER)\n",
    "print(\"\\n\\n\")"
   ],
   "outputs": [
    {
     "name": "stdout",
     "output_type": "stream",
     "text": [
      "### INSERTION FOLDER        = '/Users/oblinger/ob/proj/dvc-dat/examples/example_mounted_folder'\n",
      "### DO FOLDER (in Jupyter)  = /Users/oblinger/ob/proj/dvc-dat/examples/example_mounted_folder\n",
      "\n",
      "\n",
      "\n"
     ]
    }
   ],
   "execution_count": 1
  },
  {
   "cell_type": "markdown",
   "metadata": {
    "collapsed": false,
    "jupyter": {
     "outputs_hidden": false
    }
   },
   "source": [
    "# The 'do' namespace of dotted.name.strings\n",
    "The `do.load(...)` function dynamically load python objects, including data\n",
    "directly from python source modules.\n"
   ]
  },
  {
   "cell_type": "markdown",
   "metadata": {},
   "source": [
    "### Registering and accessing python objects"
   ]
  },
  {
   "cell_type": "code",
   "metadata": {
    "ExecuteTime": {
     "end_time": "2024-06-20T23:15:35.623980Z",
     "start_time": "2024-06-20T23:15:35.621811Z"
    }
   },
   "source": "do.mount(at=\"foo.bar.baz\", value=[11, \"two\"])",
   "outputs": [],
   "execution_count": 2
  },
  {
   "cell_type": "code",
   "metadata": {
    "ExecuteTime": {
     "end_time": "2024-06-20T23:15:35.942690Z",
     "start_time": "2024-06-20T23:15:35.939193Z"
    }
   },
   "source": "do.load(\"foo.bar.baz\")",
   "outputs": [
    {
     "data": {
      "text/plain": [
       "[11, 'two']"
      ]
     },
     "execution_count": 3,
     "metadata": {},
     "output_type": "execute_result"
    }
   ],
   "execution_count": 3
  },
  {
   "cell_type": "markdown",
   "metadata": {},
   "source": [
    ".\n",
    "##### And you can see semantically this is just a dict-tree of values:"
   ]
  },
  {
   "cell_type": "code",
   "metadata": {
    "ExecuteTime": {
     "end_time": "2024-06-20T23:15:36.364243Z",
     "start_time": "2024-06-20T23:15:36.362641Z"
    }
   },
   "source": [
    "# Code needs to be refactored for this to work:\n",
    "# do.load(\"foo.bar\")   "
   ],
   "outputs": [],
   "execution_count": 4
  },
  {
   "cell_type": "markdown",
   "metadata": {},
   "source": [
    "### Registering python modules\n",
    "Here we register a python module, then load data a functions from it via dotted.names."
   ]
  },
  {
   "cell_type": "code",
   "metadata": {
    "ExecuteTime": {
     "end_time": "2024-06-20T23:15:36.768552Z",
     "start_time": "2024-06-20T23:15:36.766294Z"
    }
   },
   "source": [
    "path = f\"{EXAMPLE_DO_FOLDER}/some_python_file.py\"\n",
    "print(f\"here we are registering 'params' as {path!r}.\")\n",
    "do.mount(at=\"params\", file=path)"
   ],
   "outputs": [
    {
     "name": "stdout",
     "output_type": "stream",
     "text": [
      "here we are registering 'params' as '/Users/oblinger/ob/proj/dvc-dat/examples/example_mounted_folder/some_python_file.py'.\n"
     ]
    }
   ],
   "execution_count": 5
  },
  {
   "cell_type": "code",
   "source": [
    "show_loadable(\"some_python_file.py\")"
   ],
   "metadata": {
    "collapsed": false,
    "ExecuteTime": {
     "end_time": "2024-06-20T23:15:36.962938Z",
     "start_time": "2024-06-20T23:15:36.960970Z"
    }
   },
   "outputs": [
    {
     "name": "stdout",
     "output_type": "stream",
     "text": [
      "\n",
      "### SHOWING MODULE '.../some_python_file.py'\n",
      "  | \n",
      "  | def a_function():\n",
      "  |     return \"Hello from a function in a python file\"\n",
      "  | \n",
      "  | \n",
      "  | a_value = {\n",
      "  |     \"alpha\": 111\n",
      "  | }\n",
      "  | \n",
      "\n",
      "\n"
     ]
    }
   ],
   "execution_count": 6
  },
  {
   "cell_type": "code",
   "metadata": {
    "ExecuteTime": {
     "end_time": "2024-06-20T23:15:37.157871Z",
     "start_time": "2024-06-20T23:15:37.154783Z"
    }
   },
   "source": [
    "do.load(\"params.a_value\")"
   ],
   "outputs": [
    {
     "data": {
      "text/plain": [
       "{'alpha': 111}"
      ]
     },
     "execution_count": 7,
     "metadata": {},
     "output_type": "execute_result"
    }
   ],
   "execution_count": 7
  },
  {
   "metadata": {
    "ExecuteTime": {
     "end_time": "2024-06-20T23:15:37.342405Z",
     "start_time": "2024-06-20T23:15:37.340285Z"
    }
   },
   "cell_type": "code",
   "source": "do.load(\"params.a_value.alpha\")",
   "outputs": [
    {
     "data": {
      "text/plain": [
       "111"
      ]
     },
     "execution_count": 8,
     "metadata": {},
     "output_type": "execute_result"
    }
   ],
   "execution_count": 8
  },
  {
   "cell_type": "code",
   "metadata": {
    "ExecuteTime": {
     "end_time": "2024-06-20T23:15:37.563022Z",
     "start_time": "2024-06-20T23:15:37.560494Z"
    }
   },
   "source": [
    "fn = do.load(\"params.a_function\")\n",
    "fn()"
   ],
   "outputs": [
    {
     "data": {
      "text/plain": [
       "'Hello from a function in a python file'"
      ]
     },
     "execution_count": 9,
     "metadata": {},
     "output_type": "execute_result"
    }
   ],
   "execution_count": 9
  },
  {
   "cell_type": "code",
   "metadata": {
    "ExecuteTime": {
     "end_time": "2024-06-20T23:15:37.743857Z",
     "start_time": "2024-06-20T23:15:37.741758Z"
    }
   },
   "source": [
    "# And we can see that the do function is just a wrapper around the do.load.  This performs the same function as the above cell.\n",
    "do(\"params.a_function\")"
   ],
   "outputs": [
    {
     "data": {
      "text/plain": [
       "'Hello from a function in a python file'"
      ]
     },
     "execution_count": 10,
     "metadata": {},
     "output_type": "execute_result"
    }
   ],
   "execution_count": 10
  },
  {
   "cell_type": "markdown",
   "metadata": {
    "collapsed": false,
    "jupyter": {
     "outputs_hidden": false
    }
   },
   "source": [
    "### DATCONFIG - Implicitly registered modules\n",
    "'Do' will scan from CWD to find '.datconfig' and use the do_folder it specifies.  \n",
    "At load time, this folder tree is scanned and all .py .json and .yaml files found are \n",
    "implicitly registered according to the basename of each file."
   ]
  },
  {
   "cell_type": "code",
   "metadata": {
    "ExecuteTime": {
     "end_time": "2024-06-20T23:15:38.125427Z",
     "start_time": "2024-06-20T23:15:38.123118Z"
    }
   },
   "source": "show_loadable(\"../.datconfig.json\")",
   "outputs": [
    {
     "name": "stdout",
     "output_type": "stream",
     "text": [
      "\n",
      "### SHOWING MODULE '.../../.datconfig.json'\n",
      "  | {\n",
      "  |     \"sync_folder\": \"example_sync_folder\",\n",
      "  |     \"mount_commands\": [\n",
      "  |         {\"at\":  \"\", \"folder\":  \"../standard_do_scripts\"},\n",
      "  |         {\"at\":  \"\", \"folder\":  \"example_mounted_folder\"},\n",
      "  |         {\"at\":  \"\", \"folder\":  \"example_mounted_folder/script\"},\n",
      "  |         {\"at\": \"foo\", \"file\": \"example_mounted_folder/some_python_file.py\"},\n",
      "  |         {\"at\": \"bar\", \"file\": \"example_mounted_folder/some_other_python_file.py\"},\n",
      "  |         {\"at\": \"baz\", \"file\": \"example_mounted_folder/script/my_yaml_data.yaml\"},\n",
      "  |         {\"at\": \"the_dat_module\", \"module\": \"dvc_dat\"},\n",
      "  |         {\"at\": \"foo.bar.baz\", \"value\": [11, 22, 33]}\n",
      "  |     ]\n",
      "  | }\n",
      "  | \n",
      "\n",
      "\n"
     ]
    }
   ],
   "execution_count": 11
  },
  {
   "cell_type": "code",
   "metadata": {
    "collapsed": false,
    "jupyter": {
     "outputs_hidden": false
    },
    "ExecuteTime": {
     "end_time": "2024-06-20T23:15:38.370075Z",
     "start_time": "2024-06-20T23:15:38.367641Z"
    }
   },
   "source": "show_loadable(\"script/my_data.py\")\n",
   "outputs": [
    {
     "name": "stdout",
     "output_type": "stream",
     "text": [
      "\n",
      "### SHOWING MODULE '.../script/my_data.py'\n",
      "  | from dvc_dat import do\n",
      "  | \n",
      "  | __main__ = [111, 222, 333]\n",
      "  | message = \"Hello from my_data!\"\n",
      "  | def my_function(): # noqa\n",
      "  |     print(\"Hello from my_function!\")\n",
      "  |     return 123\n",
      "  | a_tree = {  # noqa\n",
      "  |     \"a\": do.load(\"my_yaml_data\"),\n",
      "  |     \"b\": 2,\n",
      "  |     \"c\": {\n",
      "  |         \"d\": my_function,\n",
      "  |         \"e\": 4,\n",
      "  |         \"f\": {\n",
      "  |             \"g\": 5,\n",
      "  |             \"h\": 6,\n",
      "  |             \"i\": 7}}}\n",
      "  | \n",
      "\n",
      "\n"
     ]
    }
   ],
   "execution_count": 12
  },
  {
   "cell_type": "markdown",
   "metadata": {},
   "source": [
    "#### Loading from implicitly defined modules\n",
    "These values are all loaded from python and yaml files implicitly registered since they are contained under the do_folder."
   ]
  },
  {
   "cell_type": "code",
   "metadata": {
    "collapsed": false,
    "jupyter": {
     "outputs_hidden": false
    },
    "ExecuteTime": {
     "end_time": "2024-06-20T23:15:38.765353Z",
     "start_time": "2024-06-20T23:15:38.761104Z"
    }
   },
   "source": [
    "do.load(\"my_data.message\")    # Returns the global variable 'message' from the my_data.py file."
   ],
   "outputs": [
    {
     "data": {
      "text/plain": [
       "'Hello from my_data!'"
      ]
     },
     "execution_count": 13,
     "metadata": {},
     "output_type": "execute_result"
    }
   ],
   "execution_count": 13
  },
  {
   "cell_type": "code",
   "metadata": {
    "collapsed": false,
    "jupyter": {
     "outputs_hidden": false
    },
    "ExecuteTime": {
     "end_time": "2024-06-20T23:15:38.987932Z",
     "start_time": "2024-06-20T23:15:38.985373Z"
    }
   },
   "source": [
    "do.load(\"my_data.a_tree.b\")   # Returns the value of the nested variable 'b' from the 'a_tree' dictionary in my_data.py"
   ],
   "outputs": [
    {
     "data": {
      "text/plain": [
       "2"
      ]
     },
     "execution_count": 14,
     "metadata": {},
     "output_type": "execute_result"
    }
   ],
   "execution_count": 14
  },
  {
   "cell_type": "code",
   "metadata": {
    "ExecuteTime": {
     "end_time": "2024-06-20T23:15:39.215777Z",
     "start_time": "2024-06-20T23:15:39.211739Z"
    }
   },
   "source": [
    "#\n",
    "# But under the covers, this tree of values is really still just data contained in some python module.  This module can be accessed directly if needed:\n",
    "do.load(\"my_data\")"
   ],
   "outputs": [
    {
     "data": {
      "text/plain": [
       "[111, 222, 333]"
      ]
     },
     "execution_count": 15,
     "metadata": {},
     "output_type": "execute_result"
    }
   ],
   "execution_count": 15
  },
  {
   "cell_type": "code",
   "metadata": {
    "collapsed": false,
    "jupyter": {
     "outputs_hidden": false
    },
    "ExecuteTime": {
     "end_time": "2024-06-20T23:15:39.409698Z",
     "start_time": "2024-06-20T23:15:39.407707Z"
    }
   },
   "source": [
    "show_loadable(\"script/my_yaml_data.yaml\")"
   ],
   "outputs": [
    {
     "name": "stdout",
     "output_type": "stream",
     "text": [
      "\n",
      "### SHOWING MODULE '.../script/my_yaml_data.yaml'\n",
      "  | one:\n",
      "  |   - alpha\n",
      "  |   - beta\n",
      "  | two:\n",
      "  |   - gamma\n",
      "  |   - delta\n",
      "  | \n",
      "\n",
      "\n"
     ]
    }
   ],
   "execution_count": 16
  },
  {
   "cell_type": "code",
   "metadata": {
    "ExecuteTime": {
     "end_time": "2024-06-20T23:15:39.624517Z",
     "start_time": "2024-06-20T23:15:39.622389Z"
    }
   },
   "source": [
    "do.load(\"my_yaml_data.two\")   # loading within a substructure"
   ],
   "outputs": [
    {
     "data": {
      "text/plain": [
       "['gamma', 'delta']"
      ]
     },
     "execution_count": 17,
     "metadata": {},
     "output_type": "execute_result"
    }
   ],
   "execution_count": 17
  },
  {
   "cell_type": "code",
   "metadata": {
    "ExecuteTime": {
     "end_time": "2024-06-20T23:15:39.800802Z",
     "start_time": "2024-06-20T23:15:39.798668Z"
    }
   },
   "source": [
    "do.load(\"my_data.a_tree.a.two\")  # Same data included in to another structure"
   ],
   "outputs": [
    {
     "data": {
      "text/plain": [
       "['gamma', 'delta']"
      ]
     },
     "execution_count": 18,
     "metadata": {},
     "output_type": "execute_result"
    }
   ],
   "execution_count": 18
  },
  {
   "cell_type": "markdown",
   "metadata": {},
   "source": [
    "# CORE \"DO\" FUNCTIONALITY -- Dynamically Loaded Function\n",
    "\n",
    "The do function provides efficient access to dynamically searched and loaded python functions:\n",
    "1. That are referenced by a naming string\n",
    "2. that are dynamically loaded from a python module\n",
    "3. that accept fixed & keyword arguments and return results as any function does"
   ]
  },
  {
   "cell_type": "code",
   "metadata": {
    "ExecuteTime": {
     "end_time": "2024-06-20T23:15:40.460197Z",
     "start_time": "2024-06-20T23:15:40.457811Z"
    }
   },
   "source": [
    "show_loadable(\"script/hello_world.py\")"
   ],
   "outputs": [
    {
     "name": "stdout",
     "output_type": "stream",
     "text": [
      "\n",
      "### SHOWING MODULE '.../script/hello_world.py'\n",
      "  | def __main__():\n",
      "  |     print(\"   hello world!\")\n",
      "  | \n",
      "\n",
      "\n"
     ]
    }
   ],
   "execution_count": 19
  },
  {
   "cell_type": "code",
   "metadata": {
    "ExecuteTime": {
     "end_time": "2024-06-20T23:15:40.883710Z",
     "start_time": "2024-06-20T23:15:40.881524Z"
    }
   },
   "source": [
    "do(\"hello_world\")"
   ],
   "outputs": [
    {
     "name": "stdout",
     "output_type": "stream",
     "text": [
      "   hello world!\n"
     ]
    }
   ],
   "execution_count": 20
  },
  {
   "metadata": {},
   "cell_type": "markdown",
   "source": [
    ".\n",
    "## EXAMPLE: A SIMPLEST \"DO\" CALL\n",
    "This \"do\" loads hello_world.py and runs the function hello_world from it."
   ]
  },
  {
   "cell_type": "markdown",
   "metadata": {},
   "source": [
    ".\n",
    "## EXAMPLE -- MULTIPLE DO FUNCTIONS DEFINED IN ONE MODULE\n",
    "One can put multiple do functions in one file and reference them with a dot notion as shown here."
   ]
  },
  {
   "cell_type": "code",
   "metadata": {
    "ExecuteTime": {
     "end_time": "2024-06-20T23:15:41.854515Z",
     "start_time": "2024-06-20T23:15:41.851799Z"
    }
   },
   "source": [
    "show_loadable(\"script/hello_again.py\")"
   ],
   "outputs": [
    {
     "name": "stdout",
     "output_type": "stream",
     "text": [
      "\n",
      "### SHOWING MODULE '.../script/hello_again.py'\n",
      "  | def __main__():\n",
      "  |     print(\"   Hello World again!\")\n",
      "  | \n",
      "  | \n",
      "  | def hella():\n",
      "  |     print(\"   HELLA Hello World!!!  Hello world again.\")\n",
      "  | \n",
      "  | \n",
      "  | def salutation(name=\"Hello\", *, emphasis=False, lucky_number=999):\n",
      "  |     line = F\"   {name}, My lucky number is {lucky_number}\"\n",
      "  |     print(F\"{line.upper()}!\" if emphasis else line)\n",
      "  |     return lucky_number\n",
      "  | \n",
      "\n",
      "\n"
     ]
    }
   ],
   "execution_count": 21
  },
  {
   "cell_type": "code",
   "metadata": {
    "ExecuteTime": {
     "end_time": "2024-06-20T23:15:42.071700Z",
     "start_time": "2024-06-20T23:15:42.068972Z"
    }
   },
   "source": [
    "do(\"hello_again\")\n",
    "do(\"hello_again.hella\")\n"
   ],
   "outputs": [
    {
     "name": "stdout",
     "output_type": "stream",
     "text": [
      "   Hello World again!\n",
      "   HELLA Hello World!!!  Hello world again.\n"
     ]
    }
   ],
   "execution_count": 22
  },
  {
   "cell_type": "markdown",
   "metadata": {},
   "source": [
    ".\n",
    "## EXAMPLE: PASSING ARGS AND RESULTS\n",
    "Here we see fixed and keyword args being forwarded by do to the underlying function.\n",
    "And likewise, its result is forward back to be the result of the do call."
   ]
  },
  {
   "cell_type": "code",
   "metadata": {
    "ExecuteTime": {
     "end_time": "2024-06-20T23:15:42.642525Z",
     "start_time": "2024-06-20T23:15:42.638766Z"
    }
   },
   "source": [
    "do(\"hello_again.salutation\", \"Michael\", emphasis=True)"
   ],
   "outputs": [
    {
     "name": "stdout",
     "output_type": "stream",
     "text": [
      "   MICHAEL, MY LUCKY NUMBER IS 999!\n"
     ]
    },
    {
     "data": {
      "text/plain": [
       "999"
      ]
     },
     "execution_count": 23,
     "metadata": {},
     "output_type": "execute_result"
    }
   ],
   "execution_count": 23
  },
  {
   "cell_type": "markdown",
   "metadata": {},
   "source": [
    ".\n",
    "## EXAMPLE: ALL SUB-FOLDERS OF A DO_FOLDER ARE SCANNED AND ADDED TO THE ROOT OF THE DO NAMESPACE\n",
    "Here we see \"deep_hello\" is called even when it occurs deeply within the folder tree."
   ]
  },
  {
   "cell_type": "markdown",
   "metadata": {},
   "source": [
    ".\n",
    ".\n",
    "# >>> CALLING A CONFIGURATION <<<\n",
    "In addition to invoking a simple function, \"do\" can also invoke a configuration dict.\n",
    "In this case:\n",
    "1. The dict is expanded by recursively looking up \"dat.base\" and using its values-tree as defaults\n",
    "2. Then finally calling the function associated with \"dat.do\"\n",
    "3. The expanded dict is passed as the first arg followed by args passed to do"
   ]
  },
  {
   "cell_type": "markdown",
   "metadata": {},
   "source": [
    ".\n",
    "## EXAMPLE: CALLING A CONFIG\n",
    "Here 'hello_config' loads a json file instead of a python function.\n",
    "In this case, the \"dat.do\" value of \"hello config action\" is loaded and called."
   ]
  },
  {
   "cell_type": "code",
   "metadata": {
    "ExecuteTime": {
     "end_time": "2024-06-20T23:15:44.088314Z",
     "start_time": "2024-06-20T23:15:44.085537Z"
    }
   },
   "source": [
    "show_loadable(\"script/configurable_salutation.py\")"
   ],
   "outputs": [
    {
     "name": "stdout",
     "output_type": "stream",
     "text": [
      "\n",
      "### SHOWING MODULE '.../script/configurable_salutation.py'\n",
      "  | def __main__(dat, name=None, *, emphasis=False, lucky_number=None):\n",
      "  |     spec = dat.get_spec()\n",
      "  |     name = spec.get(\"name\") if name is None else name\n",
      "  |     emphasis = spec.get(\"emphasis\") or emphasis\n",
      "  |     lucky_number = spec.get(\"lucky_number\") or lucky_number\n",
      "  |     line = F\"   {name}, My lucky number is {lucky_number}\"\n",
      "  |     print(F\"{line.upper()}!\" if emphasis else line)\n",
      "  |     return lucky_number\n",
      "  | \n",
      "\n",
      "\n"
     ]
    }
   ],
   "execution_count": 24
  },
  {
   "cell_type": "code",
   "source": [
    "show_loadable(\"script/hello_config.json\")"
   ],
   "metadata": {
    "collapsed": false,
    "ExecuteTime": {
     "end_time": "2024-06-20T23:15:44.485796Z",
     "start_time": "2024-06-20T23:15:44.483180Z"
    }
   },
   "outputs": [
    {
     "name": "stdout",
     "output_type": "stream",
     "text": [
      "\n",
      "### SHOWING MODULE '.../script/hello_config.json'\n",
      "  | {\n",
      "  |     \"dat\": {\n",
      "  |         \"do\": \"configurable_salutation\"\n",
      "  |     },\n",
      "  |     \"name\": \"Hello\",\n",
      "  |     \"lucky_number\": 7,\n",
      "  |     \"emphasis\": false\n",
      "  | }\n",
      "  | \n",
      "\n",
      "\n"
     ]
    }
   ],
   "execution_count": 25
  },
  {
   "cell_type": "code",
   "metadata": {
    "ExecuteTime": {
     "end_time": "2024-06-20T23:15:45.412452Z",
     "start_time": "2024-06-20T23:15:45.407111Z"
    }
   },
   "source": [
    "do(\"hello_config\", \"Martin\")"
   ],
   "outputs": [
    {
     "name": "stdout",
     "output_type": "stream",
     "text": [
      "   Martin, My lucky number is 7\n"
     ]
    },
    {
     "data": {
      "text/plain": [
       "7"
      ]
     },
     "execution_count": 26,
     "metadata": {},
     "output_type": "execute_result"
    }
   ],
   "execution_count": 26
  },
  {
   "cell_type": "markdown",
   "metadata": {},
   "source": [
    ".\n",
    "## EXAMPLE -- CONFIG INHERITANCE\n",
    "Here 'hello_shadowing_config' sets lucky_number to 777 and inherits function to call and other parameters from 'hello_config'."
   ]
  },
  {
   "cell_type": "code",
   "metadata": {
    "ExecuteTime": {
     "end_time": "2024-06-20T23:15:46.124528Z",
     "start_time": "2024-06-20T23:15:46.122462Z"
    }
   },
   "source": [
    "show_loadable(\"script/hello_shadowed_config.json\")"
   ],
   "outputs": [
    {
     "name": "stdout",
     "output_type": "stream",
     "text": [
      "\n",
      "### SHOWING MODULE '.../script/hello_shadowed_config.json'\n",
      "  | {\n",
      "  |   \"dat\": {\n",
      "  |     \"base\": \"hello_config\" },\n",
      "  |   \"lucky_number\":  777\n",
      "  | }\n",
      "  | \n",
      "\n",
      "\n"
     ]
    }
   ],
   "execution_count": 27
  },
  {
   "cell_type": "code",
   "metadata": {
    "ExecuteTime": {
     "end_time": "2024-06-20T23:15:47.268932Z",
     "start_time": "2024-06-20T23:15:47.263362Z"
    }
   },
   "source": [
    "do(\"hello_shadowed_config\")"
   ],
   "outputs": [
    {
     "name": "stdout",
     "output_type": "stream",
     "text": [
      "   Hello, My lucky number is 777\n"
     ]
    },
    {
     "data": {
      "text/plain": [
       "777"
      ]
     },
     "execution_count": 28,
     "metadata": {},
     "output_type": "execute_result"
    }
   ],
   "execution_count": 28
  },
  {
   "cell_type": "markdown",
   "metadata": {},
   "source": [
    "_\n",
    "## EXAMPLE: COMBINING CONFIGS AND CODE\n",
    "Complex tools (including nearly a visualizers/report generators) naturally have simple config info best expressed as a config dict,\n",
    "and complex config best expressed in python.  Forcing these to be separate loadables will generate a confusing sea of many tiny \n",
    "separate 2-line loadable files.\n",
    "\n",
    "To address this \"do\" allows config data (normally stored in .json) to be stored in a variable in a .py file.  This allows that\n",
    "config info to be bundled with functions that are referenced by that same config in the same module.  \n",
    "\n",
    "The example below shows a silly complex tool that applies a sequence of text transformation rules to a sequence of letters.\n",
    "The first loadable provides a config with the base parameters and the rule engine itself.  The second loadable configures the tool and \n",
    "provides a couple of small python rule functions that are used by the configuration all nicely wrapped up in a single .py file."
   ]
  },
  {
   "cell_type": "code",
   "metadata": {
    "ExecuteTime": {
     "end_time": "2024-06-20T23:15:59.574648Z",
     "start_time": "2024-06-20T23:15:59.572173Z"
    }
   },
   "source": [
    "show_loadable(\"script/letterator.py\")"
   ],
   "outputs": [
    {
     "name": "stdout",
     "output_type": "stream",
     "text": [
      "\n",
      "### SHOWING MODULE '.../script/letterator.py'\n",
      "  | from dvc_dat import do  # noqa\n",
      "  | \n",
      "  | \"\"\"Silly configurable tool for applying rules to a sequence of letters.\"\"\"\n",
      "  | __main__ = {\n",
      "  |     \"dat\": {\n",
      "  |       \"do\": \"letterator.run\",      # example of a complex tool config\n",
      "  |       \"title\": \"The Letterator\"\n",
      "  |     },   \n",
      "  |     \"start\": 48,\n",
      "  |     \"end\": 122\n",
      "  | }\n",
      "  | \n",
      "  | \n",
      "  | def run(dat):\n",
      "  |     spec = dat.get_spec()\n",
      "  |     results = []\n",
      "  |     for idx in range(spec[\"start\"], spec[\"end\"]):\n",
      "  |         text = chr(idx)\n",
      "  |         for step, rule_name in spec[\"rules\"]:\n",
      "  |             fn = do.load(rule_name)\n",
      "  |             if idx % step == 0:\n",
      "  |                 text = fn(idx, text)\n",
      "  |         results.append(text)\n",
      "  |     print(spec[\"dat\"][\"title\"])\n",
      "  |     return \"  \".join(results)\n",
      "  | \n",
      "\n",
      "\n"
     ]
    }
   ],
   "execution_count": 29
  },
  {
   "cell_type": "code",
   "metadata": {
    "ExecuteTime": {
     "end_time": "2024-06-20T23:16:00.040642Z",
     "start_time": "2024-06-20T23:16:00.038459Z"
    }
   },
   "source": [
    "show_loadable(\"script/my_letters.py\")"
   ],
   "outputs": [
    {
     "name": "stdout",
     "output_type": "stream",
     "text": [
      "\n",
      "### SHOWING MODULE '.../script/my_letters.py'\n",
      "  | __main__ = {\n",
      "  |   \"dat\": {\"base\": \"letterator\"},\n",
      "  |   \"start\": 97,\n",
      "  |   \"rules\": [\n",
      "  |     (7, \"my_letters.jackpot\"),\n",
      "  |     (3, \"my_letters.triple_it\"),\n",
      "  |     (5, \"my_letters.all_caps_it\")]\n",
      "  | }\n",
      "  | \n",
      "  | def triple_it(_idx, text):  # noqa\n",
      "  |     return F\"{text}{text}{text}\"\n",
      "  | \n",
      "  | def all_caps_it(_idx, text):  # noqa\n",
      "  |     return text.upper()\n",
      "  | \n",
      "  | def jackpot(_idx, _text):  # noqa\n",
      "  |     return \"jackpot \"\n",
      "  | \n",
      "\n",
      "\n"
     ]
    }
   ],
   "execution_count": 30
  },
  {
   "cell_type": "code",
   "metadata": {
    "ExecuteTime": {
     "end_time": "2024-06-20T23:16:00.299744Z",
     "start_time": "2024-06-20T23:16:00.294615Z"
    }
   },
   "source": [
    "do(\"my_letters\")"
   ],
   "outputs": [
    {
     "name": "stdout",
     "output_type": "stream",
     "text": [
      "The Letterator\n"
     ]
    },
    {
     "data": {
      "text/plain": [
       "'a  jackpot   ccc  D  e  fff  g  h  JACKPOT JACKPOT JACKPOT   j  k  lll  m  N  ooo  jackpot   q  rrr  S  t  uuu  v  jackpot   XXX  y'"
      ]
     },
     "execution_count": 31,
     "metadata": {},
     "output_type": "execute_result"
    }
   ],
   "execution_count": 31
  },
  {
   "cell_type": "markdown",
   "metadata": {},
   "source": [
    ".\n",
    ".\n",
    "# USE CASE - SELF DOCUMENTING PROCESSES\n",
    "When possible, we can use a simple versioned object to help us execute coding processes, and \n",
    "track/maintain those processes.  "
   ]
  },
  {
   "cell_type": "markdown",
   "metadata": {},
   "source": [
    ".\n",
    "## EXAMPLE: Loadable constant\n",
    "Here we show that a loadable can be any python constant data value.\n",
    "In this example, we have a set of named lists that are used to track \n",
    "our supported dataset, metrics, and tools.\n",
    "\n",
    "This versioned data structure is used as input by the 'naughty_list' script that scans\n",
    "supported components to see that each has (1) a doc string, both quick and full regression tests, etc.\n"
   ]
  },
  {
   "cell_type": "code",
   "metadata": {
    "ExecuteTime": {
     "end_time": "2024-06-20T23:16:01.243542Z",
     "start_time": "2024-06-20T23:16:01.240598Z"
    }
   },
   "source": [
    "show_loadable(\"script/supported.yaml\")"
   ],
   "outputs": [
    {
     "name": "stdout",
     "output_type": "stream",
     "text": [
      "\n",
      "### SHOWING MODULE '.../script/supported.yaml'\n",
      "  | datasets:\n",
      "  | - regression_games # Any game referenced by any regression test MUST be listed here\n",
      "  | - baller10  # Default dataset use by all basketball metrics\n",
      "  | - volley10\n",
      "  | - arron4    # Examples of higher resolution games\n",
      "  | metrics:\n",
      "  | - team_highlight.money  # Jason agreed money metric for team highlights \n",
      "  | - team_highlight.precision # Just the precision portion of this metric\n",
      "  | - player_highlight.money # Jason agreed, include player ID\n",
      "  | - basket_stats.money # Jason agree, metric for points, player, make-miss stats\n",
      "  | - p_metric # used in 2022\n",
      "  | \n",
      "\n",
      "\n"
     ]
    }
   ],
   "execution_count": 32
  },
  {
   "cell_type": "code",
   "metadata": {
    "ExecuteTime": {
     "end_time": "2024-06-20T23:16:01.549200Z",
     "start_time": "2024-06-20T23:16:01.546474Z"
    }
   },
   "source": [
    "show_loadable(\"script/team_highlight.py\")"
   ],
   "outputs": [
    {
     "name": "stdout",
     "output_type": "stream",
     "text": [
      "\n",
      "### SHOWING MODULE '.../script/team_highlight.py'\n",
      "  | \"\"\"\n",
      "  | Team highlight money is the F1 where correctness is tied to correctly assessing shot \n",
      "  | attempt and make-miss, without consideration of player-ID nor number of points scored.\n",
      "  | \n",
      "  | This is the Jason approved metric associated with our team highlights product, and we\n",
      "  | have agreed 80% is the minimum approved threshold required for product ship.\n",
      "  | \"\"\"\n",
      "  | \n",
      "  | from dvc_dat import do, Dat\n",
      "  | \n",
      "  | \n",
      "  | def reg_quick_test():\n",
      "  |     run_result = Dat.load(\"reg1_latest\")   # Reg1 pickle for a special 5-min snipit\n",
      "  |     assert do(\"team_highlight_money\", run_result) > .65\n",
      "  | \n",
      "  | \n",
      "  | reg_full_test = \"std_full1\"  # indicates full regression testing is part of 'std_full1'\n",
      "  | \n",
      "  | \n",
      "  | def money(_run_result: Dat) -> float:\n",
      "  |     return -1  # implementation goes here\n",
      "  | \n",
      "  |     \n",
      "  | def precision(_run_result: Dat) -> float:\n",
      "  |     return -1  # implementation goes here\n",
      "  | \n",
      "\n",
      "\n"
     ]
    }
   ],
   "execution_count": 33
  },
  {
   "cell_type": "code",
   "metadata": {
    "ExecuteTime": {
     "end_time": "2024-06-20T23:16:01.812582Z",
     "start_time": "2024-06-20T23:16:01.810380Z"
    }
   },
   "source": "show_loadable(\"script/regression_tests.py\")",
   "outputs": [
    {
     "name": "stdout",
     "output_type": "stream",
     "text": [
      "\n",
      "### SHOWING MODULE '.../script/regression_tests.py'\n",
      "  | \"\"\"\n",
      "  | The \"naughty list\" scans all supported datasets, metrics, visualization/debugging tools \n",
      "  | and verifies they are (1) properly documented, (2) they execute their full regressions, \n",
      "  | (3) The continue to run against representative games, metrics, tools.\n",
      "  | \n",
      "  | Any metric, tool, dataset that is not fully compliant is indicated on the naughty list.\n",
      "  | \"\"\"\n",
      "  | \n",
      "  | from dvc_dat import do\n",
      "  | \n",
      "  | \n",
      "  | def __main__():\n",
      "  |     # this double for loop checks docs exist, regression test exists, and passes etc.\n",
      "  |     for section, supported_dats in do.load(\"supported\").items():\n",
      "  |         for name in supported_dats:\n",
      "  |             dat = do.load(name, default=None)\n",
      "  |             if dat is None:\n",
      "  |                 print(F\"   Error in {section} {name!r} does not exist\")\n",
      "  |                 continue\n",
      "  |             if not hasattr(dat, \"__DOC__\"):\n",
      "  |                 print(F\"   Error in {section} {name!r} doesn't have a valid doc string\")\n",
      "  |             if not hasattr(dat, \"reg_quick_test\"):\n",
      "  |                 print(F\"   Error in {section} {name!r} \" +\n",
      "  |                       \"doesn't have a valid quick regression test\")\n",
      "  |             if not hasattr(dat, \"reg_full_test\"):\n",
      "  |                 print(F\"   Error in {section} {name!r} \" +\n",
      "  |                       \"doesn't have a valid full regression test\")\n",
      "  | \n",
      "\n",
      "\n"
     ]
    }
   ],
   "execution_count": 34
  },
  {
   "cell_type": "code",
   "metadata": {
    "ExecuteTime": {
     "end_time": "2024-06-20T23:16:02.204140Z",
     "start_time": "2024-06-20T23:16:02.199562Z"
    }
   },
   "source": [
    "# Runs the naughty_list regression test over all supported datasets and metrics\n",
    "\n",
    "\n",
    "from dvc_dat import Dat, do\n",
    "\n",
    "reg1_name = do.load(\"supported\")[\"datasets\"][0]   # Gets then name of a mcproc result to use\n",
    "reg1 = Dat.create(spec={})     # This should be Dat.load(reg1) but that dat does not exist here\n",
    "score = do(\"team_highlight.money\", reg1)  # computes money metric on reg1\n",
    "\n",
    "do(\"regression_tests\")   # runs our checking code"
   ],
   "outputs": [
    {
     "name": "stdout",
     "output_type": "stream",
     "text": [
      "   Error in datasets 'regression_games' does not exist\n",
      "   Error in datasets 'baller10' does not exist\n",
      "   Error in datasets 'volley10' does not exist\n",
      "   Error in datasets 'arron4' does not exist\n",
      "   Error in metrics 'team_highlight.money' doesn't have a valid doc string\n",
      "   Error in metrics 'team_highlight.money' doesn't have a valid quick regression test\n",
      "   Error in metrics 'team_highlight.money' doesn't have a valid full regression test\n",
      "   Error in metrics 'team_highlight.precision' doesn't have a valid doc string\n",
      "   Error in metrics 'team_highlight.precision' doesn't have a valid quick regression test\n",
      "   Error in metrics 'team_highlight.precision' doesn't have a valid full regression test\n",
      "   Error in metrics 'player_highlight.money' does not exist\n",
      "   Error in metrics 'basket_stats.money' does not exist\n",
      "   Error in metrics 'p_metric' does not exist\n"
     ]
    }
   ],
   "execution_count": 35
  },
  {
   "cell_type": "markdown",
   "metadata": {},
   "source": [
    ".\n",
    ".\n",
    "# USING DO FROM THE COMMAND LINE\n",
    "Do encapsulates execution as a self describing building block.  The do function is designed to be easily \n",
    "embedded within larger execution scripts.  In some cases, it is convenient for a user to directly invoke do\n",
    "as a toplevel command.  The do commandline interface provides command line support \"for free\" for any such \n",
    "do function. It defines a simple mapping from expected --arguments and -a argument onto Python fixed and kwargs.\n",
    "This is probably best shown using a series of examples:"
   ]
  },
  {
   "cell_type": "markdown",
   "metadata": {},
   "source": [
    ".\n",
    "### EXAMPLE: Showing default usage command for "
   ]
  },
  {
   "cell_type": "code",
   "metadata": {
    "ExecuteTime": {
     "end_time": "2024-06-20T23:16:04.034723Z",
     "start_time": "2024-06-20T23:16:03.600074Z"
    }
   },
   "source": [
    "!./do --usage"
   ],
   "outputs": [
    {
     "name": "stdout",
     "output_type": "stream",
     "text": [
      "\r\n",
      "SYNOPSIS\r\n",
      "    do CMD_NAME FIXED_ARGS ... KEYWORD_ARG ...\r\n",
      "    do KEY_WORD_ARGS  ...  CMD_NAME FIXED_ARGS ...\r\n",
      "\r\n",
      "    do --usage\r\n",
      "    do --get DOTTED.KEY\r\n",
      "    do --set DOTTED.KEY=VALUE\r\n",
      "    do --sets \"DOTTED.KEY1=VALUE1, DOTTED.KEY2=VALUE2\"\r\n",
      "\r\n",
      "DESCRIPTION\r\n",
      "    Executes the do command named by CMD_NAME.\r\n",
      "    \r\n",
      "    --usage     Prints the command-specific usage info if it exists\r\n",
      "    \r\n",
      "    --USAGE     Prints this usage message\r\n",
      "    \r\n",
      "    --print     Prints the python do call with args, but does not call it.\r\n",
      "    \r\n",
      "    --get DOTTED.NAME\r\n",
      "                Expands the config for a command and returns an arg from it\r\n",
      "    \r\n",
      "    --set DOTTED.NAME=VALUE\r\n",
      "    --sets DOTTED.NAME1=VALUE1,DOTTED.NAME2=VALUE2,...\r\n",
      "                Expands the config for a command and updates the indicated\r\n",
      "                config parameters before invoking the indicated command\r\n",
      "\r\n",
      "NOTES\r\n",
      "    Per standard UNIX 'getopt' parameter parsing two dashes (\"--\")\r\n",
      "    can be used to terminate keyword arguments and cause all remaining \r\n",
      "    arguments to be treated as fixed parameters even when those parameters\r\n",
      "    begin with \"-\" in a way that could be confused as additional keywords\r\n",
      "\r\n",
      "    Unlike most UNIX parameters each single dash (\"-\") keywords cannot\r\n",
      "    be concatenated.  So \"do -a -b foo\" cannot be shorted to \"do -ab foo\"\r\n",
      "    \r\n",
      "    All keyword arguments can be either flags or keywords with arguments, \r\n",
      "    thus \"--\" must be added in some cases to avoid treating a fixed arg\r\n",
      "    as the value associated with a keyword flag.\r\n",
      "    \r\n",
      "\r\n",
      "EXAMPLES\r\n",
      "\r\n",
      "    do --show balls,hoops viz\r\n",
      "\r\n"
     ]
    }
   ],
   "execution_count": 36
  },
  {
   "cell_type": "markdown",
   "metadata": {},
   "source": [
    ".\n",
    "### EXAMPLE: INVOKING A DO FUNCTION FROM THE COMMAND LINE\n",
    "Earlier we had hello salutation that took fixed and keyword args.\n",
    "Without additional configuration, we can invoke it from the command line\n",
    "using UNIX style args and flags as shown here:"
   ]
  },
  {
   "cell_type": "code",
   "metadata": {
    "ExecuteTime": {
     "end_time": "2024-06-20T23:16:05.235769Z",
     "start_time": "2024-06-20T23:16:04.827709Z"
    }
   },
   "source": "!./do hello_again.salutation Maxim --emphasis",
   "outputs": [
    {
     "name": "stdout",
     "output_type": "stream",
     "text": [
      "   MAXIM, MY LUCKY NUMBER IS 999!\r\n",
      "999\r\n"
     ]
    }
   ],
   "execution_count": 37
  },
  {
   "cell_type": "markdown",
   "metadata": {},
   "source": [
    ".\n",
    "### EXAMPLE: INVOKING A CONFIGURED TOOL FROM THE COMMAND LINE\n",
    "In this example, we show one also can invoke a do configuration from the command line as well.\n",
    "Here we have the same configurable \"letterator\" tool invoked as a do function above:"
   ]
  },
  {
   "cell_type": "code",
   "metadata": {
    "ExecuteTime": {
     "end_time": "2024-06-20T23:16:06.064650Z",
     "start_time": "2024-06-20T23:16:06.061468Z"
    }
   },
   "source": [
    "show_loadable(\"script/my_letters.py\")"
   ],
   "outputs": [
    {
     "name": "stdout",
     "output_type": "stream",
     "text": [
      "\n",
      "### SHOWING MODULE '.../script/my_letters.py'\n",
      "  | __main__ = {\n",
      "  |   \"dat\": {\"base\": \"letterator\"},\n",
      "  |   \"start\": 97,\n",
      "  |   \"rules\": [\n",
      "  |     (7, \"my_letters.jackpot\"),\n",
      "  |     (3, \"my_letters.triple_it\"),\n",
      "  |     (5, \"my_letters.all_caps_it\")]\n",
      "  | }\n",
      "  | \n",
      "  | def triple_it(_idx, text):  # noqa\n",
      "  |     return F\"{text}{text}{text}\"\n",
      "  | \n",
      "  | def all_caps_it(_idx, text):  # noqa\n",
      "  |     return text.upper()\n",
      "  | \n",
      "  | def jackpot(_idx, _text):  # noqa\n",
      "  |     return \"jackpot \"\n",
      "  | \n",
      "\n",
      "\n"
     ]
    }
   ],
   "execution_count": 38
  },
  {
   "cell_type": "code",
   "metadata": {
    "ExecuteTime": {
     "end_time": "2024-06-20T23:16:06.792438Z",
     "start_time": "2024-06-20T23:16:06.390929Z"
    }
   },
   "source": [
    "!./do my_letters"
   ],
   "outputs": [
    {
     "name": "stdout",
     "output_type": "stream",
     "text": [
      "The Letterator\r\n",
      "a  jackpot   ccc  D  e  fff  g  h  JACKPOT JACKPOT JACKPOT   j  k  lll  m  N  ooo  jackpot   q  rrr  S  t  uuu  v  jackpot   XXX  y\r\n"
     ]
    }
   ],
   "execution_count": 39
  },
  {
   "cell_type": "markdown",
   "metadata": {},
   "source": [
    "### EXAMPLE -- TWEAK CONFIG FROM COMMANDLINE\n",
    "Often we script and configure a complex test, but then we want to tweak one or two parameters over and over and check our results.\n",
    "(This becomes especially powerful when intermediate results are cached, so retesting is fast.)"
   ]
  },
  {
   "cell_type": "code",
   "metadata": {
    "ExecuteTime": {
     "end_time": "2024-06-20T23:16:07.646975Z",
     "start_time": "2024-06-20T23:16:07.250918Z"
    }
   },
   "source": [
    "!./do my_letters --set dat.title \"Re-configured letterator\" --json rules '[[2, \"my_letters.triple_it\"]]'"
   ],
   "outputs": [
    {
     "name": "stdout",
     "output_type": "stream",
     "text": [
      "Re-configured letterator\r\n",
      "a  bbb  c  ddd  e  fff  g  hhh  i  jjj  k  lll  m  nnn  o  ppp  q  rrr  s  ttt  u  vvv  w  xxx  y\r\n"
     ]
    }
   ],
   "execution_count": 40
  },
  {
   "cell_type": "markdown",
   "metadata": {},
   "source": [
    ".\n",
    "### EXAMPLE: SETTING MULTIPLE PARAMETERS AT ONCE\n",
    "The --sets keyword can perform multiple simple assignments at once"
   ]
  },
  {
   "cell_type": "code",
   "metadata": {
    "ExecuteTime": {
     "end_time": "2024-06-20T23:16:08.477975Z",
     "start_time": "2024-06-20T23:16:08.072010Z"
    }
   },
   "source": [
    "!./do my_letters --sets dat.title=Quickie,start=100,end=110"
   ],
   "outputs": [
    {
     "name": "stdout",
     "output_type": "stream",
     "text": [
      "Quickie\r\n",
      "D  e  fff  g  h  JACKPOT JACKPOT JACKPOT   j  k  lll  m\r\n"
     ]
    }
   ],
   "execution_count": 41
  },
  {
   "cell_type": "markdown",
   "source": [],
   "metadata": {
    "collapsed": false
   }
  },
  {
   "cell_type": "markdown",
   "source": [
    " # COMBINING DO WITH DAT\n",
    "A configuration Dict can be treated as the template for a Dat object with attached\n",
    "python code actions.  This provides a kind of OO-layer on top of Dat and do.\n",
    "\n",
    "How does this work?  If the first argument to 'do' loads a Dict then:\n",
    "1. `expand_spec` is called on it.\n",
    "2. `dat.path` is expanded to get the name (path) for a new Da.\n",
    "3. `Dat.create` is called to create the Dat.\n",
    "4. `dat.do` is then called passing the new Dat as the first argument.\n",
    "\n",
    "Here we show an example of this, a template for a DatContainer with configured\n",
    "'stages' that are sub-Dats each that runs a configured fake mcproc run.\n"
   ],
   "metadata": {
    "collapsed": false
   }
  },
  {
   "metadata": {
    "ExecuteTime": {
     "end_time": "2024-06-20T23:16:09.658774Z",
     "start_time": "2024-06-20T23:16:09.655969Z"
    }
   },
   "cell_type": "code",
   "source": "show_loadable(\"hello_mspipe.py\")",
   "outputs": [
    {
     "name": "stdout",
     "output_type": "stream",
     "text": [
      "\n",
      "### SHOWING MODULE '.../hello_mspipe.py'\n",
      "  | import os\n",
      "  | from dvc_dat import Dat, do, DatContainer, DAT_VERSION\n",
      "  | \n",
      "  | \"\"\"\n",
      "  | HELLO-MSPIPE - Hello-world example of a configurable multi-stage mcproc pipeline.\n",
      "  | \n",
      "  | The real multi-stage pipe might can be patterned from this example with \n",
      "  | \"fake_mcproc_pass\" replaced with code that actually runs a mcproc pass.\n",
      "  | \"\"\"\n",
      "  | \n",
      "  | \n",
      "  | # This is the \"master template\" that all multi-stage pipelines will be based on.\n",
      "  | # It specifies that all stages will use \"fake_mcproc_pass\" by default,\n",
      "  | # and constructs its output folders by overwriting \"mspipe\" in the CWD\n",
      "  | # (specific multistage pipes will usually over-ride this to direct output elsewhere).\n",
      "  | __main__ = {\n",
      "  |     \"dat\": {                         # Section controls execution of the whole pipeline\n",
      "  |         \"kind\": \"Mspipe\",             # \"subtype\" common to all multi-stage runs\n",
      "  |         \"class\": \"DatContainer\",      # The python class for a multi-stage runs\n",
      "  |         \"path\": \"runs/mspipe/{YY}-{MM}{unique}\",  # Template for Dat's location\n",
      "  |         \"do\": \"hello_mspipe.mspipe_build_and_run\",   # Creates and runs the pipeline\n",
      "  |     },\n",
      "  |     \"common\": {\n",
      "  |         \"dat\": {\n",
      "  |             \"kind\": \"Mcproc\",         # Default \"subtype\" for all mcproc runs\n",
      "  |             \"base\": \"hello_std_args\",  # Default parameters for an mcproc run\n",
      "  |             \"do\": \"hello_mspipe.fake_mcproc_runner\",  # Runs one mcproc stage\n",
      "  |         }\n",
      "  |     },\n",
      "  |     \"stages\": {}                      # Section defines stages of the pipeline\n",
      "  | }\n",
      "  | \n",
      "  | \n",
      "  | # NOTE: We split the building and running of these DATS; using DVC and ML FLOW this will\n",
      "  | # enable us to construct and DVC cache many runs and then execute them across\n",
      "  | # a distributed farm of cloud instances.\n",
      "  | def mspipe_build_and_run(dc: DatContainer):\n",
      "  |     mspipe_build(dc)\n",
      "  |     return mspipe_run(dc)\n",
      "  | \n",
      "  | \n",
      "  | def mspipe_build(dc: DatContainer):\n",
      "  |     \"\"\"Builds the sub-dats representing each stage.\"\"\"\n",
      "  |     path: str = dc.get_path()\n",
      "  |     common_template = Dat.get(dc, \"common\")\n",
      "  |     for stage_name, stage_template in Dat.get(dc, \"stages\").items():\n",
      "  |         sub_path: str = os.path.join(path, stage_name)\n",
      "  |         sub_spec = do.merge_configs(stage_template, common_template)\n",
      "  |         Dat.create(path=sub_path, spec=sub_spec)\n",
      "  |     return dc\n",
      "  | \n",
      "  | \n",
      "  | def mspipe_run(dc: DatContainer):\n",
      "  |     \"\"\"Sequentially runs each stage in the pipeline.\"\"\"\n",
      "  |     for stage_name, stage_spec in dc.get_spec()[\"stages\"].items():\n",
      "  |         dat_name = f\"{dc.get_path_name()}/{stage_name}\"\n",
      "  |         stage_dat = Dat.load(dat_name)\n",
      "  |         print(f\"Running {dat_name}\")\n",
      "  |         do(stage_dat)\n",
      "  |     Dat.set(dc.get_results(), \"dat.version\", DAT_VERSION)\n",
      "  |     return f\"Ran {len(dc.get_spec()['stages'])} stages in {dc.get_path_name()}\"\n",
      "  | \n",
      "  | \n",
      "  | def fake_mcproc_runner(dat: Dat):\n",
      "  |     \"\"\"Fake MCPROC stage runner.\n",
      "  | \n",
      "  |     These stages construct specified output files by concatenating\n",
      "  |     specified input files interspersed with specified constant strings.\n",
      "  | \n",
      "  |     Each output template begins with a string containing the path to write to\n",
      "  |     This is followed by a sequence of instructions:\n",
      "  |       >> xxxx ... indicates string constant xxxx should be appended to the output\n",
      "  |       << xxxx ... indicates the contents of the file xxxx should be added to output\n",
      "  | \n",
      "  |     Returns a string describing how many output files were built by this fake 'pass'\n",
      "  |     \"\"\"  # noqa\n",
      "  |     def build_line(template):\n",
      "  |         if template.startswith(\">>\"):\n",
      "  |             return template[2:]\n",
      "  |         elif template.startswith(\"<<\"):\n",
      "  |             p = os.path.join(dat.get_path(), template[2:])\n",
      "  |             with open(p) as out:\n",
      "  |                 return out.read()\n",
      "  |     outputs = Dat.get(dat, \"outputs\")\n",
      "  |     for path_spec, output_spec in outputs.items():\n",
      "  |         path = os.path.join(dat.get_path(), path_spec)\n",
      "  |         parts = [build_line(part) for part in output_spec]\n",
      "  |         with open(path, 'w') as f:\n",
      "  |             f.write('\\n'.join(parts))\n",
      "  |     return f\"Produced {len(outputs)} for run {dat.get_path_name()!r}\"\n",
      "  | \n",
      "\n",
      "\n"
     ]
    }
   ],
   "execution_count": 42
  },
  {
   "metadata": {
    "ExecuteTime": {
     "end_time": "2024-06-20T23:16:10.135442Z",
     "start_time": "2024-06-20T23:16:10.129553Z"
    }
   },
   "cell_type": "code",
   "source": "do(\"hello_mspipe\")",
   "outputs": [
    {
     "data": {
      "text/plain": [
       "'Ran 0 stages in runs/mspipe/24-06_4'"
      ]
     },
     "execution_count": 43,
     "metadata": {},
     "output_type": "execute_result"
    }
   ],
   "execution_count": 43
  },
  {
   "metadata": {},
   "cell_type": "markdown",
   "source": "## Here is an example of a three-stage pipe "
  },
  {
   "metadata": {
    "ExecuteTime": {
     "end_time": "2024-06-20T23:16:11.012770Z",
     "start_time": "2024-06-20T23:16:11.010211Z"
    }
   },
   "cell_type": "code",
   "source": "show_loadable(\"hello_mspipe/hello_std_args.json\")",
   "outputs": [
    {
     "name": "stdout",
     "output_type": "stream",
     "text": [
      "\n",
      "### SHOWING MODULE '.../hello_mspipe/hello_std_args.json'\n",
      "  | {\n",
      "  |   \"dat\": {\n",
      "  |     \"name\": \"mcproc_base\"\n",
      "  |   }\n",
      "  | }\n",
      "\n",
      "\n"
     ]
    }
   ],
   "execution_count": 44
  },
  {
   "metadata": {
    "ExecuteTime": {
     "end_time": "2024-06-20T23:16:11.637462Z",
     "start_time": "2024-06-20T23:16:11.635744Z"
    }
   },
   "cell_type": "code",
   "source": "",
   "outputs": [],
   "execution_count": 44
  },
  {
   "metadata": {
    "ExecuteTime": {
     "end_time": "2024-06-20T23:16:12.157133Z",
     "start_time": "2024-06-20T23:16:12.155111Z"
    }
   },
   "cell_type": "code",
   "source": [
    "\n",
    "show_loadable(\"hello_mspipe/hello_doubler.yaml\")\n"
   ],
   "outputs": [
    {
     "name": "stdout",
     "output_type": "stream",
     "text": [
      "\n",
      "### SHOWING MODULE '.../hello_mspipe/hello_doubler.yaml'\n",
      "  | ---\n",
      "  | dat:\n",
      "  |   __doc__: |\n",
      "  |     Each toplevel multi-stage pipeline will have a configuration file like this one.\n",
      "  |     \n",
      "  |     This (inane) multi-state pipeline has three stages:\n",
      "  |     - the preprocessing stage creates two outputs: gallery.txt and results.txt file\n",
      "  |     - the doubler stage doubles the results.txt file from the gallery for no good reason\n",
      "  |     - the final stage combines the gallery.txt and the doubler results doubled again\n",
      "  |     \n",
      "  |     This multi-stage pipe is designed as a regression suite where we \n",
      "  |     keep each run in a separate dated folder under the \"doubler\" subfolder\n",
      "  |     so when we have auto caching these runs will be cached into dated sub-folder\n",
      "  |     so we can run reports that graph performance over weeks and months.\n",
      "  | \n",
      "  |   base: hello_mspipe\n",
      "  |   kind: doubler    # We call this (inane) multi-stage pipeline a \"doubler\"\n",
      "  |   path: \"runs/doubler/{YYYY}-{MM}{unique}\"  # where result runs are stored\n",
      "  | \n",
      "  | common:\n",
      "  |   debug_level: 3    # The only new config parameter common to all stages\n",
      "  | \n",
      "  | stages:\n",
      "  | \n",
      "  |   preprocessing:\n",
      "  |     kind: gallery_stage\n",
      "  |     debug_level: 1\n",
      "  |     outputs:\n",
      "  |       gallery.txt:\n",
      "  |         - \">>This is not really a gallery.\"\n",
      "  |         - \">>It's just a file called gallery!\"\n",
      "  |       results.txt:\n",
      "  |         - \">>Stage 1: Results.txt line1\"\n",
      "  |         - \">>Stage 1: Results.txt line2\"\n",
      "  | \n",
      "  |   doubler:\n",
      "  |     kind: doubler_stage\n",
      "  |     outputs:\n",
      "  |       double_trouble.txt:\n",
      "  |         - \">>If results are good, then more results are better!\"\n",
      "  |         #  Notice fixed relative paths allow stages to grab data from prior stages\n",
      "  |         - \"<<../preprocessing/results.txt\"      # 1st copy\n",
      "  |         - \"<<../preprocessing/results.txt\"      # 2nd copy\n",
      "  | \n",
      "  |   final_stage:\n",
      "  |     kind: final_stage\n",
      "  |     outputs:\n",
      "  |       final_results.txt:\n",
      "  |         - \">>The Final results are in!  Gallery first:\"\n",
      "  |         - \"<<../preprocessing/gallery.txt\"\n",
      "  |         - \">>And now the results.  Doubled once more, just to be sure!\"\n",
      "  |         - \"<<../doubler/double_trouble.txt\"\n",
      "  |         - \"<<../doubler/double_trouble.txt\"\n",
      "  | \n",
      "\n",
      "\n"
     ]
    }
   ],
   "execution_count": 45
  },
  {
   "metadata": {
    "ExecuteTime": {
     "end_time": "2024-06-20T23:16:12.820954Z",
     "start_time": "2024-06-20T23:16:12.814491Z"
    }
   },
   "cell_type": "code",
   "source": "do(\"hello_mspipe/hello_doubler\")",
   "outputs": [
    {
     "name": "stdout",
     "output_type": "stream",
     "text": [
      "Running runs/doubler/2024-06_4/preprocessing\n",
      "Running runs/doubler/2024-06_4/doubler\n",
      "Running runs/doubler/2024-06_4/final_stage\n"
     ]
    },
    {
     "data": {
      "text/plain": [
       "'Ran 3 stages in runs/doubler/2024-06_4'"
      ]
     },
     "execution_count": 46,
     "metadata": {},
     "output_type": "execute_result"
    }
   ],
   "execution_count": 46
  },
  {
   "metadata": {},
   "cell_type": "markdown",
   "source": "##### Using 'quick hack' script to trigger during development"
  },
  {
   "metadata": {
    "ExecuteTime": {
     "end_time": "2024-06-20T23:16:13.356280Z",
     "start_time": "2024-06-20T23:16:13.353431Z"
    }
   },
   "cell_type": "code",
   "source": "show_loadable(\"sprint25.py\")",
   "outputs": [
    {
     "name": "stdout",
     "output_type": "stream",
     "text": [
      "\n",
      "### SHOWING MODULE '.../sprint25.py'\n",
      "  | import os\n",
      "  | from dvc_dat import do, Dat\n",
      "  | \n",
      "  | __main__ = {\n",
      "  |     \"dat\": {\n",
      "  |         \"base\": \"hello_mspipe/hello_doubler\",\n",
      "  |         \"path\": \"sprint25\",       # Use fixed folder during debugging\n",
      "  |         \"path_overwrite\": True,\n",
      "  |         \"do\": \"sprint25.run_it\"},\n",
      "  |     \"common\": {\n",
      "  |         \"debug\": 11}}\n",
      "  | \n",
      "  | \n",
      "  | def run_it(dat: Dat):\n",
      "  |     do(\"hello_mspipe.mspipe_build_and_run\", dat)\n",
      "  |     print()\n",
      "  |     result_file = os.path.join(dat.get_path(), \"final_stage/final_results.txt\")\n",
      "  |     os.system(f\"cat '{result_file}'\")\n",
      "  | \n",
      "  | \n",
      "  | if __name__ == \"__main__\":\n",
      "  |     do(\"sprint25\")\n",
      "  | \n",
      "\n",
      "\n"
     ]
    }
   ],
   "execution_count": 47
  },
  {
   "metadata": {
    "ExecuteTime": {
     "end_time": "2024-06-20T23:16:14.135406Z",
     "start_time": "2024-06-20T23:16:13.693990Z"
    }
   },
   "cell_type": "code",
   "source": "!./do sprint25",
   "outputs": [
    {
     "name": "stdout",
     "output_type": "stream",
     "text": [
      "Running sprint25/preprocessing\r\n",
      "Running sprint25/doubler\r\n",
      "Running sprint25/final_stage\r\n",
      "\r\n",
      "The Final results are in!  Gallery first:\r\n",
      "This is not really a gallery.\r\n",
      "It's just a file called gallery!\r\n",
      "And now the results.  Doubled once more, just to be sure!\r\n",
      "If results are good, then more results are better!\r\n",
      "Stage 1: Results.txt line1\r\n",
      "Stage 1: Results.txt line2\r\n",
      "Stage 1: Results.txt line1\r\n",
      "Stage 1: Results.txt line2\r\n",
      "If results are good, then more results are better!\r\n",
      "Stage 1: Results.txt line1\r\n",
      "Stage 1: Results.txt line2\r\n",
      "Stage 1: Results.txt line1\r\n",
      "Stage 1: Results.txt line2"
     ]
    }
   ],
   "execution_count": 48
  },
  {
   "metadata": {
    "ExecuteTime": {
     "end_time": "2024-06-20T23:16:15.069067Z",
     "start_time": "2024-06-20T23:16:14.136648Z"
    }
   },
   "cell_type": "code",
   "source": [
    "! echo --- sprint25 folder\n",
    "! ls -1 ./example_sync_folder/sprint25\n",
    "! echo\n",
    "! echo --- sprint25/preprocessing folder\n",
    "! ls -1 ./example_sync_folder/sprint25/preprocessing\n",
    "! echo\n",
    "! echo \"# SHOWING _results_.json\"\n",
    "! cat ./example_sync_folder/sprint25/_results_.json"
   ],
   "outputs": [
    {
     "name": "stdout",
     "output_type": "stream",
     "text": [
      "--- sprint25 folder\r\n",
      "_results_.json\r\n",
      "_spec_.json\r\n",
      "\u001B[34mdoubler\u001B[m\u001B[m\r\n",
      "\u001B[34mfinal_stage\u001B[m\u001B[m\r\n",
      "\u001B[34mpreprocessing\u001B[m\u001B[m\r\n",
      "\r\n",
      "--- sprint25/preprocessing folder\r\n",
      "_results_.json\r\n",
      "_spec_.json\r\n",
      "gallery.txt\r\n",
      "results.txt\r\n",
      "\r\n",
      "# SHOWING _results_.json\r\n",
      "{\r\n",
      "  \"dat\": {\r\n",
      "    \"version\": \"1.00.05 (2024-06-20)\",\r\n",
      "    \"run_time\": \"00:00:00.009\",\r\n",
      "    \"run_at\": \"2024-06-20 16:16:13\",\r\n",
      "    \"args\": [],\r\n",
      "    \"kwargs\": {}\r\n",
      "  }\r\n",
      "}"
     ]
    }
   ],
   "execution_count": 49
  },
  {
   "metadata": {},
   "cell_type": "code",
   "outputs": [],
   "execution_count": null,
   "source": ""
  }
 ],
 "metadata": {
  "kernelspec": {
   "display_name": "Python 3 (ipykernel)",
   "language": "python",
   "name": "python3"
  },
  "language_info": {
   "codemirror_mode": {
    "name": "ipython",
    "version": 3
   },
   "file_extension": ".py",
   "mimetype": "text/x-python",
   "name": "python",
   "nbconvert_exporter": "python",
   "pygments_lexer": "ipython3",
   "version": "3.12.0"
  }
 },
 "nbformat": 4,
 "nbformat_minor": 4
}
